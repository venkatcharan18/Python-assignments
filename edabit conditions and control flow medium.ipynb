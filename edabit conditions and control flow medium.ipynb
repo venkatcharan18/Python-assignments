{
 "cells": [
  {
   "cell_type": "code",
   "execution_count": 2,
   "id": "5dd6c80f",
   "metadata": {},
   "outputs": [
    {
     "data": {
      "text/plain": [
       "33"
      ]
     },
     "execution_count": 2,
     "metadata": {},
     "output_type": "execute_result"
    }
   ],
   "source": [
    "#1 Create a function that takes two number strings and returns their sum as a string.\n",
    "\n",
    "def add(n1, n2):\n",
    "    if n1=='' or n2=='' or n1==None or n2=='None':\n",
    "        return 'Invalid operation'\n",
    "    return int(n1)+int(n2)\n",
    "add('11','22')"
   ]
  },
  {
   "cell_type": "code",
   "execution_count": 8,
   "id": "92669a6b",
   "metadata": {},
   "outputs": [
    {
     "data": {
      "text/plain": [
       "1.0"
      ]
     },
     "execution_count": 8,
     "metadata": {},
     "output_type": "execute_result"
    }
   ],
   "source": [
    "#2 Create a function to find only the root value of x in any quadratic equation ax^2 + bx + c.\n",
    "\n",
    "def quadratic_equation(a,b,c):\n",
    "    d=((b**2)-(4*a*c))\n",
    "    if d>0:\n",
    "        return (-b+d**0.5)//(2*a)\n",
    "    else:\n",
    "        return 'invalid equation'\n",
    "quadratic_equation(1,2,-3)"
   ]
  },
  {
   "cell_type": "code",
   "execution_count": 12,
   "id": "7e7a52ae",
   "metadata": {},
   "outputs": [
    {
     "data": {
      "text/plain": [
       "[2, 1]"
      ]
     },
     "execution_count": 12,
     "metadata": {},
     "output_type": "execute_result"
    }
   ],
   "source": [
    "#3 In each input list, every number repeats at least once, except for two. Write a function that returns the two unique numbers.\n",
    "\n",
    "def return_unique(lst):\n",
    "    a=[]\n",
    "    for x in lst:\n",
    "        if lst.count(x)==1:\n",
    "            a.append(x)\n",
    "    return a\n",
    "return_unique([5, 5, 2, 4, 4, 4, 9, 9, 9, 1])"
   ]
  },
  {
   "cell_type": "code",
   "execution_count": 14,
   "id": "b3914803",
   "metadata": {},
   "outputs": [
    {
     "data": {
      "text/plain": [
       "3"
      ]
     },
     "execution_count": 14,
     "metadata": {},
     "output_type": "execute_result"
    }
   ],
   "source": [
    "#4 Create a function that takes two parameters and, if both parameters are strings,\n",
    "#add them as if they were integers or if the two parameters are integers, concatenate them.\n",
    "\n",
    "def stupid_addition(a, b):\n",
    "    if type(a)==str and type(b)==str:\n",
    "        return int(a)+int(b)\n",
    "    elif type(a)==int and type(b)==int:\n",
    "        return str(a)+str(b)\n",
    "    else:\n",
    "        return None\n",
    "stupid_addition('1','2')    "
   ]
  },
  {
   "cell_type": "code",
   "execution_count": 2,
   "id": "ff27faac",
   "metadata": {},
   "outputs": [
    {
     "data": {
      "text/plain": [
       "'UAAUCGCGCUAUAUGCGCAUG'"
      ]
     },
     "execution_count": 2,
     "metadata": {},
     "output_type": "execute_result"
    }
   ],
   "source": [
    "#5 Transcribe the given DNA strand into corresponding mRNA - a type of RNA, that will be formed from it after transcription \n",
    "#DNA has the bases A, T, G and C, while RNA converts to U, A, C and G respectively.\n",
    "\n",
    "def dna_to_rna(dna):\n",
    "    table=dna.maketrans('ATGC','UACG')\n",
    "    return dna.translate(table)\n",
    "dna_to_rna(\"ATTAGCGCGATATACGCGTAC\")"
   ]
  },
  {
   "cell_type": "code",
   "execution_count": 3,
   "id": "72e8abb8",
   "metadata": {},
   "outputs": [
    {
     "data": {
      "text/plain": [
       "59400"
      ]
     },
     "execution_count": 3,
     "metadata": {},
     "output_type": "execute_result"
    }
   ],
   "source": [
    "#6 Create a function that takes three values h-hours,m-minutes,s-seconds.\n",
    "#Return the value that's the longest duration\n",
    "\n",
    "def longest_time(h, m, s):\n",
    "    h1=h*3600\n",
    "    m1=m*60\n",
    "    if h1>m1 and h1>s:\n",
    "        return h\n",
    "    elif m1>h1 and m1>s:\n",
    "        return m\n",
    "    else:\n",
    "        return s\n",
    "longest_time(15, 955, 59400)    "
   ]
  },
  {
   "cell_type": "code",
   "execution_count": 4,
   "id": "f3524b87",
   "metadata": {},
   "outputs": [
    {
     "ename": "SyntaxError",
     "evalue": "invalid syntax (Temp/ipykernel_10704/3297833008.py, line 12)",
     "output_type": "error",
     "traceback": [
      "\u001b[1;36m  File \u001b[1;32m\"C:\\Users\\User\\AppData\\Local\\Temp/ipykernel_10704/3297833008.py\"\u001b[1;36m, line \u001b[1;32m12\u001b[0m\n\u001b[1;33m    elif\u001b[0m\n\u001b[1;37m         ^\u001b[0m\n\u001b[1;31mSyntaxError\u001b[0m\u001b[1;31m:\u001b[0m invalid syntax\n"
     ]
    }
   ],
   "source": [
    "#7 YouTube currently displays a like and a dislike button, allowing you to express your opinions about particular content.\n",
    "#It's set up in such a way that you cannot like and dislike a video at the same time.\n",
    "#There are two other interesting rules to be noted about the interface:\n",
    "#Pressing a button, which is already active, will undo your press.\n",
    "#If you press the like button after pressing the dislike button, the like button overwrites the previous \"dislike\" state.\n",
    "#The same is true for the other way round.\n",
    "#Create a function that takes in a list of button inputs and returns the final state.\n",
    "\n",
    "def like_or_dislike(lst):\n",
    "    if len(lst)==1:\n",
    "        return 'Like' if lst[0]=='Like' else 'Dislike'\n",
    "    else:\n",
    "        return 'nothing' if lst[-1]"
   ]
  },
  {
   "cell_type": "code",
   "execution_count": 7,
   "id": "70cddf01",
   "metadata": {},
   "outputs": [
    {
     "data": {
      "text/plain": [
       "['Like', 'Dislike']"
      ]
     },
     "execution_count": 7,
     "metadata": {},
     "output_type": "execute_result"
    }
   ],
   "source": [
    "#7l=[\"Like\", \"Dislike\", \"Dislike\"]\n",
    "l.pop()\n",
    "l"
   ]
  },
  {
   "cell_type": "code",
   "execution_count": 24,
   "id": "45dc1db6",
   "metadata": {},
   "outputs": [
    {
     "data": {
      "text/plain": [
       "'evenish'"
      ]
     },
     "execution_count": 24,
     "metadata": {},
     "output_type": "execute_result"
    }
   ],
   "source": [
    "#9 Create a function that determines whether a number is Oddish or Evenish. A number is Oddish\n",
    "#if the sum of all of its digits is odd,and a number is Evenish if the sum of all of its digits is even.\n",
    "#If a number is Oddish, return \"Oddish\". Otherwise, return \"Evenish\".\n",
    "\n",
    "def oddish_or_evenish(num):\n",
    "    a=0\n",
    "    while num>=1:\n",
    "        a=a+num%10\n",
    "        num=num//10\n",
    "    return 'oddish' if a%2!=0 else 'evenish'\n",
    "oddish_or_evenish(4433)"
   ]
  },
  {
   "cell_type": "code",
   "execution_count": 4,
   "id": "b79dac7b",
   "metadata": {},
   "outputs": [
    {
     "data": {
      "text/plain": [
       "'The code is ******'"
      ]
     },
     "execution_count": 4,
     "metadata": {},
     "output_type": "execute_result"
    }
   ],
   "source": [
    "#10 Create a function that takes a string and censors words over four characters with *.\n",
    "\n",
    "def censor(s):\n",
    "    a=s.split(' ')\n",
    "    for x in range(0,len(a)):\n",
    "        if len(a[x])>4:\n",
    "            a[x]='*'*len(a[x])\n",
    "    return ' '.join(a)  \n",
    "censor(\"The code is fourty\")"
   ]
  },
  {
   "cell_type": "code",
   "execution_count": 7,
   "id": "4815d6f4",
   "metadata": {},
   "outputs": [
    {
     "data": {
      "text/plain": [
       "'-+00'"
      ]
     },
     "execution_count": 7,
     "metadata": {},
     "output_type": "execute_result"
    }
   ],
   "source": [
    "#11 Given two strings comprised of + and -, return a new string which shows how the two strings \n",
    "#interact in the following way:\n",
    "#When positives and positives interact, they remain positive.\n",
    "#When negatives and negatives interact, they remain negative.\n",
    "#But when negatives and positives interact, they become neutral, and are shown as the number 0.\n",
    "\n",
    "def neutralise(s1, s2):\n",
    "    a=''\n",
    "    for x in range(len(s1)):\n",
    "        for y in range(len(s2)):\n",
    "            if x==y:\n",
    "                if s1[x]==s2[y]=='+':\n",
    "                    a+='+'\n",
    "                elif s1[x]==s2[y]=='-':\n",
    "                    a+='-'\n",
    "                else:\n",
    "                    a+='0'\n",
    "            else:\n",
    "                continue\n",
    "                    \n",
    "    return a   \n",
    "neutralise(\"-++-\", \"-+-+\")"
   ]
  },
  {
   "cell_type": "code",
   "execution_count": 2,
   "id": "9331516d",
   "metadata": {},
   "outputs": [
    {
     "data": {
      "text/plain": [
       "str"
      ]
     },
     "execution_count": 2,
     "metadata": {},
     "output_type": "execute_result"
    }
   ],
   "source": [
    "#12 Create a function (named fifth) that takes some arguments and returns the type of the fifth argument.\n",
    "#In case the arguments were less than 5, return \"Not enough arguments\".\n",
    "\n",
    "def fifth(*s):\n",
    "    return type(s[4])\n",
    "fifth(1, 2, 3, 4, '8')\n",
    "    "
   ]
  },
  {
   "cell_type": "code",
   "execution_count": 23,
   "id": "14b9698f",
   "metadata": {},
   "outputs": [
    {
     "data": {
      "text/plain": [
       "True"
      ]
     },
     "execution_count": 23,
     "metadata": {},
     "output_type": "execute_result"
    }
   ],
   "source": [
    "#13 Write a function that takes a list of two numbers and determines \n",
    "#if the sum of the digits in each number are equal to each other.\n",
    "\n",
    "def is_equal(lst):\n",
    "    a=0;b=0\n",
    "    while lst[0]>=1:\n",
    "        a+=lst[0]%10\n",
    "        lst[0]//=10\n",
    "    while lst[1]>=1:\n",
    "        b+=lst[1]%10\n",
    "        lst[1]//=10\n",
    "    return True if a==b else False\n",
    "is_equal([105, 42])"
   ]
  },
  {
   "cell_type": "code",
   "execution_count": 1,
   "id": "50290968",
   "metadata": {},
   "outputs": [
    {
     "data": {
      "text/plain": [
       "'3'"
      ]
     },
     "execution_count": 1,
     "metadata": {},
     "output_type": "execute_result"
    }
   ],
   "source": [
    "#14 Write a function that does the following operations: adding, subtracting, dividing, or multiplying values. \n",
    "#It is simply referred to as variable operation variable. Of course, the variables have to be defined, \n",
    "#but in this challenge the variables will be defined for you. All you have to do is look at the variables, \n",
    "#do some string to integer conversions, use some if conditionals, and combine them based on the operation.\n",
    "#The numbers and operation will be given as strings, and you should return the value as a string as well.\n",
    "\n",
    "def operation(a, b, op):\n",
    "    if op=='add':\n",
    "        a=int(a)+int(b)\n",
    "    elif op=='subtract':\n",
    "        a=int(a)-int(b)\n",
    "    elif op=='multiply':\n",
    "        a=int(a)*int(b)\n",
    "    elif op=='divide':\n",
    "        a=int(a)/int(b)\n",
    "    return str(a)\n",
    "operation(\"1\", \"2\", \"add\" )"
   ]
  },
  {
   "cell_type": "code",
   "execution_count": 3,
   "id": "4718aeef",
   "metadata": {},
   "outputs": [
    {
     "data": {
      "text/plain": [
       "[6, 3, 1, 6, 3, 1]"
      ]
     },
     "execution_count": 3,
     "metadata": {},
     "output_type": "execute_result"
    }
   ],
   "source": [
    "#15 Given a list of even length, copy the half with the higher sum of numbers to the other half of the list.\n",
    "#If the sum of the first half equals the sum of the second half, return the original list.\n",
    "\n",
    "def balanced(lst):\n",
    "    a=0;b=0\n",
    "    for x in range(len(lst)//2):\n",
    "        a+=lst[x]\n",
    "    for y in range(len(lst)//2,len(lst)):\n",
    "        b+=lst[y]\n",
    "    if a>b:\n",
    "        return lst[:len(lst)//2]+lst[:len(lst)//2]\n",
    "    elif b>a:\n",
    "        return lst[len(lst)//2:]+lst[len(lst)//2:]\n",
    "    else:\n",
    "        return lst\n",
    "balanced([1,2,4,6,3,1])"
   ]
  },
  {
   "cell_type": "code",
   "execution_count": 17,
   "id": "5383a271",
   "metadata": {},
   "outputs": [
    {
     "data": {
      "text/plain": [
       "'winner is p1'"
      ]
     },
     "execution_count": 17,
     "metadata": {},
     "output_type": "execute_result"
    }
   ],
   "source": [
    "#16 Create a function which takes two strings (p1 and p2 ⁠— which represent player 1 and 2) as arguments and returns a string\n",
    "#stating the winner in a game of Rock, Paper, Scissors.\n",
    "#Each argument will contain a single string: \"Rock\", \"Paper\", or \"Scissors\". Return the winner\n",
    "\n",
    "def rps(p1, p2):\n",
    "    if p1==p2:\n",
    "        return 'Draw'\n",
    "    elif (p1=='Rock' and p2=='Scissors') or (p1=='Scissors' and p2=='Paper') or (p1=='Paper' and p2=='Rock'):\n",
    "        return 'winner is p1'\n",
    "    \n",
    "    else:\n",
    "        return 'winner is p2'\n",
    "rps('Paper','Rock')                                             "
   ]
  },
  {
   "cell_type": "code",
   "execution_count": 1,
   "id": "714d7ee9",
   "metadata": {},
   "outputs": [
    {
     "ename": "SyntaxError",
     "evalue": "unexpected EOF while parsing (Temp/ipykernel_7536/3483413542.py, line 6)",
     "output_type": "error",
     "traceback": [
      "\u001b[1;36m  File \u001b[1;32m\"C:\\Users\\User\\AppData\\Local\\Temp/ipykernel_7536/3483413542.py\"\u001b[1;36m, line \u001b[1;32m6\u001b[0m\n\u001b[1;33m    \u001b[0m\n\u001b[1;37m    ^\u001b[0m\n\u001b[1;31mSyntaxError\u001b[0m\u001b[1;31m:\u001b[0m unexpected EOF while parsing\n"
     ]
    }
   ],
   "source": [
    "#17 A built-in timer inside your car can count the length of your ride in minutes and you have started your ride at 00:00.\n",
    "#Given the number of minutes n at the end of the ride, calculate the current time.\n",
    "#Return the sum of digits that the digital timer in the format hh:mm will show at the end of the ride.\n",
    "\n",
    "def car_timer(n):\n",
    "    "
   ]
  },
  {
   "cell_type": "code",
   "execution_count": 9,
   "id": "d7e76984",
   "metadata": {},
   "outputs": [
    {
     "data": {
      "text/plain": [
       "'m'"
      ]
     },
     "execution_count": 9,
     "metadata": {},
     "output_type": "execute_result"
    }
   ],
   "source": [
    "#18 Given two strings, return a string containing only the letters shared between the two.\n",
    "\n",
    "def shared_letters(a, b):\n",
    "    l=[]\n",
    "    for x in a.lower():\n",
    "        for y in b.lower():\n",
    "            if x==y:\n",
    "                l.append(x)\n",
    "    l.sort()\n",
    "    return ''.join(l)\n",
    "shared_letters(\"Micky\", \"mouse\")"
   ]
  },
  {
   "cell_type": "code",
   "execution_count": 24,
   "id": "1674c8bc",
   "metadata": {},
   "outputs": [
    {
     "data": {
      "text/plain": [
       "False"
      ]
     },
     "execution_count": 24,
     "metadata": {},
     "output_type": "execute_result"
    }
   ],
   "source": [
    "#19 Check if the given string consists of only letters and spaces and if every letter is in lower case\n",
    "\n",
    "def letters_only(s):\n",
    "    if len(s)>0:\n",
    "        for x in s:\n",
    "            if 1<=ord(x)<=31 or 33<=ord(x)<=96 or 123<=ord(x)<=127:\n",
    "                return False\n",
    "            else:\n",
    "                continue\n",
    "    else:\n",
    "        return False\n",
    "    return True\n",
    "letters_only('i have numbers(1-10)')    "
   ]
  },
  {
   "cell_type": "code",
   "execution_count": 3,
   "id": "70402e3f",
   "metadata": {},
   "outputs": [
    {
     "data": {
      "text/plain": [
       "3.33"
      ]
     },
     "execution_count": 3,
     "metadata": {},
     "output_type": "execute_result"
    }
   ],
   "source": [
    "#20 Create a function that outputs the results of a flashcard. A flashcard is a list of three elements:\n",
    "#a number, an operator symbol, and another number. Return the mathematical result of that expression.\n",
    "\n",
    "def flash(f):\n",
    "    if f[1]=='+':\n",
    "        return f[0]+f[2]\n",
    "    elif f[1]=='-':\n",
    "        return f[0]-f[2]\n",
    "    elif f[1]=='*':\n",
    "        return f[0]*f[2]\n",
    "    elif f[1]=='/':\n",
    "        if f[2]==0:\n",
    "            return None\n",
    "        else:\n",
    "            return round(f[0]/f[2],2)\n",
    "    else:\n",
    "        return None\n",
    "flash([10, \"/\", 3])    "
   ]
  },
  {
   "cell_type": "code",
   "execution_count": 4,
   "id": "93341e3b",
   "metadata": {},
   "outputs": [
    {
     "ename": "SyntaxError",
     "evalue": "unexpected EOF while parsing (Temp/ipykernel_14920/3628934683.py, line 5)",
     "output_type": "error",
     "traceback": [
      "\u001b[1;36m  File \u001b[1;32m\"C:\\Users\\User\\AppData\\Local\\Temp/ipykernel_14920/3628934683.py\"\u001b[1;36m, line \u001b[1;32m5\u001b[0m\n\u001b[1;33m    \u001b[0m\n\u001b[1;37m    ^\u001b[0m\n\u001b[1;31mSyntaxError\u001b[0m\u001b[1;31m:\u001b[0m unexpected EOF while parsing\n"
     ]
    }
   ],
   "source": [
    "#21 Given a list and chunk size \"n\", create a function such that it divides the list into many sublists\n",
    "#where each sublist is of length size \"n\".\n",
    "\n",
    "def chunk(array, size):\n",
    "    "
   ]
  },
  {
   "cell_type": "code",
   "execution_count": 6,
   "id": "0a46a701",
   "metadata": {},
   "outputs": [
    {
     "data": {
      "text/plain": [
       "[[1, 2]]"
      ]
     },
     "execution_count": 6,
     "metadata": {},
     "output_type": "execute_result"
    }
   ],
   "source": [
    "#22 "
   ]
  },
  {
   "cell_type": "code",
   "execution_count": 9,
   "id": "614f88b1",
   "metadata": {},
   "outputs": [
    {
     "data": {
      "text/plain": [
       "5"
      ]
     },
     "execution_count": 9,
     "metadata": {},
     "output_type": "execute_result"
    }
   ],
   "source": [
    "#23 Create a function that takedef major_sum(lst):s an integer list and return the biggest between positive sum,\n",
    "#negative sum, or 0s count.#The major is understood as the greatest absolute.\n",
    "\n",
    "def major_sum(lst):\n",
    "    a=0;b=0;c=lst.count(0)   \n",
    "    for x in lst:\n",
    "        if x>0:\n",
    "            a+=x\n",
    "        elif x<0:\n",
    "            b+=x\n",
    "        else:\n",
    "            continue\n",
    "    return a if a>abs(b) and a>c else b if abs(b)>a and abs(b)>c else c\n",
    "major_sum([0, 0, 0, 0, 0, 1, 2, -3])"
   ]
  },
  {
   "cell_type": "code",
   "execution_count": 19,
   "id": "dc4526b4",
   "metadata": {},
   "outputs": [
    {
     "data": {
      "text/plain": [
       "'amorphic'"
      ]
     },
     "execution_count": 19,
     "metadata": {},
     "output_type": "execute_result"
    }
   ],
   "source": [
    "#24 A number num, that elevated to the power of another number k \"ends\" with the same num, it's automorphic.\n",
    "#5² = 25.automorphic because \"25\" ends with \"5\". verify if the given number is automorphic for each power from 2 up to 10.\n",
    "\n",
    "def power_morphic(num):\n",
    "    a=0\n",
    "    for x in range(2,11):\n",
    "        n=num**x\n",
    "        if len(str(num))==2:\n",
    "            if n%100==num:\n",
    "                a+=1\n",
    "        elif len(str(num))==1:\n",
    "            if n%10==num:\n",
    "                a+=1\n",
    "        elif len(str(num))==3:\n",
    "            if n%1000==num:\n",
    "                a+=1\n",
    "    return 'polymorphic' if a==9 else 'quadrimorphic' if a==4 else 'dimorphic' if a==2 else 'enarmorphic' if a==1 else 'amorphic' if a==0 else None\n",
    "    \n",
    "power_morphic(10)"
   ]
  },
  {
   "cell_type": "code",
   "execution_count": 26,
   "id": "2065742f",
   "metadata": {},
   "outputs": [],
   "source": [
    "#25 Graded lexicographic order (grlex order for short) is a way of ordering words that:\n",
    "#First orders words by length.   Next   Then orders words of the same size by their dictionary order.\n",
    "\n",
    "def make_grlex(lst):\n",
    "    "
   ]
  },
  {
   "cell_type": "code",
   "execution_count": null,
   "id": "27619a1f",
   "metadata": {},
   "outputs": [],
   "source": []
  },
  {
   "cell_type": "code",
   "execution_count": 36,
   "id": "9f22ef84",
   "metadata": {},
   "outputs": [
    {
     "data": {
      "text/plain": [
       "'increasing'"
      ]
     },
     "execution_count": 36,
     "metadata": {},
     "output_type": "execute_result"
    }
   ],
   "source": [
    "#27 Write a function that takes a list and determines whether it's strictly increasing, strictly decreasing, or neither.\n",
    "\n",
    "def check(lst):\n",
    "    a=0;b=0\n",
    "    if len(lst)>=2:\n",
    "        for x in range(len(lst)):\n",
    "            if x==len(lst)-1:\n",
    "                    break\n",
    "            if lst[x]>lst[x+1]:\n",
    "                \n",
    "                a+=1\n",
    "                \n",
    "            elif lst[x]<lst[x+1]:\n",
    "                \n",
    "                b+=1\n",
    "    else:\n",
    "        return None\n",
    "    return 'increasing' if b==len(lst)-1 else 'decreasing' if a==len(lst)-1 else 'neither'\n",
    "check([1, 2, 3,4,5,6,7])"
   ]
  },
  {
   "cell_type": "code",
   "execution_count": 18,
   "id": "efae6061",
   "metadata": {},
   "outputs": [
    {
     "data": {
      "text/plain": [
       "16"
      ]
     },
     "execution_count": 18,
     "metadata": {},
     "output_type": "execute_result"
    }
   ],
   "source": [
    "#28 Create a function that takes a list consisting of dice rolls from 1-6.\n",
    "#Return the sum of your rolls with the following conditions:\n",
    "#If a 1 is rolled, that is bad luck. The next roll counts as 0.\n",
    "#If a 6 is rolled, that is good luck. The next roll is multiplied by 2.\n",
    "#The list length will always be 3 or higher.\n",
    "\n",
    "def rolls(lst):\n",
    "    a=0\n",
    "    for x in range(len(lst)):\n",
    "        if lst[x]==1:\n",
    "            if x-1>-1:\n",
    "                if lst[x-1]==6:\n",
    "                    continue\n",
    "            a+=lst[x]\n",
    "            if x+1>len(lst)-1:\n",
    "                break\n",
    "            a-=lst[x+1]\n",
    "            continue\n",
    "        if lst[x]==6:\n",
    "            if x-1>-1:\n",
    "                if lst[x-1]==1:\n",
    "                    continue\n",
    "            a+=lst[x]\n",
    "            if x+1>len(lst)-1:\n",
    "                break\n",
    "            a+=2*lst[x+1]\n",
    "            continue\n",
    "        if lst[x-1]==6 or lst[x-1]==1:\n",
    "            continue\n",
    "        a+=lst[x]\n",
    "    return a\n",
    "rolls([2,6,2,5,1])           "
   ]
  },
  {
   "cell_type": "code",
   "execution_count": 12,
   "id": "e236a8dc",
   "metadata": {},
   "outputs": [
    {
     "data": {
      "text/plain": [
       "'Tie'"
      ]
     },
     "execution_count": 12,
     "metadata": {},
     "output_type": "execute_result"
    }
   ],
   "source": [
    "#29 Abigail and Benson are playing Rock, Paper, Scissors.\n",
    "#Each game is represented by an array of length 2, where the first element represents what Abigail played and the \n",
    "#second element represents what Benson played.\n",
    "#Given a sequence of games, determine who wins the most number of matches. If they tie, output \"Tie\".\n",
    "\n",
    "def calculate_score(games):\n",
    "    a=0;b=0\n",
    "    for x in games:\n",
    "        if (x[0]=='R' and x[1]=='S') or (x[0]=='P' and x[1]=='R') or (x[0]=='S' and x[1]=='P'):\n",
    "            a+=1\n",
    "        elif x[0]==x[1]:\n",
    "            continue\n",
    "        else:\n",
    "            b+=1\n",
    "    return 'Abigail' if a>b else 'Benson' if a<b else 'Tie'\n",
    "calculate_score([[\"S\", \"R\"], [\"R\", \"S\"], [\"R\", \"R\"]])"
   ]
  },
  {
   "cell_type": "code",
   "execution_count": 23,
   "id": "6ece5e65",
   "metadata": {},
   "outputs": [
    {
     "data": {
      "text/plain": [
       "True"
      ]
     },
     "execution_count": 23,
     "metadata": {},
     "output_type": "execute_result"
    }
   ],
   "source": [
    "#30 There has been a masterdata issue which affected the prices of the products. Check if each product has a valid price \n",
    "#(integer or float, and greater than or equal to zero).Products with a price of 0 are free and count as a valid price.\n",
    "\n",
    "def has_valid_price(producT):\n",
    "    return producT and \"price\" in producT and producT[\"price\"] >= 0 and (type(producT['price'])==int or type(producT['price'])==float)\n",
    "has_valid_price({ \"product\": \"Milk\", \"price\": 1.50 })"
   ]
  },
  {
   "cell_type": "code",
   "execution_count": 11,
   "id": "313a10d0",
   "metadata": {},
   "outputs": [
    {
     "data": {
      "text/plain": [
       "['evil']"
      ]
     },
     "execution_count": 11,
     "metadata": {},
     "output_type": "execute_result"
    }
   ],
   "source": [
    "#31 A positive number's population is the sum of 1's in its binary representation.\n",
    "#->An evil number has an even numbered population.  ->An odious number has an odd numbered population.\n",
    "#->A number is pernicious if its population is a prime number.\n",
    "#Create a function that takes a number as an argument and returns a sorted list of all its descriptors\n",
    "#(\"Evil\", \"Odious\", or \"Pernicious\").\n",
    "\n",
    "def how_bad(n):\n",
    "    a=bin(n)[2:]\n",
    "    b=int(a)\n",
    "    c=0\n",
    "    f=0\n",
    "    e=[]\n",
    "    for x in a:\n",
    "        c+=int(x)\n",
    "    d=2\n",
    "    while d<c:\n",
    "        if c%d==0:\n",
    "            f+=1\n",
    "        d+=1\n",
    "    if c%2==0 and c==2:\n",
    "        e.append('evil')\n",
    "        e.append('pernicious')\n",
    "    elif c%2!=0 and f==0:\n",
    "        e.append('odious')\n",
    "        e.append('pernicious')\n",
    "    elif c%2!=0 and c==2:\n",
    "        e.append('odious')\n",
    "        e.append('pernicious')\n",
    "    elif c%2!=0 and f>0:\n",
    "        e.append('odious')\n",
    "        \n",
    "    elif c%2==0:\n",
    "        e.append('evil')\n",
    "        \n",
    "    return e\n",
    "            \n",
    "how_bad(23)"
   ]
  },
  {
   "cell_type": "code",
   "execution_count": 2,
   "id": "27de5ac3",
   "metadata": {},
   "outputs": [
    {
     "data": {
      "text/plain": [
       "'0b11010'"
      ]
     },
     "execution_count": 2,
     "metadata": {},
     "output_type": "execute_result"
    }
   ],
   "source": []
  },
  {
   "cell_type": "code",
   "execution_count": null,
   "id": "9b03bc1b",
   "metadata": {},
   "outputs": [],
   "source": []
  }
 ],
 "metadata": {
  "kernelspec": {
   "display_name": "Python 3 (ipykernel)",
   "language": "python",
   "name": "python3"
  },
  "language_info": {
   "codemirror_mode": {
    "name": "ipython",
    "version": 3
   },
   "file_extension": ".py",
   "mimetype": "text/x-python",
   "name": "python",
   "nbconvert_exporter": "python",
   "pygments_lexer": "ipython3",
   "version": "3.8.8"
  }
 },
 "nbformat": 4,
 "nbformat_minor": 5
}
