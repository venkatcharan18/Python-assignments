{
 "cells": [
  {
   "cell_type": "code",
   "execution_count": 1,
   "id": "d7a08509",
   "metadata": {},
   "outputs": [
    {
     "data": {
      "text/plain": [
       "'True'"
      ]
     },
     "execution_count": 1,
     "metadata": {},
     "output_type": "execute_result"
    }
   ],
   "source": [
    "#1 Create a function that takes a boolean variable flag and returns it as a string.\n",
    "def bool_to_string(flag):\n",
    "    return(str(flag))\n",
    "bool_to_string(True)   "
   ]
  },
  {
   "cell_type": "code",
   "execution_count": 2,
   "id": "ff48aa09",
   "metadata": {},
   "outputs": [
    {
     "data": {
      "text/plain": [
       "False"
      ]
     },
     "execution_count": 2,
     "metadata": {},
     "output_type": "execute_result"
    }
   ],
   "source": [
    "#2 function that returns True when num1 is equal to num2; otherwise return False.\n",
    "def same_num(a,b):\n",
    "    if a==b:\n",
    "        return True\n",
    "    else:\n",
    "        return False\n",
    "same_num(2,'2')    "
   ]
  },
  {
   "cell_type": "code",
   "execution_count": 3,
   "id": "40025eb3",
   "metadata": {},
   "outputs": [
    {
     "data": {
      "text/plain": [
       "False"
      ]
     },
     "execution_count": 3,
     "metadata": {},
     "output_type": "execute_result"
    }
   ],
   "source": [
    "#3 function that returns True when num=0\n",
    "def equal_0(c):\n",
    "    return c==0\n",
    "equal_0(4)    "
   ]
  },
  {
   "cell_type": "code",
   "execution_count": 62,
   "id": "38f58e14",
   "metadata": {},
   "outputs": [
    {
     "data": {
      "text/plain": [
       "'Hello, my Love!'"
      ]
     },
     "execution_count": 62,
     "metadata": {},
     "output_type": "execute_result"
    }
   ],
   "source": [
    "#4 Emmy has written a function that returns a greeting to users. However, she's in love with Mubashir, and would like to greet him slightly differently. She added a special case in her function, but she made a mistake.\n",
    "#Can you help her?\n",
    "def greeting(name):\n",
    "\n",
    "    if name == \"Mubashir\":\n",
    "        return \"Hello, my Love!\"\n",
    "    else:\n",
    "        return \"Hello, \" + name + \"!\"\n",
    "greeting(\"Mubashir\")    "
   ]
  },
  {
   "cell_type": "code",
   "execution_count": 63,
   "id": "71915269",
   "metadata": {},
   "outputs": [
    {
     "data": {
      "text/plain": [
       "True"
      ]
     },
     "execution_count": 63,
     "metadata": {},
     "output_type": "execute_result"
    }
   ],
   "source": [
    "#5 Both arguments are integers, a and b. Return True if one of them is 10 or if\n",
    "def makes10(a,b):\n",
    "    if a==10 or b==10 or a+b==10:\n",
    "        return True\n",
    "    else:\n",
    "        return False\n",
    "makes10(2,8)"
   ]
  },
  {
   "cell_type": "code",
   "execution_count": 64,
   "id": "ecda1ae1",
   "metadata": {},
   "outputs": [
    {
     "data": {
      "text/plain": [
       "True"
      ]
     },
     "execution_count": 64,
     "metadata": {},
     "output_type": "execute_result"
    }
   ],
   "source": [
    "#6 three arguments prob, prize, pay and returns True if prob * prize > pay; otherwise return\n",
    "def profitable_gamble(prob, prize, pay):\n",
    "    return prob * prize > pay\n",
    "profitable_gamble(2,3,4)"
   ]
  },
  {
   "cell_type": "code",
   "execution_count": 65,
   "id": "2aa37f41",
   "metadata": {},
   "outputs": [
    {
     "data": {
      "text/plain": [
       "False"
      ]
     },
     "execution_count": 65,
     "metadata": {},
     "output_type": "execute_result"
    }
   ],
   "source": [
    "#7 function that takes an integer and returns True if it's divisible by 10, otherwise return False.\n",
    "def divisible(num):\n",
    "    return num%10==0\n",
    "divisible(4)"
   ]
  },
  {
   "cell_type": "code",
   "execution_count": 66,
   "id": "29484c66",
   "metadata": {},
   "outputs": [
    {
     "data": {
      "text/plain": [
       "True"
      ]
     },
     "execution_count": 66,
     "metadata": {},
     "output_type": "execute_result"
    }
   ],
   "source": [
    "#8 comparing 2 strings if their length is same\n",
    "def comp(a,b):\n",
    "    return len(str(a))==len(str(b))\n",
    "comp('boom','moob')"
   ]
  },
  {
   "cell_type": "code",
   "execution_count": 68,
   "id": "ba300974",
   "metadata": {},
   "outputs": [
    {
     "data": {
      "text/plain": [
       "'even'"
      ]
     },
     "execution_count": 68,
     "metadata": {},
     "output_type": "execute_result"
    }
   ],
   "source": [
    "#9 Given a string, return True if its length is even or False if the length is odd.\n",
    "def odd_or_even(word):\n",
    "    if len(word)%2==0:\n",
    "        return 'even'\n",
    "    else:\n",
    "        return 'odd'\n",
    "odd_or_even('shit')    "
   ]
  },
  {
   "cell_type": "code",
   "execution_count": 10,
   "id": "3bb2a99f",
   "metadata": {},
   "outputs": [
    {
     "name": "stdout",
     "output_type": "stream",
     "text": [
      "pytpytpyt\n"
     ]
    }
   ],
   "source": [
    "#10 function that takes a string; we'll say that the front is the first three characters of the string. If the s\n",
    "def front3(txt):\n",
    "    if len(txt)>3:\n",
    "        print(txt[0:3]*3)\n",
    "    else:\n",
    "        print(txt*3)\n",
    "front3('python')        "
   ]
  },
  {
   "cell_type": "code",
   "execution_count": 11,
   "id": "92febc70",
   "metadata": {},
   "outputs": [
    {
     "data": {
      "text/plain": [
       "True"
      ]
     },
     "execution_count": 11,
     "metadata": {},
     "output_type": "execute_result"
    }
   ],
   "source": [
    "#11 function that shows a number is even or not\n",
    "def is_even(n):\n",
    "    return n%2==0\n",
    "is_even(2)"
   ]
  },
  {
   "cell_type": "code",
   "execution_count": 12,
   "id": "a9652e7b",
   "metadata": {},
   "outputs": [
    {
     "name": "stdout",
     "output_type": "stream",
     "text": [
      "Even\n"
     ]
    }
   ],
   "source": [
    "#12 func that tells a number is odd or even\n",
    "def isEvenOrOdd(num):\n",
    "   if num%2==0:\n",
    "    \n",
    "     print('Even')\n",
    "   else:\n",
    "     print('Odd')\n",
    "isEvenOrOdd(2)        "
   ]
  },
  {
   "cell_type": "code",
   "execution_count": 13,
   "id": "31d8c9e2",
   "metadata": {},
   "outputs": [],
   "source": [
    "#13 if the word is a plural\n",
    "def is_plural(word):\n",
    " return word[-1]=='s'\n",
    "    "
   ]
  },
  {
   "cell_type": "code",
   "execution_count": 14,
   "id": "705b5acf",
   "metadata": {},
   "outputs": [
    {
     "data": {
      "text/plain": [
       "True"
      ]
     },
     "execution_count": 14,
     "metadata": {},
     "output_type": "execute_result"
    }
   ],
   "source": [
    "#14 if word ends with letter n\n",
    "def is_last_character_n(word):\n",
    " return word[-1]=='n'\n",
    "is_last_character_n('sdvn')"
   ]
  },
  {
   "cell_type": "code",
   "execution_count": 15,
   "id": "1825013c",
   "metadata": {},
   "outputs": [
    {
     "data": {
      "text/plain": [
       "'bag'"
      ]
     },
     "execution_count": 15,
     "metadata": {},
     "output_type": "execute_result"
    }
   ],
   "source": [
    "#15 The packaging system is running wild! The candy is lying loose all over in the warehouse, the cereal is missing,\n",
    "#and bread is stuffed in a bottle. What is going on here? The candy should be in plastic and the bread should be in\n",
    "#a bag.\n",
    "#The packaging machine is running the get_container() function to retrieve the container of a product. But something is not right...\n",
    "#Examples\n",
    "#get_container(\"Bread\") ➞ \"bag\"\n",
    "#get_container(\"Beer\") ➞ \"bottle\"\n",
    "#get_container(\"Candy\") ➞ \"plastic\"\n",
    "#get_container(\"Cheese\") ➞ None\n",
    "\n",
    "def get_container_for(product):\n",
    "    \n",
    "    matches = {\"Bread\":\"bag\", \"Milk\":\"bottle\",\"Beer\":\"bottle\",\"Eggs\":\"carton\",\"Cerials\":\"box\",\"candy\":\"plastic\",\"cheese\":\"packet\"}\n",
    "    \n",
    "    return matches[product]\n",
    "get_container_for('Bread')"
   ]
  },
  {
   "cell_type": "code",
   "execution_count": 16,
   "id": "0d2530e2",
   "metadata": {},
   "outputs": [],
   "source": [
    "#16 function that returns the opposite of the given boolean, as a number.\n",
    "def flip_bool(given):\n",
    "    \n",
    "    if given==True or given==1:\n",
    "         return 0\n",
    "    elif given==False or given==0:\n",
    "        return 1"
   ]
  },
  {
   "cell_type": "code",
   "execution_count": 17,
   "id": "80158ac8",
   "metadata": {},
   "outputs": [],
   "source": [
    "#17 find area of triangle and parallelogram\n",
    "def area_shape(base, height, shape):\n",
    "    return {'triangle': 0.5*base*height, 'parallelogram': base*height}[shape]"
   ]
  },
  {
   "cell_type": "code",
   "execution_count": 18,
   "id": "51664f06",
   "metadata": {},
   "outputs": [],
   "source": [
    "#18 You will need to write three unfinished logic gates. Continue to write the three logic gates: AND, OR, and NOT.\n",
    "def AND(x,y):\n",
    "    if x==1 and y==1:\n",
    "        print(1)\n",
    "    else:\n",
    "        print(0)\n",
    "def OR(x,y):\n",
    "    if x==1 or y==1:\n",
    "        print(1)\n",
    "    else:\n",
    "        print(0)\n",
    "def NOT(x):\n",
    "    if x==1:\n",
    "        print(0)\n",
    "    else:\n",
    "        print(1)"
   ]
  },
  {
   "cell_type": "code",
   "execution_count": 19,
   "id": "8ff1b53d",
   "metadata": {},
   "outputs": [],
   "source": [
    "#19 A bartender is writing a simple program to determine whether he should serve drinks to someone. He only serves drinks to people 18 and older and when he's not on break.\n",
    "#Given the person's age, and whether break time is in session, create a function which returns whether he should serve drinks.\n",
    "#Examples\n",
    "#should_serve_drinks(17, True) ➞ False\n",
    "#should_serve_drinks(19, False) ➞ True\n",
    "#should_serve_drinks(30, True) ➞ False\n",
    "\n",
    "def should_serve_drinks(age, on_break):\n",
    "    if on_break==True:\n",
    "        return False\n",
    "    else:\n",
    "        if age>=18:\n",
    "            return True\n",
    "        else:\n",
    "            return False"
   ]
  },
  {
   "cell_type": "code",
   "execution_count": 20,
   "id": "464e222d",
   "metadata": {},
   "outputs": [
    {
     "data": {
      "text/plain": [
       "'odd'"
      ]
     },
     "execution_count": 20,
     "metadata": {},
     "output_type": "execute_result"
    }
   ],
   "source": [
    "#20 \n",
    "def parity(n):\n",
    "    remainder = bool(n % 2)\n",
    "    if remainder == False:\n",
    "        return \"even\"\n",
    "    if remainder == True:\n",
    "        return \"odd\"\n",
    "parity(3)    "
   ]
  },
  {
   "cell_type": "code",
   "execution_count": 21,
   "id": "4dc54ba5",
   "metadata": {},
   "outputs": [],
   "source": [
    "#21 list that contains the fulcrum \"f\", the effort \"e\", and the load \"l\", write a function that determines \n",
    "#whether or not the list shows a first class lever, second class lever, or a third class lever.\n",
    "#Examples\n",
    "#determine_lever([\"e\", \"f\", \"l\"]) ➞ \"first class lever\"\n",
    "#determine_lever([\"e\", \"l\", \"f\"]) ➞ \"second class lever\"\n",
    "#determine_lever([\"f\", \"e\", \"l\"]) ➞ \"third class lever\"\n",
    "\n",
    "def determine_lever(l):\n",
    "  if l[0]==\"e\" and l[1]==\"f\":\n",
    "            return \"first class lever\"\n",
    "  elif l[0]==\"f\" and l[1]==\"e\":\n",
    "            return \"third class lever\"\n",
    "  elif l[0]==\"e\" and l[1]==\"l\":\n",
    "            return \"second class lever\"\n",
    "  else:\n",
    "            return \"Not a lever class\""
   ]
  },
  {
   "cell_type": "code",
   "execution_count": 22,
   "id": "11057d86",
   "metadata": {},
   "outputs": [],
   "source": [
    "#22 function that checks whether a person can watch an MA15+ rated movie. One of the following two \n",
    "#conditions is required for admittance:\n",
    "#The person is at least 15 years old.\n",
    "#They have parental supervision.\n",
    "#The function accepts two parameters, age and is_supervised. Return a boolean.\n",
    "\n",
    "def accept_into_movie(age, is_supervised):\n",
    "    if age<15 and is_supervised==False:\n",
    "        return False\n",
    "    else:\n",
    "        return True"
   ]
  },
  {
   "cell_type": "code",
   "execution_count": 23,
   "id": "f479673f",
   "metadata": {},
   "outputs": [
    {
     "data": {
      "text/plain": [
       "4.0"
      ]
     },
     "execution_count": 23,
     "metadata": {},
     "output_type": "execute_result"
    }
   ],
   "source": [
    "#23 A taxi journey costs $3 for the first kilometer travelled. However, all kilometers travelled after that will cost $2 each.\n",
    "#Create a function which returns the distance that the taxi must've travelled, given the cost as a parameter.\n",
    "\n",
    "def journey_distance(n):\n",
    "    if n==3:\n",
    "        return 1\n",
    "    else:\n",
    "        return (n-1)/2\n",
    "journey_distance(9)    "
   ]
  },
  {
   "cell_type": "code",
   "execution_count": 24,
   "id": "16400b32",
   "metadata": {},
   "outputs": [],
   "source": [
    "#24 Create a function that returns a number, based on the string provided.\n",
    "def word(x):\n",
    "    y=x.lower()\n",
    "    num={\"one\":1,\"two\":2,\"three\":3,\"four\":4,\"five\":5,\"six\":6,\"seven\":7,\"eight\":8,\"nine\":9,\"zero\":0}\n",
    "    return num[y]"
   ]
  },
  {
   "cell_type": "code",
   "execution_count": 25,
   "id": "22399fd9",
   "metadata": {},
   "outputs": [
    {
     "data": {
      "text/plain": [
       "'yeah'"
      ]
     },
     "execution_count": 25,
     "metadata": {},
     "output_type": "execute_result"
    }
   ],
   "source": [
    "#25  Write a function that uses the ternary operator to return \"yeah\" if b is True, and \"nope\" otherwise.\n",
    "def yeah_nope(b):\n",
    "    return 'yeah' if b else 'nope'\n",
    "yeah_nope(True)"
   ]
  },
  {
   "cell_type": "code",
   "execution_count": 26,
   "id": "4cee4a1c",
   "metadata": {},
   "outputs": [
    {
     "data": {
      "text/plain": [
       "'Not a String'"
      ]
     },
     "execution_count": 26,
     "metadata": {},
     "output_type": "execute_result"
    }
   ],
   "source": [
    "#26 repeat the string by the given value in the function\n",
    "def repeat_string(txt, n):\n",
    "    if type(txt)==str:\n",
    "        return txt*n\n",
    "    else:\n",
    "        return 'Not a String'\n",
    "repeat_string(200,2)    "
   ]
  },
  {
   "cell_type": "code",
   "execution_count": 27,
   "id": "619cc7be",
   "metadata": {},
   "outputs": [
    {
     "data": {
      "text/plain": [
       "'grandson'"
      ]
     },
     "execution_count": 27,
     "metadata": {},
     "output_type": "execute_result"
    }
   ],
   "source": [
    "#27 Create a function that takes a number x and a character y (\"m\" for male, \"f\" for female), and returns the \n",
    "#name of an ancestor (m/f) or descendant (m/f).\n",
    "#If the number is negative, return the related ancestor.\n",
    "#If positive, return the related descendant.\n",
    "#You are generation 0. In the case of 0 (male or female), return \"me!\".\n",
    "def generation(x,y):\n",
    "    gen={-3:{'m':'great grandfather','f':'great grandmother'}, -2:{'m':'grand father','f':'grand mother'},\n",
    "         -1:{'m':'father','f':'mother'}, 0:{'m':'me','f':'me'} , 1:{'m':'son','f':'daughter'},\n",
    "         2:{'m':'grandson','f':'grand daughter'}, 3:{'m':'great grandson','f':'great grand daughter'}}\n",
    "    return gen[x][y]\n",
    "generation(2,'m')"
   ]
  },
  {
   "cell_type": "code",
   "execution_count": 28,
   "id": "0dbb4570",
   "metadata": {},
   "outputs": [
    {
     "data": {
      "text/plain": [
       "'Tie'"
      ]
     },
     "execution_count": 28,
     "metadata": {},
     "output_type": "execute_result"
    }
   ],
   "source": [
    "#28 Backpack Bill and Wallet Will set off for the annual festival. As they approach the stalls, Bill retorts that \n",
    "#he'll be able to bring home more stuff than Will. Taking this as a challenge, Will refutes and a competition \n",
    "#spurs into action.\n",
    "#Backpack Bill has an infinite inventory space, but a limited number of coins.\n",
    "#Wallet Will has an infinite number of coins, but a limited inventory space.\n",
    "#Create a function that returns the name of the man who can bring home the most items. The parameters are given\n",
    "#as follows:\n",
    "#Bill's amount of money.\n",
    "#Will's amount of inventory space.\n",
    "#The item's price.\n",
    "#The item's size.\n",
    "\n",
    "def who_wins_tonight(coins, space, price, size):\n",
    "    if int(coins/price)>int(space/size):\n",
    "        return 'Bill'\n",
    "    elif int(coins/price)<int(space/size):\n",
    "        return 'Will'\n",
    "    else:\n",
    "        return 'Tie'\n",
    "who_wins_tonight(3, 7, 2, 5)  "
   ]
  },
  {
   "cell_type": "code",
   "execution_count": 29,
   "id": "25f51475",
   "metadata": {},
   "outputs": [
    {
     "data": {
      "text/plain": [
       "False"
      ]
     },
     "execution_count": 29,
     "metadata": {},
     "output_type": "execute_result"
    }
   ],
   "source": [
    "#29 Create a function that validates whether a number n is within the bounds of lower and upper. Return False\n",
    "#if n is not an integer.\n",
    "#Examples\n",
    "#int_within_bounds(3, 1, 9) ➞ True\n",
    "#int_within_bounds(6, 1, 6) ➞ False\n",
    "#int_within_bounds(4.5, 3, 8) ➞ False\n",
    "def int_within_bounds(n, lower, upper):\n",
    "    if type(n)!=int:\n",
    "        return False\n",
    "    else:\n",
    "        if lower<n<upper:\n",
    "            return True\n",
    "        else:\n",
    "            return False\n",
    "int_within_bounds(4.5, 3, 8)       "
   ]
  },
  {
   "cell_type": "code",
   "execution_count": 30,
   "id": "e2e99f8c",
   "metadata": {},
   "outputs": [
    {
     "data": {
      "text/plain": [
       "'smaller'"
      ]
     },
     "execution_count": 30,
     "metadata": {},
     "output_type": "execute_result"
    }
   ],
   "source": [
    "#30 Write a function that returns the boolean True if the given number is zero, the string \"positive\" if the \n",
    "#number is greater than zero or the string \"negative\" if it's smaller than zero.\n",
    "def compare_to_100(x):\n",
    "    if x > 100:\n",
    "        return \"greater\"\n",
    "    elif x < 100:\n",
    "        return \"smaller\"\n",
    "    else:\n",
    "        return \"equal\"\n",
    "compare_to_100(45)    "
   ]
  },
  {
   "cell_type": "code",
   "execution_count": 31,
   "id": "cf7b0b8c",
   "metadata": {},
   "outputs": [
    {
     "data": {
      "text/plain": [
       "True"
      ]
     },
     "execution_count": 31,
     "metadata": {},
     "output_type": "execute_result"
    }
   ],
   "source": [
    "#31 Create a function that determines if the temp of the water is considered boiling or not. temp will be measured\n",
    "#in Fahrenheit and Celsius.\n",
    "\n",
    "def is_boiling(temp):\n",
    "    if temp.endswith('F')==True or temp.endswith('f')==True:\n",
    "        if int(temp[:-1])>=212:\n",
    "            return True\n",
    "        else:\n",
    "            return False\n",
    "    elif temp.endswith('c')==True or temp.endswith('C')==True:\n",
    "        if int(temp[:-1])>=100:\n",
    "            return True\n",
    "        else:\n",
    "            return False\n",
    "    else:\n",
    "        return False\n",
    "is_boiling(\"212f\")       "
   ]
  },
  {
   "cell_type": "code",
   "execution_count": 32,
   "id": "f7995024",
   "metadata": {},
   "outputs": [
    {
     "data": {
      "text/plain": [
       "[4, 3]"
      ]
     },
     "execution_count": 32,
     "metadata": {},
     "output_type": "execute_result"
    }
   ],
   "source": [
    "#32 create a func that returns n largest  numbers in the given list\n",
    "def largest_numbers(n, lst):\n",
    "    lst.sort(reverse=True)\n",
    "    return lst[0:n]\n",
    "largest_numbers(2, [4, 3, 2, 1])"
   ]
  },
  {
   "cell_type": "code",
   "execution_count": 33,
   "id": "1f398be6",
   "metadata": {},
   "outputs": [],
   "source": [
    "#33\n",
    "def first_one(a, b=None, c=None, d=None):\n",
    "    if bool(a) == True:\n",
    "        return a\n",
    "    elif bool(b) == True:\n",
    "        return b\n",
    "    elif bool(c) == True:\n",
    "        return c\n",
    "    elif bool(d) == True:\n",
    "        return d\n",
    "    else:\n",
    "        return \"not found\"\n",
    "    "
   ]
  },
  {
   "cell_type": "code",
   "execution_count": 34,
   "id": "e7fc5578",
   "metadata": {},
   "outputs": [
    {
     "data": {
      "text/plain": [
       "[[2, 4], [3, 5]]"
      ]
     },
     "execution_count": 34,
     "metadata": {},
     "output_type": "execute_result"
    }
   ],
   "source": [
    "#34 sepearte the given numbers as odd and even\n",
    "e=[]\n",
    "o=[]\n",
    "def clean_up_list(lst):\n",
    "    for x in lst:\n",
    "        if int(x)%2==0:\n",
    "            e.append(int(x))\n",
    "        else:\n",
    "            o.append(int(x))\n",
    "    return [e,o]  \n",
    "clean_up_list(['2','3','4','5'])"
   ]
  },
  {
   "cell_type": "code",
   "execution_count": 35,
   "id": "f9fc0734",
   "metadata": {},
   "outputs": [],
   "source": [
    " #x=[];y=[];even=[];odd=[]\n",
    "  #  for z in a:\n",
    "   #     l=int(z)\n",
    "    #    x.append(l)\n",
    "    #for s in x:\n",
    "     #   if s%2==0:\n",
    "      #      even.append(s)\n",
    "       # else:\n",
    "        #    odd.append(s)\n",
    "   # y.append(even)\n",
    "    #y.append(odd)\n",
    "    #return y"
   ]
  },
  {
   "cell_type": "code",
   "execution_count": 36,
   "id": "0d0200bd",
   "metadata": {},
   "outputs": [
    {
     "data": {
      "text/plain": [
       "True"
      ]
     },
     "execution_count": 36,
     "metadata": {},
     "output_type": "execute_result"
    }
   ],
   "source": [
    "#35 create a function to find whether we can form a triangle with the given sides length\n",
    "def is_triangle(a, b, c):\n",
    "    return a+b>c or a+c>b or b+c>a\n",
    "is_triangle(2, 3, 4)"
   ]
  },
  {
   "cell_type": "code",
   "execution_count": 37,
   "id": "48ba5249",
   "metadata": {},
   "outputs": [
    {
     "data": {
      "text/plain": [
       "False"
      ]
     },
     "execution_count": 37,
     "metadata": {},
     "output_type": "execute_result"
    }
   ],
   "source": [
    "#36 A \"truthy\" value is a value that translates to True when evaluated in a Boolean context. All values are truthy \n",
    "#unless they're defined as falsy.\n",
    "#All falsy values are as follows:\n",
    "#False, None, 0, [], {},\"\"\n",
    "#Create a function that takes an argument of any data type and returns 1 if it's truthy and 0 if it's falsy.\n",
    "\n",
    "def is_truthy(val):\n",
    "    return bool(val)\n",
    "is_truthy('')"
   ]
  },
  {
   "cell_type": "code",
   "execution_count": 38,
   "id": "4f413560",
   "metadata": {},
   "outputs": [
    {
     "data": {
      "text/plain": [
       "False"
      ]
     },
     "execution_count": 38,
     "metadata": {},
     "output_type": "execute_result"
    }
   ],
   "source": [
    "#37 Write a function that returns True if both numbers are:\n",
    "#Smaller than 0, OR ...\n",
    "#Greater than 0, OR ...\n",
    "#Exactly 0\n",
    "#Otherwise, return False.\n",
    "\n",
    "def both(n1, n2):\n",
    "    if n1>0 and n2>0:\n",
    "        return True\n",
    "    elif n1<0 and n2<0:\n",
    "        return True\n",
    "    elif n1==0 and n2==0:\n",
    "        return True\n",
    "    else:\n",
    "        return False\n",
    "both(0,2)    "
   ]
  },
  {
   "cell_type": "code",
   "execution_count": 39,
   "id": "5af3dc68",
   "metadata": {},
   "outputs": [],
   "source": [
    "#38 \n",
    "#Create a function that takes a range object r,index i,and returns a list where the first element is the number\n",
    "#of elements in the range object, and the second element is the element of the range object at the given index.\n",
    "\n",
    "def length_element(r,i):\n",
    "    l=[]\n",
    "    l.append(len(r))\n",
    "    l.append(r[i])\n",
    "    return l"
   ]
  },
  {
   "cell_type": "code",
   "execution_count": 40,
   "id": "f06ee250",
   "metadata": {},
   "outputs": [
    {
     "data": {
      "text/plain": [
       "False"
      ]
     },
     "execution_count": 40,
     "metadata": {},
     "output_type": "execute_result"
    }
   ],
   "source": [
    "#39 create a func to find whether the input string can be used as an variable\n",
    "def variable_valid(var):\n",
    "    return var.isidentifier()\n",
    "variable_valid('2wefv')        "
   ]
  },
  {
   "cell_type": "code",
   "execution_count": 41,
   "id": "779230a3",
   "metadata": {},
   "outputs": [
    {
     "data": {
      "text/plain": [
       "True"
      ]
     },
     "execution_count": 41,
     "metadata": {},
     "output_type": "execute_result"
    }
   ],
   "source": [
    "#40 In a board game, a piece may advance 1-6 tiles forward depending on the number rolled on a six-sided die. \n",
    "#If you advance your piece onto the same tile as another player's piece, both of you earn a bonus.Can you reach \n",
    "#your friend's tile number in the next roll? Create a function that returns if it's possible to earn a bonus when \n",
    "#you roll the die.\n",
    "def possible_bonus(a,b):\n",
    "    return a<b and b-a<=6\n",
    "possible_bonus(2,3)"
   ]
  },
  {
   "cell_type": "code",
   "execution_count": 42,
   "id": "88e1db67",
   "metadata": {},
   "outputs": [
    {
     "data": {
      "text/plain": [
       "True"
      ]
     },
     "execution_count": 42,
     "metadata": {},
     "output_type": "execute_result"
    }
   ],
   "source": [
    "#41 find 2 numbers are equal or not\n",
    "def is_equal(num1, num2):\n",
    "    return type(num1)==int and type(num2)==int and num1==num2\n",
    "is_equal(2,2)"
   ]
  },
  {
   "cell_type": "code",
   "execution_count": 43,
   "id": "84abb817",
   "metadata": {},
   "outputs": [
    {
     "data": {
      "text/plain": [
       "'Hello jose'"
      ]
     },
     "execution_count": 43,
     "metadata": {},
     "output_type": "execute_result"
    }
   ],
   "source": [
    "#42 Write a function that takes a string name and a number num (either 0 or 1) and return \"Hello\" + name if num\n",
    "#is 1, otherwise return \"Bye\" + name.\n",
    "\n",
    "def say_hello_bye(name, num):\n",
    "    if num==1:\n",
    "        return 'Hello '+ name\n",
    "    else:\n",
    "        return 'Bye ' + name\n",
    "say_hello_bye('jose',1)    "
   ]
  },
  {
   "cell_type": "code",
   "execution_count": 44,
   "id": "a5bd14f6",
   "metadata": {},
   "outputs": [
    {
     "data": {
      "text/plain": [
       "4.5"
      ]
     },
     "execution_count": 44,
     "metadata": {},
     "output_type": "execute_result"
    }
   ],
   "source": [
    "#43 Create a function that takes three number arguments — one number as an input and two additional numbers \n",
    "#representing the endpoints of a closed range — and return the number limited to this range.\n",
    "#If the number falls within the range, the number should be returned.\n",
    "#If the number is less than the lower limit of the range, the lower limit should be returned.\n",
    "#If the number is greater than the upper limit of the range, the upper limit should be returned.\n",
    "def limit_number(num,low,high):\n",
    "    if low<=num<=high:\n",
    "        return num\n",
    "    elif num<low:\n",
    "        return low\n",
    "    else:\n",
    "        return high\n",
    "limit_number(4.5,2,6)"
   ]
  },
  {
   "cell_type": "code",
   "execution_count": 45,
   "id": "663fd766",
   "metadata": {},
   "outputs": [
    {
     "data": {
      "text/plain": [
       "'Hello'"
      ]
     },
     "execution_count": 45,
     "metadata": {},
     "output_type": "execute_result"
    }
   ],
   "source": [
    "#44 If the number is a multiple of 3, return \"Hello\".\n",
    "#If the number is a multiple of 5, return \"World\".\n",
    "#If the number is a multiple of both 3 and 5, return \"Hello World\".\n",
    "\n",
    "def hello_world(num):\n",
    "    if num%3==0:\n",
    "        return 'Hello'\n",
    "    elif num%5==0:\n",
    "        return 'world'\n",
    "    elif num%3==0 and num%5==0:\n",
    "        return 'Hell0 World'\n",
    "    else:\n",
    "        return None\n",
    "hello_world(3)    "
   ]
  },
  {
   "cell_type": "code",
   "execution_count": 46,
   "id": "4e69d2ea",
   "metadata": {},
   "outputs": [
    {
     "data": {
      "text/plain": [
       "'**boom**'"
      ]
     },
     "execution_count": 46,
     "metadata": {},
     "output_type": "execute_result"
    }
   ],
   "source": [
    "#45 #For the purposes of this challenge, the style characters are as follows:\n",
    "#\"b\" is for bold\n",
    "#\"i\" is for italics\n",
    "#\"c\" is for inline code\n",
    "#\"s\" is for strikethrough\n",
    "def md_format(word, style):\n",
    "    if style=='b':\n",
    "        return '**'+word+'**'\n",
    "    elif style=='i':\n",
    "        return '_'+word+'_'\n",
    "    elif style=='c':\n",
    "        return '`'+word+'`'\n",
    "    elif style=='s':\n",
    "        return '~~'+word+'~~'\n",
    "    else:\n",
    "        return None\n",
    "md_format('boom','b')    "
   ]
  },
  {
   "cell_type": "code",
   "execution_count": 47,
   "id": "f1010691",
   "metadata": {},
   "outputs": [
    {
     "data": {
      "text/plain": [
       "True"
      ]
     },
     "execution_count": 47,
     "metadata": {},
     "output_type": "execute_result"
    }
   ],
   "source": [
    "#46 find the given year is a leap year or not\n",
    "def leap_year(y):\n",
    "    return y%4==0\n",
    "leap_year(2020)"
   ]
  },
  {
   "cell_type": "code",
   "execution_count": 48,
   "id": "df16a0a9",
   "metadata": {},
   "outputs": [
    {
     "data": {
      "text/plain": [
       "'neutral'"
      ]
     },
     "execution_count": 48,
     "metadata": {},
     "output_type": "execute_result"
    }
   ],
   "source": [
    "#47 find whether the object is acidic or alkaline given the ph value\n",
    "def ph(n):\n",
    "    if n>=0 and n<=14:\n",
    "        if n<7:\n",
    "            return 'acidic'\n",
    "        elif n>7:\n",
    "            return 'Alkaline'\n",
    "        else:\n",
    "            return 'neutral'\n",
    "    else:\n",
    "        return 'invalid'\n",
    "ph(7)    "
   ]
  },
  {
   "cell_type": "code",
   "execution_count": 49,
   "id": "11472659",
   "metadata": {},
   "outputs": [
    {
     "data": {
      "text/plain": [
       "5"
      ]
     },
     "execution_count": 49,
     "metadata": {},
     "output_type": "execute_result"
    }
   ],
   "source": [
    "#48 create a function that takes the dart location as two cartesian coordinates (x, y)\n",
    "#and returns a score based on the distance from the middle, aka Bullseye (x=0, y=0).\n",
    "#Bullseye and inner circle scores = 10 points\n",
    "#Middle ring scores = 5 points\n",
    "#Outer ring scores = 1 point\n",
    "#Outside the target = 0 points\n",
    "\n",
    "def darts_scoring(x, y):\n",
    "    r=((x**2)+(y**2))**0.5\n",
    "    if r<=1:\n",
    "        score=10\n",
    "    elif 1<r<=5:\n",
    "        score=5\n",
    "    elif 5<r<=10:\n",
    "        score=1\n",
    "    else:\n",
    "        score=0\n",
    "    return score\n",
    "darts_scoring(2,2)"
   ]
  },
  {
   "cell_type": "code",
   "execution_count": 50,
   "id": "f562c546",
   "metadata": {},
   "outputs": [
    {
     "data": {
      "text/plain": [
       "False"
      ]
     },
     "execution_count": 50,
     "metadata": {},
     "output_type": "execute_result"
    }
   ],
   "source": [
    "#49 Create a function that takes an array of hurdle heights and a jumper's jump height, and determine \n",
    "# whether or not the hurdler can clear all the hurdles.A hurdler can clear a hurdle if their \n",
    "# jump height is greater than or equal to the hurdle height.\n",
    "def hurdle_jump(hurdles, jump_height):\n",
    "    hurdles.sort()\n",
    "    if jump_height>=hurdles[-1]:\n",
    "        return True\n",
    "    else:\n",
    "        return False\n",
    "hurdle_jump([1, 2, 1], 1)    "
   ]
  },
  {
   "cell_type": "code",
   "execution_count": 51,
   "id": "1b0a29f5",
   "metadata": {},
   "outputs": [],
   "source": [
    "#def hurdle_jump(hurdles, jump_height):\n",
    " #   for x in hurdles:\n",
    "  #      if jump_height<=x:\n",
    "   #         return False\n",
    "    #    else:\n",
    "     #       return True\n",
    "#hurdle_jump([1, 2, 1], 1)"
   ]
  },
  {
   "cell_type": "code",
   "execution_count": 52,
   "id": "bdb33637",
   "metadata": {},
   "outputs": [
    {
     "data": {
      "text/plain": [
       "'scalene'"
      ]
     },
     "execution_count": 52,
     "metadata": {},
     "output_type": "execute_result"
    }
   ],
   "source": [
    "#50 find type of traingle with given sides\n",
    "\n",
    "def get_triangle_type(l):\n",
    "    if len(l)==3:\n",
    "        if l[0]==l[1]==l[2]:\n",
    "            return 'equilateral'\n",
    "        elif l[0]==l[1] or l[1]==l[2] or l[0]==l[2]:\n",
    "            return 'isoceles'\n",
    "        else:\n",
    "            return 'scalene'\n",
    "    else:\n",
    "        return 'not a triangle'\n",
    "get_triangle_type([2, 6, 5])    "
   ]
  },
  {
   "cell_type": "code",
   "execution_count": 53,
   "id": "47f7efd9",
   "metadata": {},
   "outputs": [
    {
     "data": {
      "text/plain": [
       "True"
      ]
     },
     "execution_count": 53,
     "metadata": {},
     "output_type": "execute_result"
    }
   ],
   "source": [
    "#51 find whether the rooks can attack each other\\\n",
    "\n",
    "def can_capture(rooks):\n",
    "    return rooks[0][0]==rooks[1][0] or rooks[0][1]==rooks[1][1]\n",
    "can_capture([\"A8\", \"E8\"])"
   ]
  },
  {
   "cell_type": "code",
   "execution_count": 54,
   "id": "41b1558b",
   "metadata": {},
   "outputs": [
    {
     "data": {
      "text/plain": [
       "4"
      ]
     },
     "execution_count": 54,
     "metadata": {},
     "output_type": "execute_result"
    }
   ],
   "source": [
    "#52  Given an integer n. Your task is to find how many digits this integer contains without using str or len method\n",
    "\n",
    "def sum_digits(n):\n",
    "    a=0\n",
    "    while n>=1:\n",
    "        a+=1\n",
    "        n/=10\n",
    "    return a    \n",
    "sum_digits(1200)        "
   ]
  },
  {
   "cell_type": "code",
   "execution_count": 55,
   "id": "c191f529",
   "metadata": {},
   "outputs": [
    {
     "data": {
      "text/plain": [
       "2"
      ]
     },
     "execution_count": 55,
     "metadata": {},
     "output_type": "execute_result"
    }
   ],
   "source": [
    "#53 Create a function that takes in a two-dimensional list and returns the number of sub-lists with only \n",
    "#identical elements.\n",
    "\n",
    "\n",
    "def count_identical(lst):\n",
    "    c=0\n",
    "    b=0\n",
    "    for x in lst:\n",
    "        if len(x)==1:\n",
    "            c+=1\n",
    "        else:\n",
    "            t=set(x)                                 #a=x[0];b=0\n",
    "            if len(t)==1:                            #for y in range(1,len(x)):\n",
    "                b+=1                                      #if a==x[y]:\n",
    "                t.clear()                                      #b+=1\n",
    "            else:                                    #if b>=1:     \n",
    "                t.clear()                                 #l+=1 \n",
    "               \n",
    "                                               #return l\n",
    "                    \n",
    "                \n",
    "    return c+b\n",
    "count_identical([ [\"@\", \"@\", \"@\", \"@\"],[2, 3], [3, 4], [4, 4]])\n",
    "        "
   ]
  },
  {
   "cell_type": "code",
   "execution_count": 56,
   "id": "7a3a0f67",
   "metadata": {},
   "outputs": [
    {
     "data": {
      "text/plain": [
       "'december'"
      ]
     },
     "execution_count": 56,
     "metadata": {},
     "output_type": "execute_result"
    }
   ],
   "source": [
    "#54 Create a function that takes a number (from 1 to 12) and returns its corresponding month name as a string. \n",
    "#For example, if you're given 3 as input, your function should return \"March\", because March is the 3rd month.\n",
    "\n",
    "def month_name(num):\n",
    "    m={1:'january',2:'febraury',3:'march',4:'april',5:'may',6:'june',7:'july',8:'august',9:'september',10:'october',11:'november',12:'december'}\n",
    "    return m[num]\n",
    "month_name(12)"
   ]
  },
  {
   "cell_type": "code",
   "execution_count": 57,
   "id": "951d9f68",
   "metadata": {},
   "outputs": [
    {
     "data": {
      "text/plain": [
       "['triplet', 'tries', 'trip']"
      ]
     },
     "execution_count": 57,
     "metadata": {},
     "output_type": "execute_result"
    }
   ],
   "source": [
    "#55 Create a function that takes an initial word and extracts any words that start with the same letters as\n",
    "#the initial word.\n",
    "\n",
    "def dictionary(initial, words):\n",
    "    y=[]\n",
    "    for x in words:\n",
    "        if initial==x[0:len(initial)]:\n",
    "            y.append(x)\n",
    "        else:\n",
    "            continue\n",
    "    return y        \n",
    "dictionary(\"tri\", [\"triplet\", \"tries\", \"trip\", \"piano\", \"tree\"])            "
   ]
  },
  {
   "cell_type": "code",
   "execution_count": 58,
   "id": "786140fb",
   "metadata": {},
   "outputs": [
    {
     "data": {
      "text/plain": [
       "['Pair']"
      ]
     },
     "execution_count": 58,
     "metadata": {},
     "output_type": "execute_result"
    }
   ],
   "source": [
    "#56 Create a function that takes a list of strings and returns the words that are exactly four letters.\n",
    "\n",
    "def is_four_letters(lst):\n",
    "    le=[]\n",
    "    for x in lst:\n",
    "        if len(x)==4:\n",
    "            le.append(x)\n",
    "        else:\n",
    "            continue\n",
    "    return le\n",
    "is_four_letters([\"Tomato\", \"Potato\", \"Pair\"])"
   ]
  },
  {
   "cell_type": "code",
   "execution_count": 59,
   "id": "65dc454d",
   "metadata": {},
   "outputs": [
    {
     "data": {
      "text/plain": [
       "'Rabbit'"
      ]
     },
     "execution_count": 59,
     "metadata": {},
     "output_type": "execute_result"
    }
   ],
   "source": [
    "#57 Create a function that takes a year as an argument and returns the corresponding Chinese zodiac.\n",
    "def chinese_zodiac(y):\n",
    "    if y%12==1:\n",
    "        return \"Rooster\"\n",
    "    elif y%12==2:\n",
    "        return \"Dog\"\n",
    "    elif y%12==3:\n",
    "        return \"Pig\"\n",
    "    elif y%12==4:\n",
    "        return \"Rat\"\n",
    "    elif y%12==5:\n",
    "        return \"Ox\"\n",
    "    elif y%12==6:\n",
    "        return \"Tiger\"\n",
    "    elif y%12==7:\n",
    "        return \"Rabbit\"\n",
    "    elif y%12==8:\n",
    "        return \"Dragon\"\n",
    "    elif y%12==9:\n",
    "        return \"Snake\"\n",
    "    elif y%12==10:\n",
    "        return \"Horse\"\n",
    "    elif y%12==11:\n",
    "        return \"Sheep\"\n",
    "    else:\n",
    "        return \"Monkey\"\n",
    "chinese_zodiac(1999)    "
   ]
  },
  {
   "cell_type": "code",
   "execution_count": 60,
   "id": "797c472a",
   "metadata": {},
   "outputs": [
    {
     "data": {
      "text/plain": [
       "False"
      ]
     },
     "execution_count": 60,
     "metadata": {},
     "output_type": "execute_result"
    }
   ],
   "source": [
    "#58 Two sisters are eating chocolate, whose pieces are represented as subarrays of [l x w].\n",
    "#Write a function that returns True if the total area of chocolate is the same for each sister.\n",
    "\n",
    "def test_fairness(agatha, bertha):\n",
    "    a=1\n",
    "    b=0\n",
    "    d=0\n",
    "    for x in agatha:                                  #a=0;b=0\n",
    "        for y in x:                                   #for x in agatha:\n",
    "            a=a*y                                     #a+=x[0]*x[1]\n",
    "        b+=a                                          # for x in bertha:\n",
    "        a=1                                           #b+=x[0]*x[1]\n",
    "    for x in bertha:                                  #return a==b\n",
    "        for y in x:\n",
    "            a*=y\n",
    "        d+=a\n",
    "        a=1\n",
    "    return b==d\n",
    "test_fairness([[1, 2], [2, 1]], [[2, 2], [4, 4]])"
   ]
  },
  {
   "cell_type": "code",
   "execution_count": 61,
   "id": "de72c7ba",
   "metadata": {},
   "outputs": [
    {
     "data": {
      "text/plain": [
       "'You PASSED the Exam'"
      ]
     },
     "execution_count": 61,
     "metadata": {},
     "output_type": "execute_result"
    }
   ],
   "source": [
    "#59 Failed or passed an exam. First parameter is the user's score. Second parameter is the required score.\n",
    "def grade_percentage(user_score, pass_score):\n",
    "    s=''\n",
    "    if int(user_score[:-1])<int(pass_score[:-1]) :\n",
    "        s=s+'FAILED'\n",
    "    if int(user_score[:-1])>=int(pass_score[:-1]) :\n",
    "        s=s+'PASSED'\n",
    "    return 'You'+' '+s+' '+'the Exam'\n",
    "grade_percentage(\"85%\", \"85%\")"
   ]
  },
  {
   "cell_type": "code",
   "execution_count": null,
   "id": "699c2d69",
   "metadata": {},
   "outputs": [],
   "source": []
  }
 ],
 "metadata": {
  "kernelspec": {
   "display_name": "Python 3 (ipykernel)",
   "language": "python",
   "name": "python3"
  },
  "language_info": {
   "codemirror_mode": {
    "name": "ipython",
    "version": 3
   },
   "file_extension": ".py",
   "mimetype": "text/x-python",
   "name": "python",
   "nbconvert_exporter": "python",
   "pygments_lexer": "ipython3",
   "version": "3.8.8"
  }
 },
 "nbformat": 4,
 "nbformat_minor": 5
}
