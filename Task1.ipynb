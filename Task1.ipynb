{
 "cells": [
  {
   "cell_type": "code",
   "execution_count": 5,
   "id": "ccfc5338",
   "metadata": {},
   "outputs": [
    {
     "name": "stdout",
     "output_type": "stream",
     "text": [
      "enter the string to convert:ARTBTE\n"
     ]
    },
    {
     "data": {
      "text/plain": [
       "'artbte'"
      ]
     },
     "execution_count": 5,
     "metadata": {},
     "output_type": "execute_result"
    }
   ],
   "source": [
    "#Write a python program to convert a string to lower case\n",
    "var=input('enter the string to convert:')\n",
    "var.lower()\n"
   ]
  },
  {
   "cell_type": "code",
   "execution_count": 6,
   "id": "d31136e4",
   "metadata": {},
   "outputs": [
    {
     "name": "stdout",
     "output_type": "stream",
     "text": [
      "enter the string:RGNBRGB\n"
     ]
    },
    {
     "data": {
      "text/plain": [
       "'RgNbRgB'"
      ]
     },
     "execution_count": 6,
     "metadata": {},
     "output_type": "execute_result"
    }
   ],
   "source": [
    "#Write a python program to convert only odd indexed characters to lower case\n",
    "var1=input('enter the string:')\n",
    "var2=''\n",
    "a =0\n",
    "while a<len(var1):\n",
    "    if a%2==0:\n",
    "        var2 = var2+ var1[a]\n",
    "    else:\n",
    "        var2 = var2+ var1[a].lower()\n",
    "    a+=1  \n",
    "var2      \n",
    "   "
   ]
  },
  {
   "cell_type": "code",
   "execution_count": 36,
   "id": "e52301a9",
   "metadata": {},
   "outputs": [
    {
     "name": "stdout",
     "output_type": "stream",
     "text": [
      "enter the string:ASDFGHJ\n"
     ]
    },
    {
     "data": {
      "text/plain": [
       "'aSdFgHj'"
      ]
     },
     "execution_count": 36,
     "metadata": {},
     "output_type": "execute_result"
    }
   ],
   "source": [
    "#Write a python program to convert only even indexed characters to lower case\n",
    "var3= input('enter the string:')\n",
    "var4=''\n",
    "for b in range(0,len(var3)):\n",
    "    if b%2!=0:\n",
    "        var4= var4+ var3[b]\n",
    "    else:\n",
    "        var4 = var4+ var3[b].lower()\n",
    "    b+=1    \n",
    "var4        "
   ]
  },
  {
   "cell_type": "code",
   "execution_count": 2,
   "id": "8932e378",
   "metadata": {},
   "outputs": [
    {
     "name": "stdout",
     "output_type": "stream",
     "text": [
      "enter the string:ugugvuu\n"
     ]
    },
    {
     "data": {
      "text/plain": [
       "'uGuGvUu'"
      ]
     },
     "execution_count": 2,
     "metadata": {},
     "output_type": "execute_result"
    }
   ],
   "source": [
    "#odd indexed to upper\n",
    "var5=input('enter the string:')\n",
    "var6=''\n",
    "c =0\n",
    "while a<len(var5):\n",
    "    if a%2==0:\n",
    "        var6 = var6+ var5[a]\n",
    "    else:\n",
    "        var6 = var6+ var5[a].upper()\n",
    "    c+=1  \n",
    "var6 "
   ]
  },
  {
   "cell_type": "code",
   "execution_count": 4,
   "id": "2296dae8",
   "metadata": {},
   "outputs": [
    {
     "name": "stdout",
     "output_type": "stream",
     "text": [
      "enter the string:fgbsfgbbg\n"
     ]
    },
    {
     "data": {
      "text/plain": [
       "'FgBsFgBbG'"
      ]
     },
     "execution_count": 4,
     "metadata": {},
     "output_type": "execute_result"
    }
   ],
   "source": [
    "#even indexed to upper\n",
    "var7= input('enter the string:')\n",
    "var8=''\n",
    "d=0\n",
    "while d<len(var7):\n",
    "    if d%2!=0:\n",
    "        var8= var8+ var7[d]\n",
    "    else:\n",
    "        var8 = var8+ var7[d].upper()\n",
    "    d+=1    \n",
    "var8   "
   ]
  },
  {
   "cell_type": "code",
   "execution_count": 28,
   "id": "94a3aa59",
   "metadata": {},
   "outputs": [
    {
     "name": "stdout",
     "output_type": "stream",
     "text": [
      "enter your name:venkat\n",
      "enter age:22\n",
      "enter your gender:male\n",
      "enter your mobile number:6767677883\n",
      "enter fathers name:srinivas\n",
      "enter mothers name:krishna\n",
      "My name is venkat\n",
      " My gender is male\n",
      "My age is 22\n",
      "My phone number is 6767677883\n",
      "My fathers name is srinivas\n",
      "My mothers name is krishna\n"
     ]
    }
   ],
   "source": [
    "#biodata\n",
    "name=input('enter your name:')\n",
    "age=int(input('enter age:'))\n",
    "gender=input('enter your gender:')\n",
    "phone_no=int(input('enter your mobile number:'))\n",
    "fathers_name=input('enter fathers name:')\n",
    "mothers_name=input('enter mothers name:')\n",
    "bio_data='My name is {}\\n My gender is {}\\nMy age is {}\\nMy phone number is {}\\nMy fathers name is {}\\nMy mothers name is {}'\n",
    "print(bio_data.format(name,gender,age,phone_no,fathers_name,mothers_name))"
   ]
  },
  {
   "cell_type": "code",
   "execution_count": 7,
   "id": "7e5c30ae",
   "metadata": {},
   "outputs": [
    {
     "name": "stdout",
     "output_type": "stream",
     "text": [
      "enter the string:@fdbdf@\n"
     ]
    },
    {
     "data": {
      "text/plain": [
       "2"
      ]
     },
     "execution_count": 7,
     "metadata": {},
     "output_type": "execute_result"
    }
   ],
   "source": [
    "#how many @ times\n",
    "count_=input('enter the string:')\n",
    "count_.count('@')"
   ]
  },
  {
   "cell_type": "code",
   "execution_count": 30,
   "id": "0de27590",
   "metadata": {},
   "outputs": [
    {
     "name": "stdout",
     "output_type": "stream",
     "text": [
      "name1,name2,name3\n"
     ]
    }
   ],
   "source": [
    "#only names\n",
    "name_string='name1.@gmail.com,name2.@gmail.com,name3.@gmail.com'\n",
    "new_str=name_string.split('.@gmail.com')\n",
    "new_str.pop()\n",
    "s=''\n",
    "for x in range(0,len(new_str)):\n",
    "    s = s+ new_str[x]\n",
    "print(s)    \n"
   ]
  },
  {
   "cell_type": "code",
   "execution_count": 29,
   "id": "6520ae22",
   "metadata": {},
   "outputs": [
    {
     "name": "stdout",
     "output_type": "stream",
     "text": [
      "enter the string:ababcdeabab\n",
      "cde\n"
     ]
    }
   ],
   "source": [
    "#print middle characters\n",
    "z=input('enter the string:')\n",
    "a=len(z)//2\n",
    "print(z[a-1:a+2])"
   ]
  },
  {
   "cell_type": "code",
   "execution_count": 31,
   "id": "fc321b28",
   "metadata": {},
   "outputs": [
    {
     "name": "stdout",
     "output_type": "stream",
     "text": [
      "enter string:abcdef\n",
      "enter other str:z\n",
      "abczdef\n"
     ]
    }
   ],
   "source": [
    "#print a string middle of other string\n",
    "q=input('enter string:')\n",
    "r=input('enter other str:')\n",
    "t=len(q)//2\n",
    "print(q[0:t]+r+q[t:])"
   ]
  },
  {
   "cell_type": "code",
   "execution_count": 34,
   "id": "6aeb3e99",
   "metadata": {},
   "outputs": [
    {
     "data": {
      "text/plain": [
       "'bcdfghjklmnpqrstvwxyz'"
      ]
     },
     "execution_count": 34,
     "metadata": {},
     "output_type": "execute_result"
    }
   ],
   "source": [
    "# remove vowels\n",
    "u='abcdefghijklmnopqrstuvwxyz'\n",
    "v=''\n",
    "for x in u:\n",
    "    if x=='a' or x=='e' or x=='i' or x=='o' or x=='u':\n",
    "        v=v+''\n",
    "    else:\n",
    "        v=v+x\n",
    "v        "
   ]
  },
  {
   "cell_type": "code",
   "execution_count": null,
   "id": "4371c5b9",
   "metadata": {},
   "outputs": [],
   "source": []
  }
 ],
 "metadata": {
  "kernelspec": {
   "display_name": "Python 3 (ipykernel)",
   "language": "python",
   "name": "python3"
  },
  "language_info": {
   "codemirror_mode": {
    "name": "ipython",
    "version": 3
   },
   "file_extension": ".py",
   "mimetype": "text/x-python",
   "name": "python",
   "nbconvert_exporter": "python",
   "pygments_lexer": "ipython3",
   "version": "3.8.8"
  }
 },
 "nbformat": 4,
 "nbformat_minor": 5
}
