{
 "cells": [
  {
   "cell_type": "code",
   "execution_count": 4,
   "id": "59b7fbe3",
   "metadata": {},
   "outputs": [
    {
     "name": "stdout",
     "output_type": "stream",
     "text": [
      "  *\n",
      "*   *\n",
      "* * *\n",
      "*   *\n",
      "*   *\n"
     ]
    }
   ],
   "source": [
    "x=0\n",
    "while x<5:\n",
    "    if x==0:\n",
    "        print(\"  *\")\n",
    "    elif x==1 or x==3 or x==4:\n",
    "        print(\"*   *\")\n",
    "    else:\n",
    "        print(\"* * *\")\n",
    "    x+=1    "
   ]
  },
  {
   "cell_type": "code",
   "execution_count": 5,
   "id": "f1567515",
   "metadata": {},
   "outputs": [
    {
     "name": "stdout",
     "output_type": "stream",
     "text": [
      "* * *\n",
      "*    *\n",
      "* * *\n",
      "*    *\n",
      "* * *\n"
     ]
    }
   ],
   "source": [
    "x=0\n",
    "while x<5:\n",
    "    if x==0 or x==2 or x==4:\n",
    "        print(\"* * *\")\n",
    "    elif x==1 or x==3:\n",
    "        print(\"*    *\")\n",
    "    else:\n",
    "        print(\"* * *\")\n",
    "    x+=1    "
   ]
  },
  {
   "cell_type": "code",
   "execution_count": 6,
   "id": "999fa2fd",
   "metadata": {},
   "outputs": [
    {
     "name": "stdout",
     "output_type": "stream",
     "text": [
      "* * *\n",
      "*\n",
      "*\n",
      "* * *\n"
     ]
    }
   ],
   "source": [
    "x=0\n",
    "while x<4:\n",
    "    if x==0 or x==3:\n",
    "        print(\"* * *\")\n",
    "    else:\n",
    "        print(\"*\")\n",
    "    x+=1    "
   ]
  },
  {
   "cell_type": "code",
   "execution_count": 7,
   "id": "cc6de2cb",
   "metadata": {},
   "outputs": [
    {
     "name": "stdout",
     "output_type": "stream",
     "text": [
      "* * *\n",
      "*    *\n",
      "*    *\n",
      "* * *\n"
     ]
    }
   ],
   "source": [
    "x=0\n",
    "while x<4:\n",
    "    if x==0 or x==3:\n",
    "        print(\"* * *\")\n",
    "    else:\n",
    "        print(\"*    *\")\n",
    "    x+=1"
   ]
  },
  {
   "cell_type": "code",
   "execution_count": 8,
   "id": "c899c3b0",
   "metadata": {},
   "outputs": [
    {
     "name": "stdout",
     "output_type": "stream",
     "text": [
      "* * *\n",
      "*\n",
      "* * *\n",
      "*\n",
      "* * *\n"
     ]
    }
   ],
   "source": [
    "x=0\n",
    "while x<5:\n",
    "    if x==0 or x==2 or x==4:\n",
    "        print(\"* * *\")\n",
    "    else:\n",
    "        print(\"*\")\n",
    "    x+=1    "
   ]
  },
  {
   "cell_type": "code",
   "execution_count": 9,
   "id": "09a2c859",
   "metadata": {},
   "outputs": [
    {
     "name": "stdout",
     "output_type": "stream",
     "text": [
      "* * * *\n",
      "*\n",
      "* * *\n",
      "*\n",
      "*\n"
     ]
    }
   ],
   "source": [
    "x=1\n",
    "while x<=20:\n",
    "    if x==1:\n",
    "        print(\"* * * *\")\n",
    "    elif x==4:\n",
    "        print(\"* * *\")\n",
    "    else:\n",
    "        print(\"*\")\n",
    "    x*=2    "
   ]
  },
  {
   "cell_type": "code",
   "execution_count": 10,
   "id": "691e50a5",
   "metadata": {},
   "outputs": [
    {
     "name": "stdout",
     "output_type": "stream",
     "text": [
      "* * * *\n",
      "*\n",
      "*   * * * * * \n",
      "*       *   *\n",
      "* * * * *   *\n"
     ]
    }
   ],
   "source": [
    "x=10\n",
    "while x<15:\n",
    "    if x==10:\n",
    "        print(\"* * * *\")\n",
    "    elif x==12:\n",
    "        print(\"*   * * * * * \")\n",
    "    elif x==14:\n",
    "        print(\"* * * * *   *\")\n",
    "    elif x==13:\n",
    "        print(\"*       *   *\")\n",
    "    else:\n",
    "        print(\"*\")\n",
    "    x+=1    "
   ]
  },
  {
   "cell_type": "code",
   "execution_count": 11,
   "id": "fa8d637d",
   "metadata": {},
   "outputs": [
    {
     "name": "stdout",
     "output_type": "stream",
     "text": [
      "*     *\n",
      "*     *\n",
      "* * * *\n",
      "*     *\n",
      "*     *\n"
     ]
    }
   ],
   "source": [
    "x=1010\n",
    "while x<1015:\n",
    "    if x==1012:\n",
    "        print(\"* * * *\")\n",
    "    else:\n",
    "        print('*     *')\n",
    "    x+=1    "
   ]
  },
  {
   "cell_type": "code",
   "execution_count": 12,
   "id": "eee15160",
   "metadata": {},
   "outputs": [
    {
     "name": "stdout",
     "output_type": "stream",
     "text": [
      "* * * * *\n",
      "    *\n",
      "    *\n",
      "    *\n",
      "* * * * *\n"
     ]
    }
   ],
   "source": [
    "x=10000\n",
    "while x>15:\n",
    "    if x==10000 or x==16:\n",
    "        print('* * * * *')\n",
    "    else:\n",
    "        print(\"    *\")\n",
    "    x//=5    "
   ]
  },
  {
   "cell_type": "code",
   "execution_count": 13,
   "id": "7c527ca9",
   "metadata": {},
   "outputs": [
    {
     "name": "stdout",
     "output_type": "stream",
     "text": [
      "* * * * *\n",
      "    *\n",
      "    *\n",
      " *  *\n",
      "  ***\n"
     ]
    }
   ],
   "source": [
    "x=100\n",
    "while x>95:\n",
    "    if x==100:\n",
    "        print(\"* * * * *\")\n",
    "    elif x==97:\n",
    "        print(' *  *')\n",
    "    elif x==96:\n",
    "        print(\"  ***\")\n",
    "    else:\n",
    "        print(\"    *\")\n",
    "    x-=1     "
   ]
  },
  {
   "cell_type": "code",
   "execution_count": 14,
   "id": "c95e6138",
   "metadata": {},
   "outputs": [
    {
     "name": "stdout",
     "output_type": "stream",
     "text": [
      "*    *\n",
      "*  *\n",
      "**\n",
      "*  *\n",
      "*    *\n"
     ]
    }
   ],
   "source": [
    "x=0\n",
    "while x<5:\n",
    "    if x==0 or x==4:\n",
    "        print('*    *')\n",
    "    elif x==2:\n",
    "        print('**')\n",
    "    else:\n",
    "        print(\"*  *\")\n",
    "    x+=1 "
   ]
  },
  {
   "cell_type": "code",
   "execution_count": 15,
   "id": "2693ba8c",
   "metadata": {},
   "outputs": [
    {
     "name": "stdout",
     "output_type": "stream",
     "text": [
      "*\n",
      "*\n",
      "*\n",
      "* * *\n"
     ]
    }
   ],
   "source": [
    "x=2\n",
    "while x<257:\n",
    "    if x==256:\n",
    "        print('* * *')\n",
    "    else:\n",
    "        print('*')\n",
    "    \n",
    "    \n",
    "    \n",
    "    \n",
    "    x**=2"
   ]
  },
  {
   "cell_type": "code",
   "execution_count": 16,
   "id": "bcaea832",
   "metadata": {},
   "outputs": [
    {
     "name": "stdout",
     "output_type": "stream",
     "text": [
      "*      *\n",
      "* *  * *\n",
      "*   *  *\n",
      "*      *\n",
      "*      *\n"
     ]
    }
   ],
   "source": [
    "x=0\n",
    "while x<5:\n",
    "    if x==0:\n",
    "        print('*      *')\n",
    "    elif x==1:\n",
    "        print('* *  * *')\n",
    "    elif x==2:\n",
    "        print('*   *  *')\n",
    "    else:\n",
    "        print('*      *')\n",
    "    \n",
    "    x+=1"
   ]
  },
  {
   "cell_type": "code",
   "execution_count": 17,
   "id": "c82fb081",
   "metadata": {},
   "outputs": [
    {
     "name": "stdout",
     "output_type": "stream",
     "text": [
      "*     *\n",
      "* *   *\n",
      "*   * *\n",
      "*     *\n"
     ]
    }
   ],
   "source": [
    "x=0\n",
    "while x<4:\n",
    "    if x==0:\n",
    "        print('*     *')\n",
    "    elif x==1:\n",
    "        print('* *   *')\n",
    "    elif x==2:\n",
    "        print('*   * *')\n",
    "    else:\n",
    "        print('*     *')\n",
    "    \n",
    "    \n",
    "    x+=1"
   ]
  },
  {
   "cell_type": "code",
   "execution_count": 18,
   "id": "7f3aef80",
   "metadata": {},
   "outputs": [
    {
     "name": "stdout",
     "output_type": "stream",
     "text": [
      "* * * *\n",
      "*     *\n",
      "*     *\n",
      "*     *\n",
      "* * * *\n"
     ]
    }
   ],
   "source": [
    "x=0\n",
    "while x<5:\n",
    "    if x==0 or x==4:\n",
    "        print('* * * *')\n",
    "    else:   \n",
    "        print('*     *')    \n",
    "    \n",
    "    x+=1"
   ]
  },
  {
   "cell_type": "code",
   "execution_count": 19,
   "id": "2e6a115d",
   "metadata": {},
   "outputs": [
    {
     "name": "stdout",
     "output_type": "stream",
     "text": [
      "* * *\n",
      "*   *\n",
      "* * *\n",
      "*\n",
      "*\n"
     ]
    }
   ],
   "source": [
    "x=0\n",
    "while x<5:\n",
    "    if x==0 or x==2:\n",
    "        print('* * *')\n",
    "    elif x==1:\n",
    "        print('*   *')\n",
    "    else:\n",
    "        print('*')\n",
    "    \n",
    "    \n",
    "    x+=1"
   ]
  },
  {
   "cell_type": "code",
   "execution_count": 20,
   "id": "7dc429a2",
   "metadata": {},
   "outputs": [
    {
     "name": "stdout",
     "output_type": "stream",
     "text": [
      "* * * *\n",
      "*     *\n",
      "*   * *\n",
      "* * * *\n",
      "       *\n"
     ]
    }
   ],
   "source": [
    "x=0\n",
    "while x<5:\n",
    "    if x==0 or x==3:\n",
    "        print('* * * *')\n",
    "    elif x==2:\n",
    "        print('*   * *')\n",
    "    elif x==4:\n",
    "        print('       *')\n",
    "    else:\n",
    "        print(\"*     *\")\n",
    "    \n",
    "    \n",
    "    x+=1"
   ]
  },
  {
   "cell_type": "code",
   "execution_count": 21,
   "id": "2e5b649b",
   "metadata": {},
   "outputs": [
    {
     "name": "stdout",
     "output_type": "stream",
     "text": [
      "* * * *\n",
      "*     *\n",
      "* * *\n",
      "*     *\n",
      "*      *\n"
     ]
    }
   ],
   "source": [
    "x=0\n",
    "while x<5:\n",
    "    if x==0:\n",
    "        print('* * * *')\n",
    "    elif x==4:\n",
    "        print(\"*      *\")\n",
    "    elif x==2:\n",
    "        print('* * *')\n",
    "    else:\n",
    "        print('*     *')\n",
    "    \n",
    "    \n",
    "    x+=1"
   ]
  },
  {
   "cell_type": "code",
   "execution_count": 22,
   "id": "85ac11cc",
   "metadata": {},
   "outputs": [
    {
     "name": "stdout",
     "output_type": "stream",
     "text": [
      "* * * *\n",
      "*\n",
      "* * * *\n",
      "      *\n",
      "* * * *\n"
     ]
    }
   ],
   "source": [
    "x=0\n",
    "while x<5:\n",
    "    if x==1:\n",
    "        print('*')\n",
    "    elif x==3:\n",
    "        print('      *')\n",
    "    else:\n",
    "        print('* * * *')\n",
    "    \n",
    "    \n",
    "    x+=1"
   ]
  },
  {
   "cell_type": "code",
   "execution_count": 23,
   "id": "e840a5ea",
   "metadata": {},
   "outputs": [
    {
     "name": "stdout",
     "output_type": "stream",
     "text": [
      "* * * * *\n",
      "    *\n",
      "    *\n",
      "    *\n",
      "    *\n"
     ]
    }
   ],
   "source": [
    "x=0\n",
    "while x<5:\n",
    "    if x==0:\n",
    "        print('* * * * *')\n",
    "    else:\n",
    "        print('    *')\n",
    "    \n",
    "    \n",
    "    x+=1"
   ]
  },
  {
   "cell_type": "code",
   "execution_count": 24,
   "id": "6d06dfac",
   "metadata": {},
   "outputs": [
    {
     "name": "stdout",
     "output_type": "stream",
     "text": [
      "*       *\n",
      "*       *\n",
      "*       *\n",
      "*       *\n",
      "* * * * *\n"
     ]
    }
   ],
   "source": [
    "x=0\n",
    "while x<5:\n",
    "    if x==4:\n",
    "        print('* * * * *')\n",
    "    else:\n",
    "        print('*       *')\n",
    "    \n",
    "    \n",
    "    x+=1"
   ]
  },
  {
   "cell_type": "code",
   "execution_count": 25,
   "id": "8b5da22c",
   "metadata": {},
   "outputs": [
    {
     "name": "stdout",
     "output_type": "stream",
     "text": [
      "*           *\n",
      "  *       *\n",
      "    *   *\n",
      "      *\n"
     ]
    }
   ],
   "source": [
    "x=0\n",
    "while x<4:\n",
    "    if x==3:\n",
    "        print('      *')\n",
    "    elif x==2:\n",
    "        print('    *   *')\n",
    "    elif x==1:\n",
    "        print('  *       *')\n",
    "    else:\n",
    "        print('*           *')\n",
    "    \n",
    "    \n",
    "    x+=1"
   ]
  },
  {
   "cell_type": "code",
   "execution_count": 26,
   "id": "dd8c394c",
   "metadata": {},
   "outputs": [
    {
     "name": "stdout",
     "output_type": "stream",
     "text": [
      "*        *\n",
      "*        *\n",
      "*    *   *\n",
      "*  *   * *\n",
      "*        *\n"
     ]
    }
   ],
   "source": [
    "x=0\n",
    "while x<5:\n",
    "    if x==2:\n",
    "        print('*    *   *')\n",
    "    elif x==3:\n",
    "        print('*  *   * *')\n",
    "    elif x==4:\n",
    "        print('*        *')\n",
    "    else:\n",
    "        print('*        *')\n",
    "    x+=1"
   ]
  },
  {
   "cell_type": "code",
   "execution_count": 27,
   "id": "f6d1e9e7",
   "metadata": {},
   "outputs": [
    {
     "name": "stdout",
     "output_type": "stream",
     "text": [
      "*     *\n",
      " *   *\n",
      "   *\n",
      " *   *\n",
      "*     *\n"
     ]
    }
   ],
   "source": [
    "x=0\n",
    "while x<5:\n",
    "    if x==0 or x==4:\n",
    "        print('*     *')\n",
    "    elif x==2:\n",
    "        print('   *')\n",
    "    else:\n",
    "        print(' *   *')\n",
    "    \n",
    "    \n",
    "    \n",
    "    x+=1"
   ]
  },
  {
   "cell_type": "code",
   "execution_count": 28,
   "id": "18a771b0",
   "metadata": {},
   "outputs": [
    {
     "name": "stdout",
     "output_type": "stream",
     "text": [
      "*       *\n",
      "  *   *\n",
      "    *\n",
      "    *\n",
      "    *\n"
     ]
    }
   ],
   "source": [
    "x=0\n",
    "while x<5:\n",
    "    if x==0:\n",
    "        print('*       *')\n",
    "    elif x==1:   \n",
    "        print('  *   *')\n",
    "    else:\n",
    "        print('    *')\n",
    "    x+=1"
   ]
  },
  {
   "cell_type": "code",
   "execution_count": 29,
   "id": "9a659156",
   "metadata": {},
   "outputs": [
    {
     "name": "stdout",
     "output_type": "stream",
     "text": [
      "* * * \n",
      "   *\n",
      "  *\n",
      " *\n",
      "* * * \n"
     ]
    }
   ],
   "source": [
    "x=0\n",
    "while x<5:\n",
    "    if x==1:\n",
    "        print('   *')\n",
    "    elif x==2:\n",
    "        print('  *')\n",
    "    elif x==3:\n",
    "        print(' *')\n",
    "    else:\n",
    "        print('* * * ')\n",
    "    \n",
    "    \n",
    "    x+=1"
   ]
  },
  {
   "cell_type": "code",
   "execution_count": 30,
   "id": "5b402a9d",
   "metadata": {},
   "outputs": [
    {
     "name": "stdout",
     "output_type": "stream",
     "text": [
      "*\n",
      "*\n",
      "* * *\n",
      "*   *\n",
      "* * *\n"
     ]
    }
   ],
   "source": [
    "x=0\n",
    "while x<5:\n",
    "    if x==0 or x==1:\n",
    "        print('*')\n",
    "    elif x==3:\n",
    "        print('*   *')\n",
    "    else:\n",
    "        print('* * *')\n",
    "    \n",
    "    \n",
    "    x+=1"
   ]
  },
  {
   "cell_type": "code",
   "execution_count": 31,
   "id": "bb764595",
   "metadata": {},
   "outputs": [
    {
     "name": "stdout",
     "output_type": "stream",
     "text": [
      "* * *\n",
      "*\n",
      "* * *\n"
     ]
    }
   ],
   "source": [
    "x=2\n",
    "while x<513:\n",
    "    if x==8:\n",
    "        print('*')\n",
    "    else:\n",
    "        print('* * *')\n",
    "    \n",
    "    x**=3"
   ]
  },
  {
   "cell_type": "code",
   "execution_count": 32,
   "id": "fc9d4472",
   "metadata": {},
   "outputs": [
    {
     "name": "stdout",
     "output_type": "stream",
     "text": [
      "    *\n",
      "    *\n",
      "    *\n",
      "* * *\n",
      "*   *\n",
      "* * **\n"
     ]
    }
   ],
   "source": [
    "x=0\n",
    "while x<6:\n",
    "    if x==3:\n",
    "        print('* * *')\n",
    "    elif x==4:\n",
    "        print('*   *')\n",
    "    elif x==5:\n",
    "        print('* * **')\n",
    "    else:\n",
    "        print('    *')\n",
    "    \n",
    "    x+=1"
   ]
  },
  {
   "cell_type": "code",
   "execution_count": 33,
   "id": "fed006a2",
   "metadata": {},
   "outputs": [
    {
     "name": "stdout",
     "output_type": "stream",
     "text": [
      "* * *\n",
      "* * *\n",
      "*\n",
      "* * *\n"
     ]
    }
   ],
   "source": [
    "x=0\n",
    "while x<4:\n",
    "    if x==2:\n",
    "        print('*')\n",
    "    \n",
    "    \n",
    "    else:\n",
    "        print('* * *')\n",
    "    x+=1"
   ]
  },
  {
   "cell_type": "code",
   "execution_count": 34,
   "id": "9b10c3dc",
   "metadata": {},
   "outputs": [
    {
     "name": "stdout",
     "output_type": "stream",
     "text": [
      "  ***\n",
      "  *\n",
      "*****\n",
      "  *\n",
      "  *\n"
     ]
    }
   ],
   "source": [
    "x=0\n",
    "while x<5:\n",
    "    if x==0:\n",
    "        print('  ***')\n",
    "    \n",
    "    elif x==2:\n",
    "        print('*****')\n",
    "    \n",
    "    else:\n",
    "        print('  *')\n",
    "    x+=1"
   ]
  },
  {
   "cell_type": "code",
   "execution_count": 35,
   "id": "cb7b0fac",
   "metadata": {},
   "outputs": [
    {
     "name": "stdout",
     "output_type": "stream",
     "text": [
      "* * *\n",
      "*   *\n",
      "* * *\n",
      "    *\n",
      " *  *\n",
      "  **\n"
     ]
    }
   ],
   "source": [
    "x=0\n",
    "while x<6:\n",
    "    if x==1:\n",
    "        print('*   *')\n",
    "    \n",
    "    elif x==3:\n",
    "        print('    *')\n",
    "    elif x==4:\n",
    "        print(' *  *')\n",
    "    elif x==5:\n",
    "        print('  **')\n",
    "    \n",
    "    else:\n",
    "        print('* * *')\n",
    "    x+=1"
   ]
  },
  {
   "cell_type": "code",
   "execution_count": 36,
   "id": "1f1fb709",
   "metadata": {},
   "outputs": [
    {
     "name": "stdout",
     "output_type": "stream",
     "text": [
      "*\n",
      "*\n",
      "*\n",
      "* * *\n",
      "*   *\n",
      "*   *\n"
     ]
    }
   ],
   "source": [
    "x=0\n",
    "while x<6:\n",
    "    if x==3:\n",
    "        print('* * *')\n",
    "    \n",
    "    elif x==4 or x==5:\n",
    "        print('*   *')\n",
    "    \n",
    "    else:\n",
    "        print('*')\n",
    "    x+=1"
   ]
  },
  {
   "cell_type": "code",
   "execution_count": 37,
   "id": "3ec7ee49",
   "metadata": {},
   "outputs": [
    {
     "name": "stdout",
     "output_type": "stream",
     "text": [
      " *\n",
      "* *\n",
      " *\n",
      "  \n",
      " *\n",
      " *\n",
      " *\n",
      " *\n"
     ]
    }
   ],
   "source": [
    "x=0\n",
    "while x<8:\n",
    "    if x==0 or x==2:\n",
    "        print(' *')\n",
    "    elif x==1:\n",
    "        print('* *')\n",
    "    elif x==3:\n",
    "        print('  ')\n",
    "    \n",
    "    else:\n",
    "        print(' *')\n",
    "    x+=1"
   ]
  },
  {
   "cell_type": "code",
   "execution_count": 38,
   "id": "85d53363",
   "metadata": {},
   "outputs": [
    {
     "name": "stdout",
     "output_type": "stream",
     "text": [
      "  *\n",
      " * *\n",
      "  *\n",
      " \n",
      "  * \n",
      "  * \n",
      "* *\n",
      " **\n"
     ]
    }
   ],
   "source": [
    "x=0\n",
    "while x<8:\n",
    "    if x==0 or x==2:\n",
    "        \n",
    "        print('  *')\n",
    "    \n",
    "    elif x==1:\n",
    "        print(' * *')\n",
    "    \n",
    "    elif x==3:\n",
    "        print(' ')\n",
    "    elif x==6:\n",
    "        print('* *')\n",
    "    elif x==7:\n",
    "        print(' **')\n",
    "    else:\n",
    "        print('  * ')\n",
    "    x+=1"
   ]
  },
  {
   "cell_type": "code",
   "execution_count": 39,
   "id": "e8510ce5",
   "metadata": {},
   "outputs": [
    {
     "name": "stdout",
     "output_type": "stream",
     "text": [
      "*\n",
      "*\n",
      "*\n",
      "*\n",
      "* *\n",
      "**\n",
      "* *\n"
     ]
    }
   ],
   "source": [
    "x=0\n",
    "while x<7:\n",
    "    if x==4 or x==6:\n",
    "        print('* *')\n",
    "    \n",
    "    elif x==5:\n",
    "        print('**')\n",
    "    \n",
    "    else:\n",
    "        print('*')\n",
    "    x+=1"
   ]
  },
  {
   "cell_type": "code",
   "execution_count": 40,
   "id": "61e497ab",
   "metadata": {},
   "outputs": [
    {
     "name": "stdout",
     "output_type": "stream",
     "text": [
      "*\n",
      "*\n",
      "*\n",
      "*\n",
      "*\n"
     ]
    }
   ],
   "source": [
    "x=0\n",
    "while x<5:\n",
    "    print('*')\n",
    "    x+=1"
   ]
  },
  {
   "cell_type": "code",
   "execution_count": 41,
   "id": "3c7cfeb4",
   "metadata": {},
   "outputs": [
    {
     "name": "stdout",
     "output_type": "stream",
     "text": [
      "*\n",
      "* * *\n",
      "*  *  *\n",
      "*  *  *\n",
      "*  *  *\n"
     ]
    }
   ],
   "source": [
    "x=0\n",
    "while x<5:\n",
    "    if x==0:\n",
    "        print('*')\n",
    "    \n",
    "    elif x==1:\n",
    "        print('* * *')\n",
    "    \n",
    "    else:\n",
    "        print('*  *  *')\n",
    "    x+=1"
   ]
  },
  {
   "cell_type": "code",
   "execution_count": 42,
   "id": "bfab0ba8",
   "metadata": {},
   "outputs": [
    {
     "name": "stdout",
     "output_type": "stream",
     "text": [
      "*\n",
      "* *\n",
      "*  *\n",
      "*  *\n"
     ]
    }
   ],
   "source": [
    "x=0\n",
    "while x<4:\n",
    "    if x==0:\n",
    "        print('*')\n",
    "    \n",
    "    elif x==1:\n",
    "        print('* *')\n",
    "    \n",
    "    else:\n",
    "        print('*  *')\n",
    "    x+=1"
   ]
  },
  {
   "cell_type": "code",
   "execution_count": 46,
   "id": "6296dcaa",
   "metadata": {},
   "outputs": [
    {
     "name": "stdout",
     "output_type": "stream",
     "text": [
      "*  *\n",
      "*  *\n"
     ]
    }
   ],
   "source": [
    "x=512\n",
    "while x>=2:\n",
    "    if x==8:\n",
    "        print('*   *')\n",
    "    \n",
    "    \n",
    "    else:\n",
    "        print('*  *')\n",
    "    x**=1/3"
   ]
  },
  {
   "cell_type": "code",
   "execution_count": 47,
   "id": "c7abb001",
   "metadata": {},
   "outputs": [
    {
     "name": "stdout",
     "output_type": "stream",
     "text": [
      "* * *\n",
      "*   *\n",
      "* * *\n",
      "*\n",
      "*\n",
      "*\n"
     ]
    }
   ],
   "source": [
    "x=0\n",
    "while x<6:\n",
    "    if x==0 or x==2:\n",
    "        print('* * *')\n",
    "    \n",
    "    elif x==1:\n",
    "        print('*   *')\n",
    "    \n",
    "    else:\n",
    "        print('*')\n",
    "    x+=1"
   ]
  },
  {
   "cell_type": "code",
   "execution_count": 48,
   "id": "94e2db57",
   "metadata": {},
   "outputs": [
    {
     "name": "stdout",
     "output_type": "stream",
     "text": [
      "* * *\n",
      "*   *\n",
      "* * *\n",
      "    *\n",
      "    * *\n",
      "    **\n"
     ]
    }
   ],
   "source": [
    "x=0\n",
    "while x<6:\n",
    "    if x==0 or x==2:\n",
    "        print('* * *')\n",
    "    \n",
    "    elif x==1:\n",
    "        print('*   *')\n",
    "    elif x==3:\n",
    "        print('    *')\n",
    "    elif x==4:\n",
    "        print('    * *')\n",
    "    \n",
    "    else:\n",
    "        print('    **')\n",
    "    x+=1"
   ]
  },
  {
   "cell_type": "code",
   "execution_count": 49,
   "id": "57c65702",
   "metadata": {},
   "outputs": [
    {
     "name": "stdout",
     "output_type": "stream",
     "text": [
      "*  **\n",
      "* *\n",
      "**\n",
      "*\n",
      "*\n"
     ]
    }
   ],
   "source": [
    "x=0\n",
    "while x<5:\n",
    "    if x==0:\n",
    "        print('*  **')\n",
    "    \n",
    "    elif x==1:\n",
    "        print('* *')\n",
    "    \n",
    "    elif x==2:\n",
    "        print('**')\n",
    "    else:\n",
    "        print('*')\n",
    "    x+=1"
   ]
  },
  {
   "cell_type": "code",
   "execution_count": 50,
   "id": "ed4df5df",
   "metadata": {},
   "outputs": [
    {
     "name": "stdout",
     "output_type": "stream",
     "text": [
      "****\n",
      "*\n",
      "****\n",
      "   *\n",
      "****\n"
     ]
    }
   ],
   "source": [
    "x=0\n",
    "while x<5:\n",
    "    if x==1:\n",
    "        print('*')\n",
    "    \n",
    "    elif x==3:\n",
    "        print('   *')\n",
    "    \n",
    "    else:\n",
    "        print('****')\n",
    "    x+=1"
   ]
  },
  {
   "cell_type": "code",
   "execution_count": 51,
   "id": "f8da5a85",
   "metadata": {},
   "outputs": [
    {
     "name": "stdout",
     "output_type": "stream",
     "text": [
      "  *\n",
      "* * *\n",
      "  *\n",
      "  *\n",
      "  * *\n",
      "  **\n"
     ]
    }
   ],
   "source": [
    "x=0\n",
    "while x<6:\n",
    "    if x==1:\n",
    "        print('* * *')\n",
    "    \n",
    "    elif x==4:\n",
    "        print('  * *')\n",
    "    \n",
    "    elif x==5:\n",
    "        print('  **')\n",
    "    else:\n",
    "        print('  *')\n",
    "    x+=1"
   ]
  },
  {
   "cell_type": "code",
   "execution_count": 52,
   "id": "cb72a387",
   "metadata": {},
   "outputs": [
    {
     "name": "stdout",
     "output_type": "stream",
     "text": [
      "*   *\n",
      "*   *\n",
      "* * **\n"
     ]
    }
   ],
   "source": [
    "x=0\n",
    "while x<3:\n",
    "    if x==2:\n",
    "        print('* * **')\n",
    "    \n",
    "    else:\n",
    "        print('*   *')\n",
    "    \n",
    "    \n",
    "    x+=1"
   ]
  },
  {
   "cell_type": "code",
   "execution_count": 53,
   "id": "86e05dfa",
   "metadata": {},
   "outputs": [
    {
     "name": "stdout",
     "output_type": "stream",
     "text": [
      "*   *\n",
      "*   *\n",
      "  *\n"
     ]
    }
   ],
   "source": [
    "x=0\n",
    "while x<3:\n",
    "    if x==2:\n",
    "        print('  *')\n",
    "    \n",
    "    \n",
    "    else:\n",
    "        print('*   *')\n",
    "    x+=1"
   ]
  },
  {
   "cell_type": "code",
   "execution_count": 54,
   "id": "19523c6a",
   "metadata": {},
   "outputs": [
    {
     "name": "stdout",
     "output_type": "stream",
     "text": [
      "*  *  *\n",
      "*  *  *\n",
      "  *  *\n"
     ]
    }
   ],
   "source": [
    "x=0\n",
    "while x<3:\n",
    "    if x==2:\n",
    "        print('  *  *')\n",
    "    \n",
    "    \n",
    "    \n",
    "    else:\n",
    "        print('*  *  *')\n",
    "    x+=1"
   ]
  },
  {
   "cell_type": "code",
   "execution_count": 55,
   "id": "56c73604",
   "metadata": {},
   "outputs": [
    {
     "name": "stdout",
     "output_type": "stream",
     "text": [
      "*   *\n",
      "  *\n",
      "*   *\n"
     ]
    }
   ],
   "source": [
    "x=0\n",
    "while x<3:\n",
    "    if x==1:\n",
    "        print('  *')\n",
    "    \n",
    "    \n",
    "    \n",
    "    else:\n",
    "        print('*   *')\n",
    "    x+=1"
   ]
  },
  {
   "cell_type": "code",
   "execution_count": 56,
   "id": "b5c6ba8b",
   "metadata": {},
   "outputs": [
    {
     "name": "stdout",
     "output_type": "stream",
     "text": [
      "*   *\n",
      "*   *\n",
      "  * *\n",
      "    *\n",
      "  * * \n",
      "   **\n"
     ]
    }
   ],
   "source": [
    "x=0\n",
    "while x<6:\n",
    "    if x==0 or x==1:\n",
    "        print('*   *')\n",
    "    \n",
    "    elif x==2:\n",
    "        print('  * *')\n",
    "    \n",
    "    elif x==3:\n",
    "        print('    *')\n",
    "    elif x==4:\n",
    "        print('  * * ')\n",
    "    else:\n",
    "        print('   **')\n",
    "    x+=1"
   ]
  },
  {
   "cell_type": "code",
   "execution_count": 57,
   "id": "ca108d59",
   "metadata": {},
   "outputs": [
    {
     "name": "stdout",
     "output_type": "stream",
     "text": [
      "* * *\n",
      "   *\n",
      " *\n",
      "* * *\n"
     ]
    }
   ],
   "source": [
    "x=0\n",
    "while x<4:\n",
    "    if x==2:\n",
    "        print(' *')\n",
    "    \n",
    "    elif x==1:\n",
    "        print('   *')\n",
    "    \n",
    "    else:\n",
    "        print('* * *')\n",
    "    x+=1"
   ]
  },
  {
   "cell_type": "code",
   "execution_count": 81,
   "id": "7fe9de50",
   "metadata": {},
   "outputs": [
    {
     "name": "stdout",
     "output_type": "stream",
     "text": [
      "* * *\n",
      "*   *\n",
      "*   * *\n",
      "* * **\n"
     ]
    }
   ],
   "source": [
    "x=0\n",
    "while x<4:\n",
    "    if x==0:\n",
    "        print('* * *')\n",
    "    \n",
    "    elif x==1:\n",
    "        print('*   *')\n",
    "    elif x==2:\n",
    "        print('*   * *')\n",
    "    else:\n",
    "        print('* * **')\n",
    "    x+=1"
   ]
  },
  {
   "cell_type": "code",
   "execution_count": null,
   "id": "5847ed84",
   "metadata": {},
   "outputs": [],
   "source": []
  }
 ],
 "metadata": {
  "kernelspec": {
   "display_name": "Python 3 (ipykernel)",
   "language": "python",
   "name": "python3"
  },
  "language_info": {
   "codemirror_mode": {
    "name": "ipython",
    "version": 3
   },
   "file_extension": ".py",
   "mimetype": "text/x-python",
   "name": "python",
   "nbconvert_exporter": "python",
   "pygments_lexer": "ipython3",
   "version": "3.8.8"
  }
 },
 "nbformat": 4,
 "nbformat_minor": 5
}
