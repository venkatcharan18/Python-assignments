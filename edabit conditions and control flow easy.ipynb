{
 "cells": [
  {
   "cell_type": "code",
   "execution_count": 2,
   "id": "25715973",
   "metadata": {},
   "outputs": [
    {
     "data": {
      "text/plain": [
       "'Luke, I am your father'"
      ]
     },
     "execution_count": 2,
     "metadata": {},
     "output_type": "execute_result"
    }
   ],
   "source": [
    "#1 Luke Skywalker has family and friends. Help him remind them who is who. \n",
    "#Given a string with a name, return the relation of that person to Luke.\n",
    "\n",
    "def relation_to_luke(name):\n",
    "    fam={'Darth Vader':'father','Leia':'sister','Han':'Brother in law','R2D2':'droid'}\n",
    "    return \"Luke, I am your \"+fam[name]\n",
    "relation_to_luke(\"Darth Vader\")"
   ]
  },
  {
   "cell_type": "code",
   "execution_count": 4,
   "id": "fc25c7f4",
   "metadata": {},
   "outputs": [
    {
     "data": {
      "text/plain": [
       "720000"
      ]
     },
     "execution_count": 4,
     "metadata": {},
     "output_type": "execute_result"
    }
   ],
   "source": [
    "#2 Create a function that takes damage and speed (attacks per second) and returns the amount of damage after a given time.\n",
    "\n",
    "def damage(damage, speed, time):\n",
    "    if time=='second':\n",
    "        return damage*speed\n",
    "    elif time=='minute':\n",
    "        return damage*speed*60\n",
    "    else:\n",
    "        return damage*speed*3600\n",
    "damage(2, 100, \"hour\")    "
   ]
  },
  {
   "cell_type": "code",
   "execution_count": 13,
   "id": "374c5717",
   "metadata": {},
   "outputs": [
    {
     "data": {
      "text/plain": [
       "True"
      ]
     },
     "execution_count": 13,
     "metadata": {},
     "output_type": "execute_result"
    }
   ],
   "source": [
    "#3 Create a function that takes a number as input and \n",
    "#returns True if the sum of its digits has the same parity as the entire number Otherwise, return False.\n",
    "\n",
    "def parity_analysis(num):\n",
    "    b=0;a=num\n",
    "    while a>=1:\n",
    "        b+=a%10\n",
    "        a//=10\n",
    "    return (b%2==0 and num%2==0) or (b%2!=0 and num%2!=0)\n",
    "parity_analysis(243)"
   ]
  },
  {
   "cell_type": "code",
   "execution_count": 9,
   "id": "28f913d0",
   "metadata": {},
   "outputs": [
    {
     "data": {
      "text/plain": [
       "True"
      ]
     },
     "execution_count": 9,
     "metadata": {},
     "output_type": "execute_result"
    }
   ],
   "source": [
    "#4 Create a function that takes a string, checks if it has the same number of \"x\"s and \"o\"s and returns either True or False. \n",
    "\n",
    "def XO(txt):\n",
    "    a=0;b=0\n",
    "    for y in txt:\n",
    "        if y.lower()=='x':\n",
    "            a+=1\n",
    "        elif y.lower()=='o':\n",
    "            b+=1\n",
    "        else:\n",
    "            continue\n",
    "    return a==b     \n",
    "XO(\"ooxXm\")"
   ]
  },
  {
   "cell_type": "code",
   "execution_count": 10,
   "id": "a2b1c2ff",
   "metadata": {},
   "outputs": [
    {
     "data": {
      "text/plain": [
       "'boolean expected'"
      ]
     },
     "execution_count": 10,
     "metadata": {},
     "output_type": "execute_result"
    }
   ],
   "source": [
    "#5 Create a function that reverses a boolean value and returns the string \"boolean expected\" if another variable type is given.\n",
    "\n",
    "def reverse(arg):\n",
    "    if type(arg)==bool:\n",
    "        return not(arg)\n",
    "    else:\n",
    "        return 'boolean expected'\n",
    "reverse(None)    "
   ]
  },
  {
   "cell_type": "code",
   "execution_count": 6,
   "id": "52b9e3ff",
   "metadata": {},
   "outputs": [
    {
     "data": {
      "text/plain": [
       "[2, 4, 6, 8]"
      ]
     },
     "execution_count": 6,
     "metadata": {},
     "output_type": "execute_result"
    }
   ],
   "source": [
    "#6 Using list comprehensions, create a function that finds all even numbers from 1 to the given number.\n",
    "\n",
    "def find_even_nums(num):\n",
    "    return [x for x in range(1,num+1) if x%2==0]\n",
    "find_even_nums(8)"
   ]
  },
  {
   "cell_type": "code",
   "execution_count": 8,
   "id": "55c41b51",
   "metadata": {},
   "outputs": [
    {
     "data": {
      "text/plain": [
       "[0, 1729]"
      ]
     },
     "execution_count": 8,
     "metadata": {},
     "output_type": "execute_result"
    }
   ],
   "source": [
    "#7 Create a function that takes a list of strings and integers,\n",
    "#and filters out the list so that it returns a list of integers only.\n",
    "\n",
    "def filter_list(l):\n",
    "    return [x for x in l if type(x)==int]\n",
    "filter_list([\"A\", 0, \"Edabit\", 1729, \"Python\", \"1729\"])"
   ]
  },
  {
   "cell_type": "code",
   "execution_count": 10,
   "id": "011c073e",
   "metadata": {},
   "outputs": [
    {
     "data": {
      "text/plain": [
       "[6, 3, 23, 17, 10]"
      ]
     },
     "execution_count": 10,
     "metadata": {},
     "output_type": "execute_result"
    }
   ],
   "source": [
    "#8 Write a function that takes a list and a number as arguments. Add the number to the end of the list\n",
    "#then remove the first element of the list.The function should then return the updated list.\n",
    "\n",
    "def next_in_line(lst, num):\n",
    "    if lst==[]:\n",
    "        return 'No list has been selected'\n",
    "    else:\n",
    "        lst.pop(0)\n",
    "        lst.append(num)\n",
    "    return lst\n",
    "next_in_line([7, 6, 3, 23, 17], 10)"
   ]
  },
  {
   "cell_type": "code",
   "execution_count": 14,
   "id": "8a663d57",
   "metadata": {},
   "outputs": [
    {
     "data": {
      "text/plain": [
       "1"
      ]
     },
     "execution_count": 14,
     "metadata": {},
     "output_type": "execute_result"
    }
   ],
   "source": [
    "#9 Create a function that counts the number and returns it from the list of cards provided.\n",
    "#2, 3, 4, 5, 6 are counted as +1     7, 8, 9 are counted as 0     10, J, Q, K, A are counted as -1\n",
    "\n",
    "def count(deck):\n",
    "    a=0\n",
    "    for x in deck:\n",
    "        if x in [2,3,4,5,6]:\n",
    "            a+=1\n",
    "        elif x in [10,'J','Q','K','A']:\n",
    "            a-=1\n",
    "        elif x==7 or x==8 or x==9:\n",
    "            continue\n",
    "        else:\n",
    "            return 'wrong input'\n",
    "            break      \n",
    "    return a\n",
    "count([5, 9, 10, 3, \"J\", \"A\", 4, 8, 5])"
   ]
  },
  {
   "cell_type": "code",
   "execution_count": 24,
   "id": "43d7c089",
   "metadata": {},
   "outputs": [
    {
     "data": {
      "text/plain": [
       "'p2'"
      ]
     },
     "execution_count": 24,
     "metadata": {},
     "output_type": "execute_result"
    }
   ],
   "source": [
    "#10 Given two strings,p1 and p2, return which person drew their gun the fastest. \n",
    "#If both are drawn at the same time, return \"tie\".\n",
    "\n",
    "def showdown(p1, p2):\n",
    "    a=0;b=0\n",
    "    for x in p1:                                        #a=p1.find('bang')\n",
    "        a+=1                                            #b=p2.find('bang')\n",
    "        if x!=' ':                                      #if a>b: return 'p2'\n",
    "            break                                       #if b>a: return 'p1'\n",
    "    for x in p2:                                        #else return tie\n",
    "        b+=1\n",
    "        if x!=' ':\n",
    "            break\n",
    "    if a>b:\n",
    "        return 'p2'\n",
    "    elif b>a:\n",
    "        return 'p1'\n",
    "    else:\n",
    "        return 'tie'\n",
    "showdown(\"               Bang! \",\"             Bang!   \")     \n",
    "        "
   ]
  },
  {
   "cell_type": "code",
   "execution_count": 27,
   "id": "8992508b",
   "metadata": {},
   "outputs": [
    {
     "data": {
      "text/plain": [
       "True"
      ]
     },
     "execution_count": 27,
     "metadata": {},
     "output_type": "execute_result"
    }
   ],
   "source": [
    "#11 Create a function that takes a number as an argument and returns True or False depending\n",
    "#on whether the number is symmetrical or not. A number is symmetrical when it is the same as its reverse.\n",
    "\n",
    "def is_symmetrical(num):\n",
    "    n=str(num)\n",
    "    return n==n[::-1]\n",
    "is_symmetrical(1112111)"
   ]
  },
  {
   "cell_type": "code",
   "execution_count": 7,
   "id": "b79fc3a1",
   "metadata": {},
   "outputs": [
    {
     "data": {
      "text/plain": [
       "'first'"
      ]
     },
     "execution_count": 7,
     "metadata": {},
     "output_type": "execute_result"
    }
   ],
   "source": [
    "#12 \"both\" if both given booleans a and b are True.\n",
    "#\"first\" if only a is True.\n",
    "#\"second\" if only b is True .\n",
    "#\"neither\" if both a and b are False.\n",
    "\n",
    "\n",
    "def both_bool_or_not(a,b):\n",
    "    return 'both' if a and b else 'first' if a else 'second' if b else 'neither'\n",
    "both_bool_or_not(True,False)"
   ]
  },
  {
   "cell_type": "code",
   "execution_count": 4,
   "id": "3267c625",
   "metadata": {},
   "outputs": [
    {
     "data": {
      "text/plain": [
       "'Safe Watching!'"
      ]
     },
     "execution_count": 4,
     "metadata": {},
     "output_type": "execute_result"
    }
   ],
   "source": [
    "#13 I'm trying to watch some lectures to study for my next exam but I keep getting distracted by meme compilations,\n",
    "#vine compilations, anime, and more on my favorite video platform.\n",
    "#Your job is to help me create a function that takes a string and checks to see if it contains the following words or phrases\n",
    "\n",
    "def prevent_distractions(txt):\n",
    "    for x in [\"anime\",\"meme\",\"vines\",\"roasts\",\"Danny DeVito\"]:\n",
    "        \n",
    "        if x in txt.split(\" \"):\n",
    "            return 'No!'\n",
    "        \n",
    "    return 'Safe Watching!'\n",
    "prevent_distractions(\"How to ace BC Calculus in 5 Easy Steps\")        "
   ]
  },
  {
   "cell_type": "code",
   "execution_count": 6,
   "id": "35d68aeb",
   "metadata": {},
   "outputs": [
    {
     "data": {
      "text/plain": [
       "2"
      ]
     },
     "execution_count": 6,
     "metadata": {},
     "output_type": "execute_result"
    }
   ],
   "source": [
    "#14 Create a function that takes three integer arguments (a, b, c) and returns the amount of integers which are of equal value.\n",
    "\n",
    "def equal(a, b, c):\n",
    "    if a==b==c:\n",
    "        return 3\n",
    "    elif a==b or b==c or c==a:\n",
    "        return 2\n",
    "    elif a!=b!=c:\n",
    "      return 0\n",
    "equal(3, 4, 3)\n",
    "      "
   ]
  },
  {
   "cell_type": "code",
   "execution_count": 102,
   "id": "0e073d00",
   "metadata": {},
   "outputs": [
    {
     "data": {
      "text/plain": [
       "False"
      ]
     },
     "execution_count": 102,
     "metadata": {},
     "output_type": "execute_result"
    }
   ],
   "source": [
    "#15 Create a function which validates whether a 3 character string is a vowel sandwich.\n",
    "#In order to have a valid sandwich, the string must satisfy the following rules:\n",
    "#The first and last characters must be a consonant.\n",
    "#The character in the middle must be a vowel.\n",
    "\n",
    "def is_vowel_sandwich(s):\n",
    "    s_=s.lower()\n",
    "    if len(s_)==3:\n",
    "        if s_[1] in 'aeiou' and s_[0] not in 'aeiou' and s_[2] not in 'aeiou':\n",
    "            return True\n",
    "        else:\n",
    "            return False\n",
    "    else:\n",
    "        return False\n",
    "is_vowel_sandwich('ear')     "
   ]
  },
  {
   "cell_type": "code",
   "execution_count": 72,
   "id": "90ce3308",
   "metadata": {},
   "outputs": [
    {
     "data": {
      "text/plain": [
       "'aeieWhts th tm?'"
      ]
     },
     "execution_count": 72,
     "metadata": {},
     "output_type": "execute_result"
    }
   ],
   "source": [
    "#16 Write a function that takes a string, breaks it up and returns it with vowels first, consonants second. For any character\n",
    "#that's not a vowel (like special characters or spaces), treat them like consonants.\n",
    "\n",
    "def split(txt):\n",
    "    l=[];m=[]\n",
    "    for x in txt:                                            #vow='';con=;\n",
    "        l.append(x)                                          #for x in txt:\n",
    "    for x in l:                                                  #if x.lower() in 'aeiou':\n",
    "        if x in 'aeiou':                                          #    vow+=x\n",
    "            m.append(x)                                          #else:\n",
    "    for x in l:                                                   #    con+=x \n",
    "        if x not in 'aeiou':                                 #return vow+con\n",
    "            m.append(x)\n",
    "    return ''.join(m)    \n",
    "split('Whats the time?')    "
   ]
  },
  {
   "cell_type": "code",
   "execution_count": 24,
   "id": "4c6f965a",
   "metadata": {},
   "outputs": [
    {
     "data": {
      "text/plain": [
       "{'Letters': 7, 'Digits': 3}"
      ]
     },
     "execution_count": 24,
     "metadata": {},
     "output_type": "execute_result"
    }
   ],
   "source": [
    "#17 Write a function that takes a string and calculates the number of letters and digits within it.\n",
    "#Return the result in a dictionary.\n",
    "\n",
    "def count_all(txt):\n",
    "    dic={'Letters':0,'Digits':0}\n",
    "    for x in txt:\n",
    "        if x.isalpha()==True:\n",
    "            dic['Letters']+=1\n",
    "        elif x.isdigit()==True:\n",
    "            dic['Digits']+=1\n",
    "        else:\n",
    "            continue\n",
    "    return dic\n",
    "count_all(\"H3ll0 Wor1d\")"
   ]
  },
  {
   "cell_type": "code",
   "execution_count": 27,
   "id": "3780dcf3",
   "metadata": {},
   "outputs": [
    {
     "data": {
      "text/plain": [
       "15"
      ]
     },
     "execution_count": 27,
     "metadata": {},
     "output_type": "execute_result"
    }
   ],
   "source": [
    "#18 Lists can be mixed with various types. Your task for this challenge is to sum all the number elements in the given list. \n",
    "#Create a function that takes a list and returns the sum of all numbers in the list.\n",
    "\n",
    "def numbers_sum(lst):\n",
    "    a=0\n",
    "    for x in lst:\n",
    "        if type(x)==int:\n",
    "            a+=x\n",
    "        else:\n",
    "            continue\n",
    "    return a\n",
    "numbers_sum([1, 2, 3, 4, 5, True])"
   ]
  },
  {
   "cell_type": "code",
   "execution_count": 28,
   "id": "b24f23c7",
   "metadata": {},
   "outputs": [],
   "source": [
    "#19 \n",
    "\n",
    "class Person:\n",
    "    def __init__(self,name,age):\n",
    "        self.name=name\n",
    "        self.age=age\n",
    "        \n",
    "    def compare_age(self,other):\n",
    "        print('{}')\n",
    "      "
   ]
  },
  {
   "cell_type": "code",
   "execution_count": 29,
   "id": "5bd19a10",
   "metadata": {},
   "outputs": [],
   "source": [
    "#20 Write a function that returns the boolean True if the given two lists do not share any numbers, and False otherwise.\n",
    "\n",
    "def not_share(lst1, lst2):\n",
    "    for i in lst1:\n",
    "        for j in lst2:\n",
    "            if i == j:\n",
    "                return False\n",
    "    return True\n"
   ]
  },
  {
   "cell_type": "code",
   "execution_count": 48,
   "id": "7d2b20db",
   "metadata": {},
   "outputs": [
    {
     "data": {
      "text/plain": [
       "'j4v45cr1pt 15 c00l'"
      ]
     },
     "execution_count": 48,
     "metadata": {},
     "output_type": "execute_result"
    }
   ],
   "source": [
    "#21 Create a function that takes a string as an argument and returns a coded (h4ck3r 5p34k) version of the string.\n",
    "\n",
    "def hacker_speak(txt):\n",
    "    rep={'a':'4','e':'3','i':'1','o':'0','s':'5'}\n",
    "    for x in txt:                                          #for x in rep:\n",
    "        if x in rep:                                            #txt=txt.replace(x,rep[x]) \n",
    "            txt=txt.replace(x,rep[x])\n",
    "        \n",
    "       \n",
    "    return txt\n",
    "hacker_speak('javascript is cool')            "
   ]
  },
  {
   "cell_type": "code",
   "execution_count": 8,
   "id": "d96314c0",
   "metadata": {},
   "outputs": [
    {
     "data": {
      "text/plain": [
       "[2, -105]"
      ]
     },
     "execution_count": 8,
     "metadata": {},
     "output_type": "execute_result"
    }
   ],
   "source": [
    "#22 Create a function that takes a list of positive and negative numbers. \n",
    "#Return a list where the first element is the count of positive numbers and the second element is the sum of negative numbers. \n",
    "\n",
    "def sum_neg(lst):\n",
    "    if len(lst)>0:\n",
    "        l=[0,0]\n",
    "        for x in  lst:\n",
    "            if x>0:\n",
    "                l[0]+=1\n",
    "            else:\n",
    "                l[1]+=x\n",
    "        return l\n",
    "    else:\n",
    "        return []\n",
    "sum_neg([91, -4, 80, -73, -28])"
   ]
  },
  {
   "cell_type": "code",
   "execution_count": 23,
   "id": "7a74ee6a",
   "metadata": {},
   "outputs": [
    {
     "data": {
      "text/plain": [
       "'.at, dog, and mouseC'"
      ]
     },
     "execution_count": 23,
     "metadata": {},
     "output_type": "execute_result"
    }
   ],
   "source": [
    "#23 Create a function that takes a string and returns a new string with its first and last characters swapped, \n",
    "#except under three conditions: if the length of the string is less than two, return \"Incompatible.\".\n",
    "#If the argument is not a string, return \"Incompatible.\".\n",
    "#If the first and last characters are the same, return \"Two's a pair.\".\n",
    "\n",
    "def flip_end_chars(txt):\n",
    "    if type(txt)==str and len(txt)>2:\n",
    "        return txt[-1]+txt[1:-1]+txt[0]\n",
    "    else:\n",
    "        return 'not compactible'\n",
    "flip_end_chars(\"Cat, dog, and mouse.\")        \n",
    "    "
   ]
  },
  {
   "cell_type": "code",
   "execution_count": 27,
   "id": "c7564df9",
   "metadata": {},
   "outputs": [
    {
     "data": {
      "text/plain": [
       "'Emergency stop: e2'"
      ]
     },
     "execution_count": 27,
     "metadata": {},
     "output_type": "execute_result"
    }
   ],
   "source": [
    "#24 Create a function that takes a number as an argument and returns the appropriate error message.\n",
    "#You should do this without using the switch or if statements.\n",
    "\n",
    "def error(n):\n",
    "    dic={1:\"Check the fan: e1\",2:\"Emergency stop: e2\",3:\"Pump Error: e3\",4:\"c: e4\",5:\"Temperature Sensor Error: e5\"}\n",
    "    if n not in range(1,6):\n",
    "        return n\n",
    "    else:\n",
    "        return dic[n]\n",
    "error(2)    "
   ]
  },
  {
   "cell_type": "code",
   "execution_count": 32,
   "id": "07a2dc16",
   "metadata": {},
   "outputs": [
    {
     "data": {
      "text/plain": [
       "'balanced'"
      ]
     },
     "execution_count": 32,
     "metadata": {},
     "output_type": "execute_result"
    }
   ],
   "source": [
    "#25 Given a list with an odd number of elements, return whether the scale will tip \"left\" or \"right\" based on the sum \n",
    "#of the numbers The scale will tip on the direction of the largest total.If both sides are equal, return \"balanced\".\n",
    "\n",
    "def scale_tip(lst):\n",
    "    a=0;b=0\n",
    "    for x in lst:\n",
    "        if x!='I':\n",
    "            a+=x\n",
    "        else:\n",
    "            break\n",
    "    for y in lst[::-1]:\n",
    "        if y!='I':\n",
    "            b+=y\n",
    "        else:\n",
    "            break\n",
    "    return 'right' if a<b else 'left' if a>b else 'balanced'\n",
    "scale_tip([5, 5, 5, 0, \"I\", 10, 2, 2, 1])\n"
   ]
  },
  {
   "cell_type": "code",
   "execution_count": 1,
   "id": "f3985591",
   "metadata": {},
   "outputs": [
    {
     "data": {
      "text/plain": [
       "'make me :D'"
      ]
     },
     "execution_count": 1,
     "metadata": {},
     "output_type": "execute_result"
    }
   ],
   "source": [
    "#26 Create a function that changes specific words into emoticons. Given a sentence as a string,\n",
    "#replace the words smile, grin, sad and mad with their corresponding emoticons.\n",
    "\n",
    "def emotify(txt):\n",
    "    di={'smile':':D','grin':':)','sad':':(','mad':':P'}\n",
    "    for x in di:\n",
    "        if x in txt:\n",
    "            return 'make me '+di[x]\n",
    "        else:\n",
    "            continue\n",
    "emotify(\"Make me smile\")        "
   ]
  },
  {
   "cell_type": "code",
   "execution_count": 8,
   "id": "294aa6a5",
   "metadata": {},
   "outputs": [
    {
     "data": {
      "text/plain": [
       "29"
      ]
     },
     "execution_count": 8,
     "metadata": {},
     "output_type": "execute_result"
    }
   ],
   "source": [
    "#27 Create a function that takes the month and year (as integers) and returns the number of days in that month.\n",
    "\n",
    "def day_amount(month, year):\n",
    "    if month in [1,3,5,7,8,10,12]:\n",
    "        return 31\n",
    "    elif (year%4==0 and year % 100 != 0 or year % 400 == 0) and month==2:\n",
    "        return 29\n",
    "    elif month==2:\n",
    "        return 28\n",
    "    else:\n",
    "        return 30\n",
    "day_amount(2,2020)    "
   ]
  },
  {
   "cell_type": "code",
   "execution_count": 20,
   "id": "e766db2b",
   "metadata": {},
   "outputs": [
    {
     "data": {
      "text/plain": [
       "[13, '13!', '12!', 'Twelve!']"
      ]
     },
     "execution_count": 20,
     "metadata": {},
     "output_type": "execute_result"
    }
   ],
   "source": [
    "#28 Create a function that changes all the elements in a list as follows:\n",
    "\n",
    "#Add 1 to all even integers, nothing to odd integers.\n",
    "#Concatenates \"!\" to all strings and make the first letter of the word a capital letter.\n",
    "#Changes all boolean values to its opposite.\n",
    "\n",
    "def change_types(lst):\n",
    "    for x in range(0,len(lst)):\n",
    "        if type(lst[x])==int and lst[x]%2==0:\n",
    "            lst[x]+=1\n",
    "        elif type(lst[x])==str:\n",
    "            lst[x]=lst[x].capitalize()+'!'\n",
    "        elif type(lst[x])==bool:\n",
    "            lst[x]=not(lst[x])\n",
    "        else:\n",
    "            continue\n",
    "    return lst   \n",
    "change_types([13, \"13\", \"12\", \"twelve\"])"
   ]
  },
  {
   "cell_type": "code",
   "execution_count": 21,
   "id": "85f395dd",
   "metadata": {},
   "outputs": [],
   "source": [
    "#29 Write a function that returns the third character of the third string in a given list of strings.\n",
    "#Return False if it can't be found.\n",
    "\n",
    "def list_of_strings(lst):\n",
    "    if len(lst)>=3:\n",
    "        if len(lst[2])>=3:\n",
    "            return lst[2][2]\n",
    "        else:\n",
    "            return False\n",
    "    else:\n",
    "        return False\n",
    "    "
   ]
  },
  {
   "cell_type": "code",
   "execution_count": 39,
   "id": "685c9c49",
   "metadata": {},
   "outputs": [
    {
     "data": {
      "text/plain": [
       "20"
      ]
     },
     "execution_count": 39,
     "metadata": {},
     "output_type": "execute_result"
    }
   ],
   "source": [
    "#30 food production grows by a fixed amount, but population grows by a percentage.\n",
    "#So, the food supply would soon be insufficient for the population.\n",
    "#Your job is to find out when that will occur. For this challenge, assume 1 population needs 1 unit of food production.\n",
    "#Food production and population both start at 100. The year starts at 0.\n",
    "\n",
    "def malthusian(food_growth, pop_mult):\n",
    "    pop=100;food=100;year=0\n",
    "    while food>=pop:\n",
    "        food+=food_growth\n",
    "        pop*=pop_mult\n",
    "        year+=1\n",
    "    return year\n",
    "malthusian(4255, 1.41)\n",
    "    "
   ]
  },
  {
   "cell_type": "code",
   "execution_count": 35,
   "id": "8c270893",
   "metadata": {},
   "outputs": [
    {
     "data": {
      "text/plain": [
       "True"
      ]
     },
     "execution_count": 35,
     "metadata": {},
     "output_type": "execute_result"
    }
   ],
   "source": [
    "#31 A list is special if every even index contains an even number and every odd index contains an odd number.\n",
    "#Create a function that returns True if an array is special, and False otherwise.\n",
    "\n",
    "def is_special_array(lst):\n",
    "    for x in range(0,len(lst)):\n",
    "        if x%2==0 and lst[x]%2!=0:\n",
    "            return False\n",
    "        elif x%2!=0 and lst[x]%2==0:\n",
    "            return False\n",
    "        else:\n",
    "            return True\n",
    "is_special_array([2, 7, 4, 9, 6, 1, 6, 3])    "
   ]
  },
  {
   "cell_type": "code",
   "execution_count": 59,
   "id": "de7f3886",
   "metadata": {},
   "outputs": [
    {
     "data": {
      "text/plain": [
       "True"
      ]
     },
     "execution_count": 59,
     "metadata": {},
     "output_type": "execute_result"
    }
   ],
   "source": [
    "#32 Write a function that returns True if the given positive integer is a prime number and False if it's not.\n",
    "\n",
    "def is_prime(n):\n",
    "    if n<2:\n",
    "        return True\n",
    "    for x in range(2,n):\n",
    "        if n%x==0:\n",
    "            return False\n",
    "            break\n",
    "        else:\n",
    "            continue\n",
    "    return True\n",
    "is_prime(11)        "
   ]
  },
  {
   "cell_type": "code",
   "execution_count": 55,
   "id": "d92062ab",
   "metadata": {},
   "outputs": [
    {
     "data": {
      "text/plain": [
       "['ai', 'rf', 'or', 'ce', 's*']"
      ]
     },
     "execution_count": 55,
     "metadata": {},
     "output_type": "execute_result"
    }
   ],
   "source": [
    "#33 Create a function that takes a string s and returns a list of two-paired characters.\n",
    "#If the string has an odd number of characters,add an asterisk * in the final pair.\n",
    "\n",
    "def string_pairs(s):\n",
    "    l=[]\n",
    "    for x in range(0,len(s),2):\n",
    "        l.append(s[x:x+2])\n",
    "    if len(s)%2!=0:\n",
    "        l[-1]=l[-1]+'*'\n",
    "    return l\n",
    "string_pairs(\"airforces\")"
   ]
  },
  {
   "cell_type": "markdown",
   "id": "091ada42",
   "metadata": {},
   "source": [
    "# Control flow"
   ]
  },
  {
   "cell_type": "code",
   "execution_count": 80,
   "id": "f4eaec5a",
   "metadata": {},
   "outputs": [
    {
     "data": {
      "text/plain": [
       "'pap_ier44 , townieBOY and 4 more online'"
      ]
     },
     "execution_count": 80,
     "metadata": {},
     "output_type": "execute_result"
    }
   ],
   "source": [
    "#1 Write a function that returns the number of users in a chatroom based on the following rules:\n",
    "\n",
    "#If there is no one, return \"no one online\".\n",
    "#If there is 1 person, return \"user1 online\".\n",
    "#If there are 2 people, return \"user1 and user2 online\".\n",
    "#If there are n>2 people, return the first two names and add \"and n-2 more online\".\n",
    "\n",
    "def chatroom_status(users):\n",
    "    if len(users)==0:\n",
    "        return 'no one online'\n",
    "    elif len(users)==1:\n",
    "        return f'{users[0]}  online'\n",
    "    elif len(users)==2:\n",
    "        return f'{users[0]} and {users[1]} online'\n",
    "    else:\n",
    "        return f'{users[0]} , {users[1]} and {len(users)-2} more online'\n",
    "chatroom_status([\"pap_ier44\", \"townieBOY\", \"panda321\", \"motor_bike5\", \"sandwichmaker833\", \"violinist91\"])    "
   ]
  },
  {
   "cell_type": "code",
   "execution_count": 89,
   "id": "f00f6f8f",
   "metadata": {},
   "outputs": [
    {
     "data": {
      "text/plain": [
       "3"
      ]
     },
     "execution_count": 89,
     "metadata": {},
     "output_type": "execute_result"
    }
   ],
   "source": [
    "#2 Create a function that returns the number of palindrome numbers in a specified range (inclusive).\n",
    "\n",
    "def count_palindromes(a,b):\n",
    "    count=0\n",
    "    for x in range(a,b+1):\n",
    "        if str(x)==str(x)[::-1]:\n",
    "            count+=1\n",
    "    \n",
    "    return count        \n",
    "count_palindromes(878,898)           "
   ]
  },
  {
   "cell_type": "code",
   "execution_count": 94,
   "id": "4762510a",
   "metadata": {},
   "outputs": [
    {
     "data": {
      "text/plain": [
       "66"
      ]
     },
     "execution_count": 94,
     "metadata": {},
     "output_type": "execute_result"
    }
   ],
   "source": [
    "#3 Create a function that returns the sum of all even elements in a 2D matrix.\n",
    "\n",
    "def sum_of_evens(lst):\n",
    "    a=0\n",
    "    for x in lst:\n",
    "        for y in x:\n",
    "            if y%2==0:\n",
    "                a+=y\n",
    "    return a\n",
    "sum_of_evens([\n",
    "  [42, 9],\n",
    "  [16, 8]\n",
    "])"
   ]
  },
  {
   "cell_type": "code",
   "execution_count": 101,
   "id": "4c974924",
   "metadata": {},
   "outputs": [
    {
     "data": {
      "text/plain": [
       "'19th century'"
      ]
     },
     "execution_count": 101,
     "metadata": {},
     "output_type": "execute_result"
    }
   ],
   "source": [
    "#4 Create a function that takes in a year and returns the correct century.\n",
    "\n",
    "def century(year):\n",
    "    if year%100==0:\n",
    "        return f'{year//100}th century'\n",
    "    else:\n",
    "        return f'{(year//100)+1}th century'\n",
    "century(1801)    "
   ]
  },
  {
   "cell_type": "code",
   "execution_count": null,
   "id": "b6fadfc5",
   "metadata": {},
   "outputs": [],
   "source": []
  }
 ],
 "metadata": {
  "kernelspec": {
   "display_name": "Python 3 (ipykernel)",
   "language": "python",
   "name": "python3"
  },
  "language_info": {
   "codemirror_mode": {
    "name": "ipython",
    "version": 3
   },
   "file_extension": ".py",
   "mimetype": "text/x-python",
   "name": "python",
   "nbconvert_exporter": "python",
   "pygments_lexer": "ipython3",
   "version": "3.8.8"
  }
 },
 "nbformat": 4,
 "nbformat_minor": 5
}
