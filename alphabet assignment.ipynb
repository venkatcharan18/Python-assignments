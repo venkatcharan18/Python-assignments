{
 "cells": [
  {
   "cell_type": "code",
   "execution_count": 40,
   "id": "ab81f2a8",
   "metadata": {},
   "outputs": [
    {
     "name": "stdout",
     "output_type": "stream",
     "text": [
      "* * *\n",
      "*    *\n",
      "* * *\n",
      "*    *\n",
      "* * *\n"
     ]
    }
   ],
   "source": [
    "x1=1\n",
    "x2=2\n",
    "x3= 3\n",
    "x4= 4\n",
    "x5 = 5\n",
    "if x1==1:\n",
    "    print(\"* * *\")\n",
    "if x2==2:\n",
    "    print(\"*    *\")\n",
    "if x3==3:\n",
    "    print(\"* * *\")\n",
    "if x4==4:\n",
    "    print(\"*    *\")\n",
    "if x5==5:\n",
    "    print(\"* * *\")"
   ]
  },
  {
   "cell_type": "code",
   "execution_count": 31,
   "id": "698c3c22",
   "metadata": {},
   "outputs": [
    {
     "name": "stdout",
     "output_type": "stream",
     "text": [
      "* * *\n",
      "*\n",
      "*\n",
      "* * *\n"
     ]
    }
   ],
   "source": [
    "if x1==1:\n",
    "    print(\"* * *\")\n",
    "if x2==2:\n",
    "    print(\"*\")\n",
    "if x3==3:\n",
    "    print(\"*\")\n",
    "if x4==4:\n",
    "    print(\"* * *\")"
   ]
  },
  {
   "cell_type": "code",
   "execution_count": 41,
   "id": "6c7cd693",
   "metadata": {},
   "outputs": [
    {
     "name": "stdout",
     "output_type": "stream",
     "text": [
      "* * *\n",
      "*    *\n",
      "*    *\n",
      "* * *\n"
     ]
    }
   ],
   "source": [
    "if x1==1:\n",
    "    print(\"* * *\")\n",
    "if x2==2:\n",
    "    print(\"*    *\")\n",
    "if x3==3:\n",
    "    print(\"*    *\")\n",
    "if x4==4:\n",
    "    print(\"* * *\")"
   ]
  },
  {
   "cell_type": "code",
   "execution_count": 33,
   "id": "7b54f915",
   "metadata": {},
   "outputs": [
    {
     "name": "stdout",
     "output_type": "stream",
     "text": [
      "* * *\n",
      "* \n",
      "* * *\n",
      "*\n",
      "* * *\n"
     ]
    }
   ],
   "source": [
    "if x1==1:\n",
    "    print(\"* * *\")\n",
    "if x2==2:\n",
    "    print(\"* \")\n",
    "if x3==3:\n",
    "    print(\"* * *\")\n",
    "if x4==4:\n",
    "    print(\"*\")\n",
    "if x5==5:\n",
    "    print(\"* * *\")"
   ]
  },
  {
   "cell_type": "code",
   "execution_count": 5,
   "id": "ed95ac6e",
   "metadata": {},
   "outputs": [
    {
     "name": "stdout",
     "output_type": "stream",
     "text": [
      "* * * *\n",
      "*\n",
      "* * *\n",
      "*\n",
      "*\n"
     ]
    }
   ],
   "source": [
    "if x1==1:\n",
    "    print(\"* * * *\")\n",
    "if x2==2:\n",
    "    print(\"*\")\n",
    "if x3==3:\n",
    "    print(\"* * *\")\n",
    "if x4==4:\n",
    "    print(\"*\")\n",
    "if x5==5:\n",
    "    print(\"*\")"
   ]
  },
  {
   "cell_type": "code",
   "execution_count": 6,
   "id": "ce72ca44",
   "metadata": {},
   "outputs": [
    {
     "name": "stdout",
     "output_type": "stream",
     "text": [
      "* * * * *\n",
      "*\n",
      "*   * * * * * \n",
      "*       *   *\n",
      "* * * * *   *\n"
     ]
    }
   ],
   "source": [
    "if x1==1:\n",
    "    print(\"* * * * *\")\n",
    "if x2==2:\n",
    "    print(\"*\")\n",
    "if x3==3:\n",
    "    print(\"*   * * * * * \")\n",
    "if x4==4:\n",
    "    print(\"*       *   *\")\n",
    "if x5==5:\n",
    "    print(\"* * * * *   *\")"
   ]
  },
  {
   "cell_type": "code",
   "execution_count": 7,
   "id": "e7e2f856",
   "metadata": {},
   "outputs": [
    {
     "name": "stdout",
     "output_type": "stream",
     "text": [
      "*     *\n",
      "* * * *\n",
      "*     *\n"
     ]
    }
   ],
   "source": [
    "if x1==1:\n",
    "    print(\"*     *\")\n",
    "if x2==2:\n",
    "    print(\"* * * *\")\n",
    "if x3==3:\n",
    "    print(\"*     *\")"
   ]
  },
  {
   "cell_type": "code",
   "execution_count": 8,
   "id": "0fadc5af",
   "metadata": {},
   "outputs": [
    {
     "name": "stdout",
     "output_type": "stream",
     "text": [
      "* * *\n",
      "  *\n",
      "  *\n",
      "* * *\n"
     ]
    }
   ],
   "source": [
    "if x1==1:\n",
    "    print(\"* * *\")\n",
    "if x2==2:\n",
    "    print(\"  *\")\n",
    "if x3==3:\n",
    "    print(\"  *\")\n",
    "if x3==3:\n",
    "    print(\"* * *\")"
   ]
  },
  {
   "cell_type": "code",
   "execution_count": 43,
   "id": "5083c7e4",
   "metadata": {},
   "outputs": [
    {
     "name": "stdout",
     "output_type": "stream",
     "text": [
      "* * * * *\n",
      "    *\n",
      "    *\n",
      " *  *\n",
      "  ***\n"
     ]
    }
   ],
   "source": [
    "if x1==1:\n",
    "    print(\"* * * * *\")\n",
    "if x2==2:\n",
    "    print(\"    *\")\n",
    "if x3==3:\n",
    "    print(\"    *\")\n",
    "if x4==4:\n",
    "    print(\" *  *\")\n",
    "if x5==5:\n",
    "    print(\"  ***\")"
   ]
  },
  {
   "cell_type": "code",
   "execution_count": 10,
   "id": "338f26c6",
   "metadata": {},
   "outputs": [
    {
     "name": "stdout",
     "output_type": "stream",
     "text": [
      "*   *\n",
      "* *\n",
      "**\n",
      "* * \n",
      "*   *\n"
     ]
    }
   ],
   "source": [
    "if x1==1:\n",
    "    print(\"*   *\")\n",
    "if x2==2:\n",
    "    print(\"* *\")\n",
    "if x3==3:\n",
    "    print(\"**\")\n",
    "if x4==4:\n",
    "    print(\"* * \")\n",
    "if x5==5:\n",
    "    print(\"*   *\")"
   ]
  },
  {
   "cell_type": "code",
   "execution_count": 15,
   "id": "b596f484",
   "metadata": {},
   "outputs": [
    {
     "name": "stdout",
     "output_type": "stream",
     "text": [
      "*\n",
      "*\n",
      "*\n",
      "* * *\n"
     ]
    }
   ],
   "source": [
    "if x1==1:\n",
    "    print(\"*\")\n",
    "if x2==2:\n",
    "    print(\"*\")\n",
    "if x3==3:\n",
    "    print(\"*\")\n",
    "if x4==4:\n",
    "    print(\"* * *\")"
   ]
  },
  {
   "cell_type": "code",
   "execution_count": 16,
   "id": "ec796f5b",
   "metadata": {},
   "outputs": [
    {
     "name": "stdout",
     "output_type": "stream",
     "text": [
      "*       *\n",
      "* *   * *\n",
      "*   *   *\n"
     ]
    }
   ],
   "source": [
    "if x1==1:\n",
    "    print(\"*       *\")\n",
    "if x2==2:\n",
    "    print(\"* *   * *\")\n",
    "if x3==3:\n",
    "    print(\"*   *   *\")\n"
   ]
  },
  {
   "cell_type": "code",
   "execution_count": 17,
   "id": "75142dc3",
   "metadata": {},
   "outputs": [
    {
     "name": "stdout",
     "output_type": "stream",
     "text": [
      "*     *\n",
      "* *   *\n",
      "*  *  *\n",
      "*   * *\n",
      "*     *\n"
     ]
    }
   ],
   "source": [
    "if x1==1:\n",
    "    print(\"*     *\")\n",
    "if x2==2:\n",
    "    print(\"* *   *\")\n",
    "if x3==3:\n",
    "    print(\"*  *  *\")\n",
    "if x4==4:\n",
    "    print(\"*   * *\")\n",
    "if x5==5:\n",
    "    print(\"*     *\")"
   ]
  },
  {
   "cell_type": "code",
   "execution_count": 18,
   "id": "83563a29",
   "metadata": {},
   "outputs": [
    {
     "name": "stdout",
     "output_type": "stream",
     "text": [
      "* * *\n",
      "*   *\n",
      "* * *\n"
     ]
    }
   ],
   "source": [
    "if x1==1:\n",
    "    print(\"* * *\")\n",
    "if x2==2:\n",
    "    print(\"*   *\")\n",
    "if x3==3:\n",
    "    print(\"* * *\")"
   ]
  },
  {
   "cell_type": "code",
   "execution_count": 19,
   "id": "5ad4883b",
   "metadata": {},
   "outputs": [
    {
     "name": "stdout",
     "output_type": "stream",
     "text": [
      "* * *\n",
      "*   *\n",
      "* * *\n",
      "*\n",
      "*\n"
     ]
    }
   ],
   "source": [
    "if x1==1:\n",
    "    print(\"* * *\")\n",
    "if x2==2:\n",
    "    print(\"*   *\")\n",
    "if x3==3:\n",
    "    print(\"* * *\")\n",
    "if x4==4:\n",
    "    print(\"*\")\n",
    "if x5==5:\n",
    "    print(\"*\")"
   ]
  },
  {
   "cell_type": "code",
   "execution_count": 20,
   "id": "24254b5a",
   "metadata": {},
   "outputs": [
    {
     "name": "stdout",
     "output_type": "stream",
     "text": [
      "* * * *\n",
      "*     *\n",
      "*   * *\n",
      "* * * *\n",
      "        *\n"
     ]
    }
   ],
   "source": [
    "if x1==1:\n",
    "    print(\"* * * *\")\n",
    "if x2==2:\n",
    "    print(\"*     *\")\n",
    "if x3==3:\n",
    "    print(\"*   * *\")\n",
    "if x4==4:\n",
    "    print(\"* * * *\")\n",
    "if x5==5:\n",
    "    print(\"        *\")"
   ]
  },
  {
   "cell_type": "code",
   "execution_count": 21,
   "id": "a2be33eb",
   "metadata": {},
   "outputs": [
    {
     "name": "stdout",
     "output_type": "stream",
     "text": [
      "* * * *\n",
      "*     *\n",
      "* * *\n",
      "*    *\n",
      "*      *\n"
     ]
    }
   ],
   "source": [
    "if x1==1:\n",
    "    print(\"* * * *\")\n",
    "if x2==2:\n",
    "    print(\"*     *\")\n",
    "if x3==3:\n",
    "    print(\"* * *\")\n",
    "if x4==4:\n",
    "    print(\"*    *\")\n",
    "if x5==5:\n",
    "    print(\"*      *\")"
   ]
  },
  {
   "cell_type": "code",
   "execution_count": 22,
   "id": "b427d8a5",
   "metadata": {},
   "outputs": [
    {
     "name": "stdout",
     "output_type": "stream",
     "text": [
      "* * *\n",
      "* \n",
      "* * *\n",
      "    *\n",
      "* * *\n"
     ]
    }
   ],
   "source": [
    "if x1==1:\n",
    "    print(\"* * *\")\n",
    "if x2==2:\n",
    "    print(\"* \")\n",
    "if x3==3:\n",
    "    print(\"* * *\")\n",
    "if x4==4:\n",
    "    print(\"    *\")\n",
    "if x5==5:\n",
    "    print(\"* * *\")"
   ]
  },
  {
   "cell_type": "code",
   "execution_count": 23,
   "id": "9d3949c8",
   "metadata": {},
   "outputs": [
    {
     "name": "stdout",
     "output_type": "stream",
     "text": [
      "* * *\n",
      "  *\n",
      "  *\n"
     ]
    }
   ],
   "source": [
    "if x1==1:\n",
    "    print(\"* * *\")\n",
    "if x2==2:\n",
    "    print(\"  *\")\n",
    "if x3==3:\n",
    "    print(\"  *\")\n"
   ]
  },
  {
   "cell_type": "code",
   "execution_count": 24,
   "id": "87895d08",
   "metadata": {},
   "outputs": [
    {
     "name": "stdout",
     "output_type": "stream",
     "text": [
      "*   *\n",
      "*   *\n",
      "* * *\n"
     ]
    }
   ],
   "source": [
    "if x1==1:\n",
    "    print(\"*   *\")\n",
    "if x2==2:\n",
    "    print(\"*   *\")\n",
    "if x3==3:\n",
    "    print(\"* * *\")\n",
    "\n",
    "    "
   ]
  },
  {
   "cell_type": "code",
   "execution_count": 25,
   "id": "8d58bbff",
   "metadata": {},
   "outputs": [
    {
     "name": "stdout",
     "output_type": "stream",
     "text": [
      "*       *\n",
      "  *   *\n",
      "    *\n"
     ]
    }
   ],
   "source": [
    "if x1==1:\n",
    "    print(\"*       *\")\n",
    "if x2==2:\n",
    "    print(\"  *   *\")\n",
    "if x3==3:\n",
    "    print(\"    *\")\n"
   ]
  },
  {
   "cell_type": "code",
   "execution_count": 26,
   "id": "fe76be58",
   "metadata": {},
   "outputs": [
    {
     "name": "stdout",
     "output_type": "stream",
     "text": [
      "*     *\n",
      "*     *\n",
      "*  *  * \n",
      "* * * *\n",
      "*     *\n"
     ]
    }
   ],
   "source": [
    "if x1==1:\n",
    "    print(\"*     *\")\n",
    "if x2==2:\n",
    "    print(\"*     *\")\n",
    "if x3==3:\n",
    "    print(\"*  *  * \")\n",
    "if x4==4:\n",
    "    print(\"* * * *\")\n",
    "if x5==5:\n",
    "    print(\"*     *\")\n",
    "\n"
   ]
  },
  {
   "cell_type": "code",
   "execution_count": 27,
   "id": "957fb15c",
   "metadata": {},
   "outputs": [
    {
     "name": "stdout",
     "output_type": "stream",
     "text": [
      "*       *\n",
      "  *   *\n",
      "    *   \n",
      "  *   *\n",
      "*       * \n"
     ]
    }
   ],
   "source": [
    "if x1==1:\n",
    "    print(\"*       *\")\n",
    "if x2==2:\n",
    "    print(\"  *   *\")\n",
    "if x3==3:\n",
    "    print(\"    *   \")\n",
    "if x4==4:\n",
    "    print(\"  *   *\")\n",
    "if x5==5:\n",
    "    print(\"*       * \")\n",
    "\n"
   ]
  },
  {
   "cell_type": "code",
   "execution_count": 28,
   "id": "94a3f5fd",
   "metadata": {},
   "outputs": [
    {
     "name": "stdout",
     "output_type": "stream",
     "text": [
      "*       *\n",
      "  *   *\n",
      "    *   \n",
      "    *\n",
      "    *\n"
     ]
    }
   ],
   "source": [
    "if x1==1:\n",
    "    print(\"*       *\")\n",
    "if x2==2:\n",
    "    print(\"  *   *\")\n",
    "if x3==3:\n",
    "    print(\"    *   \")\n",
    "if x4==4:\n",
    "    print(\"    *\")\n",
    "if x5==5:\n",
    "    print(\"    *\")"
   ]
  },
  {
   "cell_type": "code",
   "execution_count": 29,
   "id": "103b07d0",
   "metadata": {},
   "outputs": [
    {
     "name": "stdout",
     "output_type": "stream",
     "text": [
      "* * * *\n",
      "    *\n",
      "  * \n",
      "* * * *\n"
     ]
    }
   ],
   "source": [
    "if x1==1:\n",
    "    print(\"* * * *\")\n",
    "if x2==2:\n",
    "    print(\"    *\")\n",
    "if x3==3:\n",
    "    print(\"  * \")\n",
    "if x4==4:\n",
    "    print(\"* * * *\")\n"
   ]
  },
  {
   "cell_type": "code",
   "execution_count": 37,
   "id": "80748453",
   "metadata": {},
   "outputs": [
    {
     "name": "stdout",
     "output_type": "stream",
     "text": [
      "    * \n",
      "   * *\n",
      "  *****\n",
      " *     *\n",
      "*       *\n"
     ]
    }
   ],
   "source": [
    "if x1==1:\n",
    "    print(\"    * \")\n",
    "if x2==2:\n",
    "    print(\"   * *\")\n",
    "if x3==3:\n",
    "    print(\"  *****\")\n",
    "if x4==4:\n",
    "    print(\" *     *\")\n",
    "if x5==5:\n",
    "    print(\"*       *\")\n"
   ]
  },
  {
   "cell_type": "code",
   "execution_count": null,
   "id": "6d2c0131",
   "metadata": {},
   "outputs": [],
   "source": []
  }
 ],
 "metadata": {
  "kernelspec": {
   "display_name": "Python 3 (ipykernel)",
   "language": "python",
   "name": "python3"
  },
  "language_info": {
   "codemirror_mode": {
    "name": "ipython",
    "version": 3
   },
   "file_extension": ".py",
   "mimetype": "text/x-python",
   "name": "python",
   "nbconvert_exporter": "python",
   "pygments_lexer": "ipython3",
   "version": "3.8.8"
  }
 },
 "nbformat": 4,
 "nbformat_minor": 5
}
