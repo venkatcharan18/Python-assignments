{
 "cells": [
  {
   "cell_type": "code",
   "execution_count": 1,
   "id": "4c005681",
   "metadata": {},
   "outputs": [
    {
     "data": {
      "text/plain": [
       "'True'"
      ]
     },
     "execution_count": 1,
     "metadata": {},
     "output_type": "execute_result"
    }
   ],
   "source": [
    "#1 Create a function that takes a boolean variable flag and returns it as a string.\n",
    "def bool_to_string(flag):\n",
    "    return(str(flag))\n",
    "bool_to_string(True)"
   ]
  },
  {
   "cell_type": "code",
   "execution_count": 2,
   "id": "34fbeb13",
   "metadata": {},
   "outputs": [
    {
     "data": {
      "text/plain": [
       "False"
      ]
     },
     "execution_count": 2,
     "metadata": {},
     "output_type": "execute_result"
    }
   ],
   "source": [
    "#2 function that returns True when num1 is equal to num2; otherwise return False.\n",
    "def same_num(a,b):\n",
    "    if a==b:\n",
    "        return True\n",
    "    else:\n",
    "        return False\n",
    "same_num(2,'2')  "
   ]
  },
  {
   "cell_type": "code",
   "execution_count": 4,
   "id": "491e8acd",
   "metadata": {},
   "outputs": [
    {
     "data": {
      "text/plain": [
       "False"
      ]
     },
     "execution_count": 4,
     "metadata": {},
     "output_type": "execute_result"
    }
   ],
   "source": [
    "#Create a function that takes a number as its only argument and returns True if it's less than or equal to zero,\n",
    "#otherwise return False.\n",
    "def equal_0(c):\n",
    "    return c<=0\n",
    "equal_0(4)"
   ]
  },
  {
   "cell_type": "code",
   "execution_count": 5,
   "id": "7e5d363c",
   "metadata": {},
   "outputs": [
    {
     "data": {
      "text/plain": [
       "'Hello, my Love!'"
      ]
     },
     "execution_count": 5,
     "metadata": {},
     "output_type": "execute_result"
    }
   ],
   "source": [
    "#4 Emmy has written a function that returns a greeting to users. However, she's in love with Mubashir, and would like to greet him slightly differently. She added a special case in her function, but she made a mistake.\n",
    "#Can you help her?\n",
    "def greeting(name):\n",
    "\n",
    "    if name == \"Mubashir\":\n",
    "        return \"Hello, my Love!\"\n",
    "    else:\n",
    "        return \"Hello, \" + name + \"!\"\n",
    "greeting(\"Mubashir\") "
   ]
  },
  {
   "cell_type": "code",
   "execution_count": 6,
   "id": "e516fd74",
   "metadata": {},
   "outputs": [
    {
     "data": {
      "text/plain": [
       "True"
      ]
     },
     "execution_count": 6,
     "metadata": {},
     "output_type": "execute_result"
    }
   ],
   "source": [
    "#5 Both arguments are integers, a and b. Return True if one of them is 10 or if sum is 10\n",
    "def makes10(a,b):\n",
    "    if a==10 or b==10 or a+b==10:\n",
    "        return True\n",
    "    else:\n",
    "        return False\n",
    "makes10(2,8)"
   ]
  },
  {
   "cell_type": "code",
   "execution_count": 7,
   "id": "f579010e",
   "metadata": {},
   "outputs": [
    {
     "data": {
      "text/plain": [
       "True"
      ]
     },
     "execution_count": 7,
     "metadata": {},
     "output_type": "execute_result"
    }
   ],
   "source": [
    "#6 three arguments prob, prize, pay and returns True if prob * prize > pay; otherwise return\n",
    "def profitable_gamble(prob, prize, pay):\n",
    "    return prob * prize > pay\n",
    "profitable_gamble(2,3,4)"
   ]
  },
  {
   "cell_type": "code",
   "execution_count": 8,
   "id": "1fe21075",
   "metadata": {},
   "outputs": [
    {
     "data": {
      "text/plain": [
       "False"
      ]
     },
     "execution_count": 8,
     "metadata": {},
     "output_type": "execute_result"
    }
   ],
   "source": [
    "#7 function that takes an integer and returns True if it's divisible by 10, otherwise return False.\n",
    "def divisible(num):\n",
    "    return num%10==0\n",
    "divisible(4)"
   ]
  },
  {
   "cell_type": "code",
   "execution_count": 9,
   "id": "6ae50f65",
   "metadata": {},
   "outputs": [
    {
     "data": {
      "text/plain": [
       "True"
      ]
     },
     "execution_count": 9,
     "metadata": {},
     "output_type": "execute_result"
    }
   ],
   "source": [
    "#8 Create a function that takes two strings as arguments and return either True or False depending on whether the\n",
    "#total number of characters in the first string is equal to the total number of characters in the second string.\n",
    "def comp(a,b):\n",
    "    return len(str(a))==len(str(b))\n",
    "comp('boom','moob')"
   ]
  },
  {
   "cell_type": "code",
   "execution_count": 10,
   "id": "60c54513",
   "metadata": {},
   "outputs": [
    {
     "data": {
      "text/plain": [
       "'even'"
      ]
     },
     "execution_count": 10,
     "metadata": {},
     "output_type": "execute_result"
    }
   ],
   "source": [
    "#9 Given a string, return True if its length is even or False if the length is odd.\n",
    "def odd_or_even(word):\n",
    "    if len(word)%2==0:\n",
    "        return 'even'\n",
    "    else:\n",
    "        return 'odd'\n",
    "odd_or_even('shit') "
   ]
  },
  {
   "cell_type": "code",
   "execution_count": 11,
   "id": "f6c915e5",
   "metadata": {},
   "outputs": [
    {
     "name": "stdout",
     "output_type": "stream",
     "text": [
      "pytpytpyt\n"
     ]
    }
   ],
   "source": [
    "#10 function that takes a string; we'll say that the front is the first three characters of the string. If the s\n",
    "def front3(txt):\n",
    "    if len(txt)>3:\n",
    "        print(txt[0:3]*3)\n",
    "    else:\n",
    "        print(txt*3)\n",
    "front3('python') "
   ]
  },
  {
   "cell_type": "code",
   "execution_count": 12,
   "id": "26184980",
   "metadata": {},
   "outputs": [
    {
     "data": {
      "text/plain": [
       "5"
      ]
     },
     "execution_count": 12,
     "metadata": {},
     "output_type": "execute_result"
    }
   ],
   "source": [
    "#11 create a function that takes the dart location as two cartesian coordinates (x, y)\n",
    "#and returns a score based on the distance from the middle, aka Bullseye (x=0, y=0).\n",
    "#Bullseye and inner circle scores = 10 points\n",
    "#Middle ring scores = 5 points\n",
    "#Outer ring scores = 1 point\n",
    "#Outside the target = 0 points\n",
    "\n",
    "def darts_scoring(x, y):\n",
    "    r=((x**2)+(y**2))**0.5\n",
    "    if r<=1:\n",
    "        score=10\n",
    "    elif 1<r<=5:\n",
    "        score=5\n",
    "    elif 5<r<=10:\n",
    "        score=1\n",
    "    else:\n",
    "        score=0\n",
    "    return score\n",
    "darts_scoring(2,2)"
   ]
  },
  {
   "cell_type": "code",
   "execution_count": 13,
   "id": "29586cd7",
   "metadata": {},
   "outputs": [
    {
     "data": {
      "text/plain": [
       "True"
      ]
     },
     "execution_count": 13,
     "metadata": {},
     "output_type": "execute_result"
    }
   ],
   "source": [
    "#12 find the given year is a leap year or not\n",
    "def leap_year(y):\n",
    "    return y%4==0\n",
    "leap_year(2020)"
   ]
  },
  {
   "cell_type": "code",
   "execution_count": 14,
   "id": "b09c32a3",
   "metadata": {},
   "outputs": [
    {
     "data": {
      "text/plain": [
       "False"
      ]
     },
     "execution_count": 14,
     "metadata": {},
     "output_type": "execute_result"
    }
   ],
   "source": [
    "#13 Create a function that takes an array of hurdle heights and a jumper's jump height, and determine \n",
    "# whether or not the hurdler can clear all the hurdles.A hurdler can clear a hurdle if their \n",
    "# jump height is greater than or equal to the hurdle height.\n",
    "def hurdle_jump(hurdles, jump_height):\n",
    "    hurdles.sort()\n",
    "    if jump_height>=hurdles[-1]:\n",
    "        return True\n",
    "    else:\n",
    "        return False\n",
    "hurdle_jump([1, 2, 1], 1) "
   ]
  },
  {
   "cell_type": "code",
   "execution_count": 15,
   "id": "c757a81d",
   "metadata": {},
   "outputs": [
    {
     "data": {
      "text/plain": [
       "'december'"
      ]
     },
     "execution_count": 15,
     "metadata": {},
     "output_type": "execute_result"
    }
   ],
   "source": [
    "#14 Create a function that takes a number (from 1 to 12) and returns its corresponding month name as a string. \n",
    "#For example, if you're given 3 as input, your function should return \"March\", because March is the 3rd month.\n",
    "\n",
    "def month_name(num):\n",
    "    m={1:'january',2:'febraury',3:'march',4:'april',5:'may',6:'june',7:'july',8:'august',9:'september',10:'october',11:'november',12:'december'}\n",
    "    return m[num]\n",
    "month_name(12)"
   ]
  },
  {
   "cell_type": "code",
   "execution_count": 17,
   "id": "a704eb61",
   "metadata": {},
   "outputs": [
    {
     "data": {
      "text/plain": [
       "4"
      ]
     },
     "execution_count": 17,
     "metadata": {},
     "output_type": "execute_result"
    }
   ],
   "source": [
    "#15 Create a function that takes in a two-dimensional list and returns the number of sub-lists with only \n",
    "#identical elements.\n",
    "\n",
    "\n",
    "def count_identical(lst):\n",
    "    c=0\n",
    "    b=0\n",
    "    for x in lst:\n",
    "        if len(x)==1:\n",
    "            c+=1\n",
    "        else:\n",
    "            t=set(x)                                 #a=x[0];b=0\n",
    "            if len(t)==1:                            #for y in range(1,len(x)):\n",
    "                b+=1                                      #if a==x[y]:\n",
    "                                                      #b+=1\n",
    "            else:                                    #if b>=1:     \n",
    "                continue                                 #l+=1 \n",
    "               \n",
    "                                                     #return l\n",
    "                    \n",
    "                \n",
    "    return c+b\n",
    "count_identical([[33, 33],\n",
    "  [5],\n",
    "  [\"a\", \"a\"],\n",
    "  [2, 2, 2],\n",
    "  [1, 2, 2],\n",
    "  [3, 1]\n",
    "])\n",
    "        "
   ]
  },
  {
   "cell_type": "code",
   "execution_count": 18,
   "id": "9cb507eb",
   "metadata": {},
   "outputs": [],
   "source": [
    "#16 A bartender is writing a simple program to determine whether he should serve drinks to someone. He only serves drinks to people 18 and older and when he's not on break.\n",
    "#Given the person's age, and whether break time is in session, create a function which returns whether he should serve drinks.\n",
    "#Examples\n",
    "#should_serve_drinks(17, True) ➞ False\n",
    "#should_serve_drinks(19, False) ➞ True\n",
    "#should_serve_drinks(30, True) ➞ False\n",
    "\n",
    "def should_serve_drinks(age, on_break):\n",
    "    if on_break==True:\n",
    "        return False\n",
    "    else:\n",
    "        if age>=18:\n",
    "            return True\n",
    "        else:\n",
    "            return False"
   ]
  },
  {
   "cell_type": "code",
   "execution_count": 19,
   "id": "4ebcf2dd",
   "metadata": {},
   "outputs": [],
   "source": [
    "#17 You will need to write three unfinished logic gates. Continue to write the three logic gates: AND, OR, and NOT.\n",
    "\n",
    "def AND(x,y):\n",
    "    if x==1 and y==1:\n",
    "        return 1\n",
    "    else:\n",
    "        return 0\n",
    "\n",
    "def OR(x,y):\n",
    "    if x==1 or y==1:\n",
    "        return 1\n",
    "    else:\n",
    "        return 0\n",
    "def NOT(x):\n",
    "    if x==1:\n",
    "        return 0\n",
    "    elif x==0:\n",
    "        return 1"
   ]
  },
  {
   "cell_type": "code",
   "execution_count": 25,
   "id": "87479e74",
   "metadata": {},
   "outputs": [],
   "source": [
    "#18 Write a function that accepts base (decimal), height (decimal) and shape (\"triangle\", \"parallelogram\") \n",
    "#as input and calculates the area of that shape.\n",
    "\n",
    "def area_shape(base,height,shape):\n",
    "    s=shape.lower()\n",
    "    if s==\"triangle\":\n",
    "        area=0.5*base*height\n",
    "    elif s==\"parallelogram\":\n",
    "        area=base*height\n",
    "    return area"
   ]
  },
  {
   "cell_type": "code",
   "execution_count": 24,
   "id": "a9546747",
   "metadata": {},
   "outputs": [],
   "source": [
    "#19 Create a function that takes a string (a random name). If the last character of the name is an \"n\", \n",
    "#return True, otherwise return False.\n",
    "\n",
    "def is_last_character_n(s):\n",
    "    if s.endswith(\"n\"):\n",
    "        return True\n",
    "    else:\n",
    "        return False"
   ]
  },
  {
   "cell_type": "code",
   "execution_count": 26,
   "id": "b1c3b2eb",
   "metadata": {},
   "outputs": [],
   "source": [
    "#20 Create a function that takes in a word and determines whether or not it is plural. A plural word is one that ends in \"s\".\n",
    "\n",
    "def is_plural(s):\n",
    "    if s.endswith(\"s\"):\n",
    "        return True\n",
    "    else:\n",
    "        return False"
   ]
  },
  {
   "cell_type": "code",
   "execution_count": null,
   "id": "56569a5f",
   "metadata": {},
   "outputs": [],
   "source": [
    "#21 Create a function that takes a number as an argument and returns \"even\" for even numbers and \"odd\" for odd numbers.\n",
    "\n",
    "def isEvenOrOdd(a):\n",
    "    if a%2==0:\n",
    "        return \"even\"\n",
    "    else:\n",
    "        return \"odd\""
   ]
  }
 ],
 "metadata": {
  "kernelspec": {
   "display_name": "Python 3 (ipykernel)",
   "language": "python",
   "name": "python3"
  },
  "language_info": {
   "codemirror_mode": {
    "name": "ipython",
    "version": 3
   },
   "file_extension": ".py",
   "mimetype": "text/x-python",
   "name": "python",
   "nbconvert_exporter": "python",
   "pygments_lexer": "ipython3",
   "version": "3.8.8"
  }
 },
 "nbformat": 4,
 "nbformat_minor": 5
}
