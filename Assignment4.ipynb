{
 "cells": [
  {
   "cell_type": "code",
   "execution_count": 1,
   "id": "e7bb6b59",
   "metadata": {},
   "outputs": [
    {
     "name": "stdout",
     "output_type": "stream",
     "text": [
      "1\n",
      "2\n",
      "3\n",
      "4\n",
      "5\n",
      "6\n"
     ]
    }
   ],
   "source": [
    "#loop through all the elements in a list\n",
    "a=[1,2,3,4,5,6]\n",
    "for x in a:\n",
    "    print(x)"
   ]
  },
  {
   "cell_type": "code",
   "execution_count": 1,
   "id": "5f7543f7",
   "metadata": {},
   "outputs": [
    {
     "name": "stdout",
     "output_type": "stream",
     "text": [
      "enter element in the list and to stop press p:hey\n",
      "enter type of the element:string\n",
      "enter element in the list and to stop press p:3.4\n",
      "enter type of the element:float\n",
      "enter element in the list and to stop press p:1+2j\n",
      "enter type of the element:complex\n",
      "enter element in the list and to stop press p:456\n",
      "enter type of the element:int\n",
      "enter element in the list and to stop press p:p\n"
     ]
    },
    {
     "data": {
      "text/plain": [
       "['hey', 3.4, (1+2j), 456]"
      ]
     },
     "execution_count": 1,
     "metadata": {},
     "output_type": "execute_result"
    }
   ],
   "source": [
    "#ask the users to insert elements in a list\n",
    "a=[]\n",
    "while True:\n",
    "    b=input('enter element in the list and to stop press p:')\n",
    "    if b=='p':\n",
    "        break\n",
    "    else:    \n",
    "        c=input('enter type of the element:')\n",
    "        if c=='int':\n",
    "            a.append(int(b))\n",
    "        elif c=='float':\n",
    "            a.append(float(b))\n",
    "        elif c=='complex':\n",
    "            a.append(complex(b))\n",
    "        else:\n",
    "            a.append(b)\n",
    "a            \n"
   ]
  },
  {
   "cell_type": "code",
   "execution_count": 2,
   "id": "22c3df05",
   "metadata": {},
   "outputs": [
    {
     "data": {
      "text/plain": [
       "[1, 3, 5, 7]"
      ]
     },
     "execution_count": 2,
     "metadata": {},
     "output_type": "execute_result"
    }
   ],
   "source": [
    "#remove all the odd index value from a list and only even \n",
    "#index elements should remain\n",
    "x=[1,2,3,4,5,6,7,'a']\n",
    "y=[]\n",
    "for x in range(0,len(x)):\n",
    "    if x%2!=0:\n",
    "        y.append(x)\n",
    "y        "
   ]
  },
  {
   "cell_type": "code",
   "execution_count": 3,
   "id": "3c0a8ffd",
   "metadata": {},
   "outputs": [
    {
     "name": "stdout",
     "output_type": "stream",
     "text": [
      "15\n",
      "120\n"
     ]
    }
   ],
   "source": [
    "#sum and multiply all the items in a list\n",
    "s=0\n",
    "m=1\n",
    "b=[1,2,3,4,5]\n",
    "for x in b:\n",
    "    s+=x\n",
    "    m*=x\n",
    "print(s)\n",
    "print(m)"
   ]
  },
  {
   "cell_type": "code",
   "execution_count": 4,
   "id": "ddcdb75b",
   "metadata": {},
   "outputs": [
    {
     "name": "stdout",
     "output_type": "stream",
     "text": [
      "90\n",
      "4\n"
     ]
    }
   ],
   "source": [
    "#find minimum and maximum\n",
    "d=[8,4,11,7,90]\n",
    "ma=0\n",
    "mi=0\n",
    "for x in d:\n",
    "    if x>ma:\n",
    "        ma=x\n",
    "mi=ma\n",
    "for x in d:\n",
    "    if x<mi:\n",
    "        mi=x\n",
    "print(ma)\n",
    "print(mi)"
   ]
  },
  {
   "cell_type": "code",
   "execution_count": 5,
   "id": "fb8d45f6",
   "metadata": {},
   "outputs": [
    {
     "data": {
      "text/plain": [
       "['Green', 'White', 'Black']"
      ]
     },
     "execution_count": 5,
     "metadata": {},
     "output_type": "execute_result"
    }
   ],
   "source": [
    "# specified list after removing the 0th, 4th and 5th elements\n",
    "e=['Red', 'Green', 'White', 'Black', 'Pink', 'Yellow']\n",
    "f=[]\n",
    "for x in range(0,len(e)):\n",
    "    if x!=0 and x!=4 and x!=5:\n",
    "        f.append(e[x])\n",
    "    else:\n",
    "        continue\n",
    "f        "
   ]
  },
  {
   "cell_type": "code",
   "execution_count": 6,
   "id": "8ab2aa4c",
   "metadata": {},
   "outputs": [
    {
     "name": "stdout",
     "output_type": "stream",
     "text": [
      "enter number of elements to enter:5\n",
      "enter elements:1\n",
      "enter elements:2\n",
      "enter elements:3\n",
      "enter elements:4\n",
      "enter elements:5\n",
      "[1, 2, 3, 4, 5]\n"
     ]
    },
    {
     "data": {
      "text/plain": [
       "3.0"
      ]
     },
     "execution_count": 6,
     "metadata": {},
     "output_type": "execute_result"
    }
   ],
   "source": [
    "#average of elements in list\n",
    "g=int(input('enter number of elements to enter:'))\n",
    "h=[]\n",
    "j=0\n",
    "itr=0\n",
    "for x in range(0,g):\n",
    "    i=int(input('enter elements:'))\n",
    "    h.append(i)\n",
    "print(h)   \n",
    "for x in h:\n",
    "    itr+=1\n",
    "    j+=x\n",
    "avg=j/itr\n",
    "avg"
   ]
  },
  {
   "cell_type": "code",
   "execution_count": 7,
   "id": "5349f6c7",
   "metadata": {},
   "outputs": [
    {
     "name": "stdout",
     "output_type": "stream",
     "text": [
      "number of integers are: 5\n"
     ]
    }
   ],
   "source": [
    "#number of integers i n list\n",
    "k= [10, 'a',2,3,5.5,1.34,'Abc','rt']\n",
    "l=0\n",
    "for x in k:\n",
    "    if type(x)== int or type(x)==float:\n",
    "        l+=1\n",
    "print('number of integers are:',l)        "
   ]
  },
  {
   "cell_type": "code",
   "execution_count": 10,
   "id": "3b21b3fd",
   "metadata": {},
   "outputs": [
    {
     "name": "stdout",
     "output_type": "stream",
     "text": [
      "enter number of characters in list:4\n",
      "enter charactersa\n",
      "enter charactersb\n",
      "enter charactersc\n",
      "enter charactersd\n",
      "['a', 'b', 'c', 'd']\n",
      "['d', 'c', 'b', 'a']\n"
     ]
    }
   ],
   "source": [
    "#reverse string\n",
    "m=[]\n",
    "p=[]\n",
    "n=int(input('enter number of characters in list:'))\n",
    "for x in range(0,n):\n",
    "    o=input('enter characters')\n",
    "    m.append(o)\n",
    "print(m)\n",
    "p = m[::-1]\n",
    "print(p)"
   ]
  },
  {
   "cell_type": "code",
   "execution_count": 6,
   "id": "151ff64a",
   "metadata": {},
   "outputs": [
    {
     "data": {
      "text/plain": [
       "('p', 'y', 't', 'h', 'o', 'n', '3', '.', '2')"
      ]
     },
     "execution_count": 6,
     "metadata": {},
     "output_type": "execute_result"
    }
   ],
   "source": [
    "#convert a given string to a tuple\n",
    "q='python3.2'\n",
    "r=[]\n",
    "for x in q:\n",
    "    r.append(x)\n",
    "s=tuple(r)\n",
    "s"
   ]
  },
  {
   "cell_type": "code",
   "execution_count": 11,
   "id": "85a7864e",
   "metadata": {},
   "outputs": [
    {
     "name": "stdout",
     "output_type": "stream",
     "text": [
      "enter number of characters:4\n",
      "enter characters:a\n",
      "enter characters:b\n",
      "enter characters:c\n",
      "enter characters:d\n",
      "['a', 'b', 'c', 'd']\n",
      "abcd\n"
     ]
    }
   ],
   "source": [
    "# convert a list of characters into a string\n",
    "t=int(input('enter number of characters:'))\n",
    "v=[]\n",
    "w=''\n",
    "for x in range(0,t):\n",
    "    u=input('enter characters:')\n",
    "    v.append(u)\n",
    "for x in v:\n",
    "    w+=x\n",
    "print(v)\n",
    "print(w)"
   ]
  },
  {
   "cell_type": "code",
   "execution_count": null,
   "id": "e3add898",
   "metadata": {},
   "outputs": [],
   "source": []
  }
 ],
 "metadata": {
  "kernelspec": {
   "display_name": "Python 3 (ipykernel)",
   "language": "python",
   "name": "python3"
  },
  "language_info": {
   "codemirror_mode": {
    "name": "ipython",
    "version": 3
   },
   "file_extension": ".py",
   "mimetype": "text/x-python",
   "name": "python",
   "nbconvert_exporter": "python",
   "pygments_lexer": "ipython3",
   "version": "3.8.8"
  }
 },
 "nbformat": 4,
 "nbformat_minor": 5
}
