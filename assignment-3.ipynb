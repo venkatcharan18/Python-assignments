{
 "cells": [
  {
   "cell_type": "code",
   "execution_count": 1,
   "id": "00104c13",
   "metadata": {},
   "outputs": [
    {
     "name": "stdout",
     "output_type": "stream",
     "text": [
      "0\n",
      "1\n",
      "2\n",
      "4\n",
      "5\n"
     ]
    }
   ],
   "source": [
    "# prints from 0 to 6 except 3 and 6\n",
    "for x in range(0,7):\n",
    "    if x==6 or x==3:\n",
    "        continue\n",
    "    else:\n",
    "        print(x)"
   ]
  },
  {
   "cell_type": "code",
   "execution_count": 2,
   "id": "2eb2328f",
   "metadata": {},
   "outputs": [
    {
     "name": "stdout",
     "output_type": "stream",
     "text": [
      "enter the  number:5\n",
      "15\n"
     ]
    }
   ],
   "source": [
    "#add all numbers from 1 to given number\n",
    "a=int(input('enter the  number:'))\n",
    "b=0\n",
    "for x in range(0,a+1):\n",
    "    b+=x\n",
    "print(b)    "
   ]
  },
  {
   "cell_type": "code",
   "execution_count": 6,
   "id": "d22fd740",
   "metadata": {},
   "outputs": [
    {
     "name": "stdout",
     "output_type": "stream",
     "text": [
      "enter the number:7\n",
      "enter number upto it is multiplied:12\n",
      "7 * 1 = 7\n",
      "7 * 2 = 14\n",
      "7 * 3 = 21\n",
      "7 * 4 = 28\n",
      "7 * 5 = 35\n",
      "7 * 6 = 42\n",
      "7 * 7 = 49\n",
      "7 * 8 = 56\n",
      "7 * 9 = 63\n",
      "7 * 10 = 70\n",
      "7 * 11 = 77\n",
      "7 * 12 = 84\n"
     ]
    }
   ],
   "source": [
    "# multiplication table\n",
    "c=int(input('enter the number:'))\n",
    "d=int(input('enter number upto it is multiplied:'))\n",
    "for x in range(1,d+1):\n",
    "    print('{} * {} = {}'.format(c,x,c*x))"
   ]
  },
  {
   "cell_type": "code",
   "execution_count": 8,
   "id": "1a880130",
   "metadata": {},
   "outputs": [
    {
     "name": "stdout",
     "output_type": "stream",
     "text": [
      "enter the number:789756\n",
      "6\n"
     ]
    }
   ],
   "source": [
    "# no of digits in a number\n",
    "e=int(input('enter the number:'))\n",
    "f=str(e)\n",
    "g=0\n",
    "while g<len(f):\n",
    "    g+=1\n",
    "print(g)    "
   ]
  },
  {
   "cell_type": "code",
   "execution_count": null,
   "id": "26f58975",
   "metadata": {},
   "outputs": [],
   "source": [
    "#Write a Python program to guess a number between 1 to \n",
    "#Example:User is prompted to enter a guess. If the user guesses wrong \n",
    "#then the prompt appears again until the guess is correct"
   ]
  },
  {
   "cell_type": "code",
   "execution_count": 9,
   "id": "b7278e28",
   "metadata": {},
   "outputs": [
    {
     "name": "stdout",
     "output_type": "stream",
     "text": [
      "1\n",
      "2\n",
      "Fizz\n",
      "4\n",
      "Buzz\n",
      "Fizz\n",
      "7\n",
      "8\n",
      "Fizz\n",
      "Buzz\n",
      "11\n",
      "Fizz\n",
      "13\n",
      "14\n",
      "Fizz\n",
      "16\n",
      "17\n",
      "Fizz\n",
      "19\n",
      "Buzz\n",
      "Fizz\n",
      "22\n",
      "23\n",
      "Fizz\n",
      "Buzz\n",
      "26\n",
      "Fizz\n",
      "28\n",
      "29\n",
      "Fizz\n",
      "31\n",
      "32\n",
      "Fizz\n",
      "34\n",
      "Buzz\n",
      "Fizz\n",
      "37\n",
      "38\n",
      "Fizz\n",
      "Buzz\n",
      "41\n",
      "Fizz\n",
      "43\n",
      "44\n",
      "Fizz\n",
      "46\n",
      "47\n",
      "Fizz\n",
      "49\n",
      "Buzz\n",
      "Fizz\n",
      "52\n",
      "53\n",
      "Fizz\n",
      "Buzz\n",
      "56\n",
      "Fizz\n",
      "58\n",
      "59\n",
      "Fizz\n"
     ]
    }
   ],
   "source": [
    "#print buzz fizz and fizzbuzz\n",
    "for x in range(1,61):\n",
    "    if x%3==0:\n",
    "        print('Fizz')\n",
    "    elif x%5==0:\n",
    "        print('Buzz')\n",
    "    elif x%5==0 and x%3==0:\n",
    "        print('FizzBuzz')\n",
    "    else:\n",
    "        print(x)"
   ]
  },
  {
   "cell_type": "code",
   "execution_count": 7,
   "id": "56225003",
   "metadata": {},
   "outputs": [
    {
     "name": "stdout",
     "output_type": "stream",
     "text": [
      "enter the string:python 3.2\n",
      "letters: 6\n",
      "digits: 2\n"
     ]
    }
   ],
   "source": [
    "h=input('enter the string:')\n",
    "letters=0\n",
    "digits=0\n",
    "for x in range(0,len(h)):\n",
    "    if h[x].isalpha()==True:\n",
    "        letters+=1\n",
    "    elif h[x].isdigit()==True:\n",
    "        digits+=1\n",
    "    else:\n",
    "        continue\n",
    "print('letters:',letters)\n",
    "print('digits:',digits)"
   ]
  },
  {
   "cell_type": "code",
   "execution_count": 19,
   "id": "b5fb645f",
   "metadata": {},
   "outputs": [
    {
     "name": "stdout",
     "output_type": "stream",
     "text": [
      "enter the password:Asd4w@\n",
      "invalid password\n"
     ]
    }
   ],
   "source": [
    "#password validity\n",
    "p=input('enter the password:')\n",
    "if len(p)<6 and len(p)>16:\n",
    "    print('invalid password')\n",
    "else:    \n",
    "    for x in p:\n",
    "        if x.isupper()==True and x.isalnum()==True and (x=='#' or x=='@' or x=='$'):\n",
    "            print('valid password')\n",
    "            break\n",
    "        else:\n",
    "            print('invalid password')\n",
    "            break"
   ]
  },
  {
   "cell_type": "code",
   "execution_count": null,
   "id": "67f17f81",
   "metadata": {},
   "outputs": [],
   "source": []
  },
  {
   "cell_type": "code",
   "execution_count": 3,
   "id": "fd57f1be",
   "metadata": {},
   "outputs": [
    {
     "name": "stdout",
     "output_type": "stream",
     "text": [
      "enter the string:venkat\n",
      "taknev\n"
     ]
    }
   ],
   "source": [
    "#reverse the string\n",
    "st=(input('enter the string:'))\n",
    "t=''\n",
    "x=1\n",
    "while x<=len(st):\n",
    "    t = t + st[-x]\n",
    "    x+=1\n",
    "print(t)"
   ]
  },
  {
   "cell_type": "code",
   "execution_count": 1,
   "id": "f357487d",
   "metadata": {},
   "outputs": [
    {
     "ename": "SyntaxError",
     "evalue": "invalid syntax (Temp/ipykernel_15752/2426070117.py, line 3)",
     "output_type": "error",
     "traceback": [
      "\u001b[1;36m  File \u001b[1;32m\"C:\\Users\\User\\AppData\\Local\\Temp/ipykernel_15752/2426070117.py\"\u001b[1;36m, line \u001b[1;32m3\u001b[0m\n\u001b[1;33m    z =\u001b[0m\n\u001b[1;37m        ^\u001b[0m\n\u001b[1;31mSyntaxError\u001b[0m\u001b[1;31m:\u001b[0m invalid syntax\n"
     ]
    }
   ],
   "source": []
  },
  {
   "cell_type": "code",
   "execution_count": 8,
   "id": "e1581cb0",
   "metadata": {},
   "outputs": [
    {
     "name": "stdout",
     "output_type": "stream",
     "text": [
      "enter integer:3\n",
      "enter integer:3\n",
      "enter integer:3\n",
      "enter integer:3\n",
      "enter integer:3\n",
      "enter integer:3\n",
      "enter integer:3\n",
      "enter integer:3\n",
      "enter integer:4\n",
      "enter integer:4\n",
      "3.2\n"
     ]
    }
   ],
   "source": [
    "#average of all numbers\n",
    "itr=0\n",
    "g=0\n",
    "for x in range(0,10):\n",
    "    y=int(input(\"enter integer:\"))\n",
    "    itr+=1\n",
    "    g+=y\n",
    "avg=g/itr    \n",
    "print(avg)"
   ]
  },
  {
   "cell_type": "code",
   "execution_count": 1,
   "id": "c133bf4b",
   "metadata": {},
   "outputs": [
    {
     "name": "stdout",
     "output_type": "stream",
     "text": [
      "enter the string:WVD43.fve\n",
      "WVDfve\n"
     ]
    }
   ],
   "source": [
    "#print only alphabets in the string\n",
    "t=input('enter the string:')\n",
    "u=''\n",
    "for x in range(0,len(t)):\n",
    "    if t[x].isalpha()==True:\n",
    "        u+=t[x]\n",
    "    else:\n",
    "        continue\n",
    "        \n",
    "print(u)        "
   ]
  },
  {
   "cell_type": "code",
   "execution_count": 4,
   "id": "8b88f13f",
   "metadata": {},
   "outputs": [
    {
     "data": {
      "text/plain": [
       "30"
      ]
     },
     "execution_count": 4,
     "metadata": {},
     "output_type": "execute_result"
    }
   ],
   "source": [
    "#sum of all even numbers from 0 to 10\n",
    "z=0\n",
    "for x in range(1,11):\n",
    "    if x%2==0:\n",
    "        z+=x\n",
    "z        "
   ]
  },
  {
   "cell_type": "code",
   "execution_count": 6,
   "id": "06d62f9f",
   "metadata": {},
   "outputs": [
    {
     "name": "stdout",
     "output_type": "stream",
     "text": [
      "enter the number:5\n",
      "5\n",
      "4\n",
      "3\n",
      "2\n",
      "1\n",
      "0\n"
     ]
    }
   ],
   "source": [
    "#print numbers from given number to 1\n",
    "num=int(input('enter the number:'))\n",
    "for x in range(0,num+1):\n",
    "    print(num)\n",
    "    num-=1"
   ]
  },
  {
   "cell_type": "code",
   "execution_count": 7,
   "id": "761074bf",
   "metadata": {},
   "outputs": [
    {
     "name": "stdout",
     "output_type": "stream",
     "text": [
      "enter 1st num:5\n",
      "enter operator:+\n",
      "enter 2nd  num:4\n",
      "9\n",
      "press c to stop if not type anythingg\n",
      "enter 1st num:56\n",
      "enter operator:/\n",
      "enter 2nd  num:4\n",
      "14.0\n",
      "press c to stop if not type anythingc\n"
     ]
    }
   ],
   "source": [
    "#dynamic calculator\n",
    "while True:    \n",
    "    num1=int(input('enter 1st num:'))\n",
    "    op = input('enter operator:')\n",
    "    num2=int(input('enter 2nd  num:'))\n",
    "    if op=='+':\n",
    "        print(num1+num2)\n",
    "    elif op==\"-\":\n",
    "        print(num1-num2)\n",
    "    elif op=='I*':\n",
    "        print(num1*num2)\n",
    "    elif op=='/':\n",
    "        print(num1/num2)\n",
    "    elif op=='**':\n",
    "        print(num1**num2)\n",
    "    else:\n",
    "        print('invalid operator')\n",
    "    inp=input('press c to stop if not type anything:')\n",
    "    if inp=='c':\n",
    "        break\n",
    "    else:\n",
    "        continue\n",
    "        "
   ]
  },
  {
   "cell_type": "code",
   "execution_count": 2,
   "id": "290f257f",
   "metadata": {},
   "outputs": [
    {
     "name": "stdout",
     "output_type": "stream",
     "text": [
      "type integer and to stop press q:3\n",
      "type integer and to stop press q:4\n",
      "type integer and to stop press q:5\n",
      "type integer and to stop press q:q\n",
      "average: 4.0\n",
      "product: 60\n"
     ]
    }
   ],
   "source": [
    "#takes integers from user until press q to stop. find average and product of those numbers\n",
    "s=0\n",
    "t=1\n",
    "u=0\n",
    "while True:\n",
    "    r=input('type integer and to stop press q:')\n",
    "    if str(r)=='q':\n",
    "        break\n",
    "    else:\n",
    "        u+=1\n",
    "        s+=int(r)\n",
    "        t*=int(r) \n",
    "print('average:',s/u)\n",
    "print('product:',t)"
   ]
  },
  {
   "cell_type": "code",
   "execution_count": null,
   "id": "397c6ab3",
   "metadata": {},
   "outputs": [],
   "source": []
  }
 ],
 "metadata": {
  "kernelspec": {
   "display_name": "Python 3 (ipykernel)",
   "language": "python",
   "name": "python3"
  },
  "language_info": {
   "codemirror_mode": {
    "name": "ipython",
    "version": 3
   },
   "file_extension": ".py",
   "mimetype": "text/x-python",
   "name": "python",
   "nbconvert_exporter": "python",
   "pygments_lexer": "ipython3",
   "version": "3.8.8"
  }
 },
 "nbformat": 4,
 "nbformat_minor": 5
}
