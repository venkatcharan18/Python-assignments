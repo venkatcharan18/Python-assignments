{
 "cells": [
  {
   "cell_type": "code",
   "execution_count": 1,
   "id": "15d46f17",
   "metadata": {},
   "outputs": [
    {
     "data": {
      "text/plain": [
       "54321"
      ]
     },
     "execution_count": 1,
     "metadata": {},
     "output_type": "execute_result"
    }
   ],
   "source": [
    "#1 to reverse an integer\n",
    "def reverseint(s):\n",
    "    rev_int=0\n",
    "    while s>0:\n",
    "        r=s%10\n",
    "        rev_int=rev_int*10 + r\n",
    "        s=s//10\n",
    "    return rev_int\n",
    "reverseint(12345)"
   ]
  },
  {
   "cell_type": "code",
   "execution_count": 1,
   "id": "f0c1ad38",
   "metadata": {},
   "outputs": [],
   "source": [
    "#2 whether an integer is armstrong or not\n"
   ]
  },
  {
   "cell_type": "code",
   "execution_count": 4,
   "id": "c64ff9a1",
   "metadata": {},
   "outputs": [
    {
     "data": {
      "text/plain": [
       "'prime'"
      ]
     },
     "execution_count": 4,
     "metadata": {},
     "output_type": "execute_result"
    }
   ],
   "source": [
    "#3 check given number is prime or not\n",
    "def prime(n):\n",
    "    a=2\n",
    "    while a<n:\n",
    "        if n%a==0:\n",
    "            return 'not prime'\n",
    "            break\n",
    "        a+=1\n",
    "    return 'prime'    \n",
    "prime(23)        "
   ]
  },
  {
   "cell_type": "code",
   "execution_count": 5,
   "id": "f2219158",
   "metadata": {},
   "outputs": [],
   "source": [
    "#4 "
   ]
  },
  {
   "cell_type": "code",
   "execution_count": null,
   "id": "dcb582d0",
   "metadata": {},
   "outputs": [],
   "source": []
  },
  {
   "cell_type": "code",
   "execution_count": null,
   "id": "e6af3b75",
   "metadata": {},
   "outputs": [],
   "source": []
  },
  {
   "cell_type": "code",
   "execution_count": null,
   "id": "5cc53780",
   "metadata": {},
   "outputs": [],
   "source": []
  },
  {
   "cell_type": "code",
   "execution_count": 10,
   "id": "44371b19",
   "metadata": {},
   "outputs": [
    {
     "data": {
      "text/plain": [
       "54"
      ]
     },
     "execution_count": 10,
     "metadata": {},
     "output_type": "execute_result"
    }
   ],
   "source": [
    "#8 find greatest among three integers\n",
    "def greatest(a,b,c):\n",
    "    return a if (a>b and a>c) else b if (b>a and b>c) else c\n",
    "greatest(34,54,45)"
   ]
  },
  {
   "cell_type": "code",
   "execution_count": null,
   "id": "b92c0a36",
   "metadata": {},
   "outputs": [],
   "source": []
  },
  {
   "cell_type": "code",
   "execution_count": null,
   "id": "64390264",
   "metadata": {},
   "outputs": [],
   "source": []
  },
  {
   "cell_type": "code",
   "execution_count": 1,
   "id": "b5e21d19",
   "metadata": {},
   "outputs": [
    {
     "data": {
      "text/plain": [
       "(3, 2)"
      ]
     },
     "execution_count": 1,
     "metadata": {},
     "output_type": "execute_result"
    }
   ],
   "source": [
    "#11 swap two numbers without a third variable\n",
    "def Swap(a,b):                                         #a = a + b\n",
    "    a,b=b,a                                            #b = a - b\n",
    "    return a,b                                         #a = a - b\n",
    "Swap(2,3)"
   ]
  },
  {
   "cell_type": "code",
   "execution_count": 13,
   "id": "5915d753",
   "metadata": {},
   "outputs": [
    {
     "data": {
      "text/plain": [
       "(34, 24)"
      ]
     },
     "execution_count": 13,
     "metadata": {},
     "output_type": "execute_result"
    }
   ],
   "source": [
    "#12 swap two numbers using third variable\n",
    "def swap(a,b):\n",
    "    c=a\n",
    "    a=b\n",
    "    b=c\n",
    "    return a,b\n",
    "swap(24,34)"
   ]
  },
  {
   "cell_type": "code",
   "execution_count": 4,
   "id": "4344d6b8",
   "metadata": {},
   "outputs": [
    {
     "data": {
      "text/plain": [
       "[2, 2, 3, 3]"
      ]
     },
     "execution_count": 4,
     "metadata": {},
     "output_type": "execute_result"
    }
   ],
   "source": [
    "#13 find prime factors of a integer\n",
    "def prime_fact(a):\n",
    "    factors=[]\n",
    "    for x in range(2,a+1):\n",
    "        while a%x==0:\n",
    "            factors.append(x)\n",
    "            a//=x\n",
    "    return factors\n",
    "prime_fact(36)"
   ]
  },
  {
   "cell_type": "code",
   "execution_count": 5,
   "id": "afc58451",
   "metadata": {},
   "outputs": [
    {
     "ename": "TypeError",
     "evalue": "'int' object is not iterable",
     "output_type": "error",
     "traceback": [
      "\u001b[1;31m---------------------------------------------------------------------------\u001b[0m",
      "\u001b[1;31mTypeError\u001b[0m                                 Traceback (most recent call last)",
      "\u001b[1;32m~\\AppData\\Local\\Temp/ipykernel_15408/3082712783.py\u001b[0m in \u001b[0;36m<module>\u001b[1;34m\u001b[0m\n\u001b[0;32m      2\u001b[0m \u001b[1;32mdef\u001b[0m \u001b[0mSum\u001b[0m\u001b[1;33m(\u001b[0m\u001b[0ma\u001b[0m\u001b[1;33m,\u001b[0m\u001b[0mb\u001b[0m\u001b[1;33m)\u001b[0m\u001b[1;33m:\u001b[0m\u001b[1;33m\u001b[0m\u001b[1;33m\u001b[0m\u001b[0m\n\u001b[0;32m      3\u001b[0m     \u001b[1;32mreturn\u001b[0m \u001b[0msum\u001b[0m\u001b[1;33m(\u001b[0m\u001b[0ma\u001b[0m\u001b[1;33m,\u001b[0m\u001b[0mb\u001b[0m\u001b[1;33m)\u001b[0m\u001b[1;33m\u001b[0m\u001b[1;33m\u001b[0m\u001b[0m\n\u001b[1;32m----> 4\u001b[1;33m \u001b[0mSum\u001b[0m\u001b[1;33m(\u001b[0m\u001b[1;36m2\u001b[0m\u001b[1;33m,\u001b[0m\u001b[1;36m3\u001b[0m\u001b[1;33m)\u001b[0m\u001b[1;33m\u001b[0m\u001b[1;33m\u001b[0m\u001b[0m\n\u001b[0m",
      "\u001b[1;32m~\\AppData\\Local\\Temp/ipykernel_15408/3082712783.py\u001b[0m in \u001b[0;36mSum\u001b[1;34m(a, b)\u001b[0m\n\u001b[0;32m      1\u001b[0m \u001b[1;31m#14 add 2 integers without arithmetic operator\u001b[0m\u001b[1;33m\u001b[0m\u001b[1;33m\u001b[0m\u001b[1;33m\u001b[0m\u001b[0m\n\u001b[0;32m      2\u001b[0m \u001b[1;32mdef\u001b[0m \u001b[0mSum\u001b[0m\u001b[1;33m(\u001b[0m\u001b[0ma\u001b[0m\u001b[1;33m,\u001b[0m\u001b[0mb\u001b[0m\u001b[1;33m)\u001b[0m\u001b[1;33m:\u001b[0m\u001b[1;33m\u001b[0m\u001b[1;33m\u001b[0m\u001b[0m\n\u001b[1;32m----> 3\u001b[1;33m     \u001b[1;32mreturn\u001b[0m \u001b[0msum\u001b[0m\u001b[1;33m(\u001b[0m\u001b[0ma\u001b[0m\u001b[1;33m,\u001b[0m\u001b[0mb\u001b[0m\u001b[1;33m)\u001b[0m\u001b[1;33m\u001b[0m\u001b[1;33m\u001b[0m\u001b[0m\n\u001b[0m\u001b[0;32m      4\u001b[0m \u001b[0mSum\u001b[0m\u001b[1;33m(\u001b[0m\u001b[1;36m2\u001b[0m\u001b[1;33m,\u001b[0m\u001b[1;36m3\u001b[0m\u001b[1;33m)\u001b[0m\u001b[1;33m\u001b[0m\u001b[1;33m\u001b[0m\u001b[0m\n",
      "\u001b[1;31mTypeError\u001b[0m: 'int' object is not iterable"
     ]
    }
   ],
   "source": [
    "#14 add 2 integers without arithmetic operator\n",
    "def Sum(a,b):\n",
    "    "
   ]
  },
  {
   "cell_type": "code",
   "execution_count": 12,
   "id": "813ba934",
   "metadata": {},
   "outputs": [
    {
     "data": {
      "text/plain": [
       "True"
      ]
     },
     "execution_count": 12,
     "metadata": {},
     "output_type": "execute_result"
    }
   ],
   "source": [
    "#15 given  number is perfect or not\n",
    "def perfect(a):\n",
    "    n=1\n",
    "    b=0\n",
    "    while n<a:\n",
    "        if a%n==0:\n",
    "            b+=n\n",
    "        n+=1\n",
    "    return a==b\n",
    "perfect(496)"
   ]
  },
  {
   "cell_type": "code",
   "execution_count": 14,
   "id": "3946d594",
   "metadata": {},
   "outputs": [
    {
     "data": {
      "text/plain": [
       "3.5"
      ]
     },
     "execution_count": 14,
     "metadata": {},
     "output_type": "execute_result"
    }
   ],
   "source": [
    "#16 find average of numbers\n",
    "def av(*a):\n",
    "    b=sum(a)\n",
    "    c=len(a)\n",
    "    return b/c\n",
    "av(1,2,3,4,5,6)"
   ]
  },
  {
   "cell_type": "code",
   "execution_count": 16,
   "id": "50b53d59",
   "metadata": {},
   "outputs": [
    {
     "data": {
      "text/plain": [
       "720"
      ]
     },
     "execution_count": 16,
     "metadata": {},
     "output_type": "execute_result"
    }
   ],
   "source": [
    "#17 calculate factorial using iterative method\n",
    "def fact(a):\n",
    "    b=1\n",
    "    while a>=2:\n",
    "        b*=a\n",
    "        a-=1\n",
    "    return b\n",
    "fact(6)"
   ]
  },
  {
   "cell_type": "code",
   "execution_count": 17,
   "id": "b62fc453",
   "metadata": {},
   "outputs": [],
   "source": [
    "#18 factorial using recursion\n"
   ]
  },
  {
   "cell_type": "code",
   "execution_count": 18,
   "id": "d143d2a6",
   "metadata": {},
   "outputs": [
    {
     "data": {
      "text/plain": [
       "'Even'"
      ]
     },
     "execution_count": 18,
     "metadata": {},
     "output_type": "execute_result"
    }
   ],
   "source": [
    "#19 check whether the number is even or odd\n",
    "def check(a):\n",
    "   return 'Even' if a%2==0 else 'Odd'\n",
    "check(2)"
   ]
  },
  {
   "cell_type": "code",
   "execution_count": null,
   "id": "d359b9b9",
   "metadata": {},
   "outputs": [],
   "source": [
    "#20 print first n prime number with explanation\n",
    "def n_prime(n):\n",
    "    b=1\n",
    "    a=3\n",
    "    c=2\n",
    "    while b<=n:\n",
    "        while c<"
   ]
  },
  {
   "cell_type": "code",
   "execution_count": 19,
   "id": "ac45e80d",
   "metadata": {},
   "outputs": [],
   "source": [
    "#21 print prime numbers in a given range\n"
   ]
  },
  {
   "cell_type": "code",
   "execution_count": 21,
   "id": "ce43f5d4",
   "metadata": {},
   "outputs": [
    {
     "data": {
      "text/plain": [
       "1"
      ]
     },
     "execution_count": 21,
     "metadata": {},
     "output_type": "execute_result"
    }
   ],
   "source": [
    "#22 find smallest number among 3\n",
    "def small(a,b,c):\n",
    "    if a<b and a<c:\n",
    "        return a\n",
    "    elif b<c and b<a:\n",
    "        return b\n",
    "    else:\n",
    "        return c\n",
    "small(1,2,3)    "
   ]
  },
  {
   "cell_type": "code",
   "execution_count": 1,
   "id": "d0621d97",
   "metadata": {},
   "outputs": [
    {
     "data": {
      "text/plain": [
       "8"
      ]
     },
     "execution_count": 1,
     "metadata": {},
     "output_type": "execute_result"
    }
   ],
   "source": [
    "#23 calclate power using pow method\n",
    "def powe_r(a,b):\n",
    "    return pow(a,b)\n",
    "powe_r(2,3)"
   ]
  },
  {
   "cell_type": "code",
   "execution_count": 6,
   "id": "e819af4e",
   "metadata": {},
   "outputs": [
    {
     "data": {
      "text/plain": [
       "64"
      ]
     },
     "execution_count": 6,
     "metadata": {},
     "output_type": "execute_result"
    }
   ],
   "source": [
    "#24 calclate power without using pow using foe loop\n",
    "def power(a,b):\n",
    "    c=a\n",
    "    for x in range(b-1):\n",
    "        a=a*c\n",
    "    return a\n",
    "power(2,6)"
   ]
  },
  {
   "cell_type": "code",
   "execution_count": 8,
   "id": "2ae46239",
   "metadata": {},
   "outputs": [
    {
     "data": {
      "text/plain": [
       "64"
      ]
     },
     "execution_count": 8,
     "metadata": {},
     "output_type": "execute_result"
    }
   ],
   "source": [
    "#25 calculate power without using pow using while loop\n",
    "def power_(a,b):\n",
    "    c=a\n",
    "    d=1\n",
    "    while d<b:\n",
    "        a=a*c\n",
    "        d+=1\n",
    "    return a\n",
    "power_(4,3)"
   ]
  },
  {
   "cell_type": "code",
   "execution_count": 9,
   "id": "845b04c1",
   "metadata": {},
   "outputs": [
    {
     "data": {
      "text/plain": [
       "16"
      ]
     },
     "execution_count": 9,
     "metadata": {},
     "output_type": "execute_result"
    }
   ],
   "source": [
    "#26 calculate square of a number\n",
    "def square(a):\n",
    "    return a*a\n",
    "square(4)"
   ]
  },
  {
   "cell_type": "code",
   "execution_count": 10,
   "id": "78d62d23",
   "metadata": {},
   "outputs": [
    {
     "data": {
      "text/plain": [
       "125"
      ]
     },
     "execution_count": 10,
     "metadata": {},
     "output_type": "execute_result"
    }
   ],
   "source": [
    "#27 cube of a number\n",
    "def cube(a):\n",
    "    return a**3\n",
    "cube(5)"
   ]
  },
  {
   "cell_type": "code",
   "execution_count": 11,
   "id": "7406936f",
   "metadata": {},
   "outputs": [
    {
     "data": {
      "text/plain": [
       "3.0"
      ]
     },
     "execution_count": 11,
     "metadata": {},
     "output_type": "execute_result"
    }
   ],
   "source": [
    "#28 square root of a number\n",
    "def square_root(a):\n",
    "    return a**0.5\n",
    "square_root(9)"
   ]
  },
  {
   "cell_type": "code",
   "execution_count": 2,
   "id": "176a3583",
   "metadata": {},
   "outputs": [
    {
     "data": {
      "text/plain": [
       "30"
      ]
     },
     "execution_count": 2,
     "metadata": {},
     "output_type": "execute_result"
    }
   ],
   "source": [
    "#29 LCM of 2 numbers\n",
    "def LCM(a,b):\n",
    "    if a>b:\n",
    "        c=a\n",
    "    else:\n",
    "        c=b\n",
    "        \n",
    "    while (c>=a) or (c>=b):\n",
    "        if c%a==0 and c%b==0:\n",
    "            return c\n",
    "            break      \n",
    "        else:\n",
    "            c+=1\n",
    "LCM(15,10)            "
   ]
  },
  {
   "cell_type": "code",
   "execution_count": 5,
   "id": "0faf0a75",
   "metadata": {},
   "outputs": [
    {
     "data": {
      "text/plain": [
       "6"
      ]
     },
     "execution_count": 5,
     "metadata": {},
     "output_type": "execute_result"
    }
   ],
   "source": [
    "#30 HCF of 2 numbers\n",
    "def HCF(a,b):\n",
    "    if a<b:\n",
    "        c=a\n",
    "    else:\n",
    "        c=b\n",
    "    while c<=a or c<=b:\n",
    "        if a%c==0 and b%c==0:\n",
    "            return c\n",
    "            break\n",
    "        else:\n",
    "            c-=1\n",
    "HCF(12,18)            "
   ]
  },
  {
   "cell_type": "code",
   "execution_count": 6,
   "id": "22612f2e",
   "metadata": {},
   "outputs": [],
   "source": [
    "#31 GCD of 2 numbers using recursion"
   ]
  },
  {
   "cell_type": "code",
   "execution_count": 7,
   "id": "3ed3fe35",
   "metadata": {},
   "outputs": [],
   "source": [
    "#32 convert decimal number to binary"
   ]
  },
  {
   "cell_type": "code",
   "execution_count": 8,
   "id": "cc3f1ae6",
   "metadata": {},
   "outputs": [],
   "source": [
    "#33 convert decimal to octal"
   ]
  },
  {
   "cell_type": "code",
   "execution_count": 10,
   "id": "e340069e",
   "metadata": {},
   "outputs": [
    {
     "data": {
      "text/plain": [
       "False"
      ]
     },
     "execution_count": 10,
     "metadata": {},
     "output_type": "execute_result"
    }
   ],
   "source": [
    "#34 check the year is a leap year\n",
    "def leap(year):\n",
    "    if year%4==0:\n",
    "        if year%100==0:\n",
    "            return year%400==0\n",
    "        else:\n",
    "            return True\n",
    "    else:\n",
    "        return False\n",
    "leap(2100)    "
   ]
  },
  {
   "cell_type": "code",
   "execution_count": 11,
   "id": "a3a25d08",
   "metadata": {},
   "outputs": [
    {
     "data": {
      "text/plain": [
       "212.0"
      ]
     },
     "execution_count": 11,
     "metadata": {},
     "output_type": "execute_result"
    }
   ],
   "source": [
    "#35 convert celsius to fahrenheit       #def main():\n",
    "def cel_to_fah(temp):                      #celsius = float(input(\"Enter temperature in Celsius: \"))\n",
    "    return temp*1.8 + 32                   #fahrenheit = celsius_to_fahrenheit(celsius)\n",
    "                                           #print(f\"{celsius} degrees Celsius is equal to {fahrenheit} degrees Fahrenheit.\")\n",
    "                                           #if __name__ == \"__main__\":\n",
    "cel_to_fah(100)                                 # main()"
   ]
  },
  {
   "cell_type": "code",
   "execution_count": 13,
   "id": "1247cd63",
   "metadata": {},
   "outputs": [
    {
     "data": {
      "text/plain": [
       "37.77777777777778"
      ]
     },
     "execution_count": 13,
     "metadata": {},
     "output_type": "execute_result"
    }
   ],
   "source": [
    "#36 convert fahrenheit to celsius\n",
    "def fah_to_cel(temp):\n",
    "    return (temp-32)*5/9\n",
    "fah_to_cel(100)"
   ]
  },
  {
   "cell_type": "code",
   "execution_count": 14,
   "id": "3a339943",
   "metadata": {},
   "outputs": [
    {
     "data": {
      "text/plain": [
       "100.0"
      ]
     },
     "execution_count": 14,
     "metadata": {},
     "output_type": "execute_result"
    }
   ],
   "source": [
    "#37 calculate simple interest \n",
    "def simple_interest(p,t,r): #p-principal , t-time, r-rate of interest\n",
    "    return p*t*r/100\n",
    "simple_interest(2000,1,5)"
   ]
  },
  {
   "cell_type": "code",
   "execution_count": 21,
   "id": "b6cc0794",
   "metadata": {},
   "outputs": [
    {
     "data": {
      "text/plain": [
       "'hi hello how re you'"
      ]
     },
     "execution_count": 21,
     "metadata": {},
     "output_type": "execute_result"
    }
   ],
   "source": [
    "#38 remove given character from string\n",
    "def rem(str,c):                                   #remove character single time\n",
    "    a=[]\n",
    "    for x in str:\n",
    "        a.append(x)\n",
    "    a.remove(c)\n",
    "    return ''.join(a)\n",
    "rem('hi hello how are you','a') \n",
    "\n",
    "#result = \"\"\n",
    " #   for c in string:      #remove same character repeated\n",
    "  #      if c != char:\n",
    "   #         result += c\n",
    "    #return result\n"
   ]
  },
  {
   "cell_type": "code",
   "execution_count": 24,
   "id": "705e737a",
   "metadata": {},
   "outputs": [
    {
     "data": {
      "text/plain": [
       "3"
      ]
     },
     "execution_count": 24,
     "metadata": {},
     "output_type": "execute_result"
    }
   ],
   "source": [
    "#39 count occurrence of a given characters in string\n",
    "def count_char(str,a):\n",
    "    count=0\n",
    "    for x in str:\n",
    "        if x==a:\n",
    "            count+=1\n",
    "    return count\n",
    "count_char('hi hello how are you','h')"
   ]
  },
  {
   "cell_type": "code",
   "execution_count": 25,
   "id": "f72b401b",
   "metadata": {},
   "outputs": [],
   "source": [
    "#40 if 2 strings are anagram\n",
    "def anagram(str1,str2):\n",
    "    if len(str1)!=len(str2):\n",
    "        return False\n",
    "    # Create dictionaries to count the frequency of characters\n",
    "    char_count1 = {}\n",
    "    char_count2 = {}\n",
    "\n",
    "    # Count the frequency of characters in string1\n",
    "    for char in str1:\n",
    "        char_count1[char] = char_count1.get(char, 0) + 1\n",
    "\n",
    "    # Count the frequency of characters in string2\n",
    "    for char in str2:\n",
    "        char_count2[char] = char_count2.get(char, 0) + 1\n",
    "\n",
    "    # Check if the character counts are equal\n",
    "    return char_count1 == char_count2\n",
    "  "
   ]
  },
  {
   "cell_type": "code",
   "execution_count": 26,
   "id": "f354d837",
   "metadata": {},
   "outputs": [
    {
     "data": {
      "text/plain": [
       "True"
      ]
     },
     "execution_count": 26,
     "metadata": {},
     "output_type": "execute_result"
    }
   ],
   "source": [
    "#41 check a string is palindrome or not\n",
    "def palin(str):\n",
    "    return str==str[::-1]\n",
    "palin('malayalam')\n",
    "\n",
    "#for i in range(len(str)//2):\n",
    "   #if str[i]!= str[len(str)-1-i]:\n",
    "        #return False\n",
    "       \n",
    "#left=0; right=len(str)-1\n",
    "#while left<right:\n",
    "    #if str[left]!=str[right]:\n",
    "        #return False\n",
    "    #left+=1\n",
    "    #right-=1"
   ]
  },
  {
   "cell_type": "code",
   "execution_count": 27,
   "id": "8e420462",
   "metadata": {},
   "outputs": [
    {
     "data": {
      "text/plain": [
       "'vowel'"
      ]
     },
     "execution_count": 27,
     "metadata": {},
     "output_type": "execute_result"
    }
   ],
   "source": [
    "#42 given character is vowel or consonant\n",
    "def vow_or_con(a):\n",
    "    if a in ['a','e','i','o','u']:\n",
    "        return 'vowel'\n",
    "    else:\n",
    "        return 'consonant'\n",
    "vow_or_con('a')    "
   ]
  },
  {
   "cell_type": "code",
   "execution_count": 29,
   "id": "76d87df0",
   "metadata": {},
   "outputs": [
    {
     "data": {
      "text/plain": [
       "True"
      ]
     },
     "execution_count": 29,
     "metadata": {},
     "output_type": "execute_result"
    }
   ],
   "source": [
    "#43 given character is digit or not using isdigit method\n",
    "def is_digit(a):\n",
    "    return a.isdigit()\n",
    "is_digit('4')"
   ]
  },
  {
   "cell_type": "code",
   "execution_count": 34,
   "id": "ecd6af00",
   "metadata": {},
   "outputs": [
    {
     "data": {
      "text/plain": [
       "True"
      ]
     },
     "execution_count": 34,
     "metadata": {},
     "output_type": "execute_result"
    }
   ],
   "source": [
    "#44 given character is digit or not\n",
    "def iss_digit(a):\n",
    "    for x in a:\n",
    "        \n",
    "        if 0<=ord(x)<=47 or 58<=ord(x)<=127:\n",
    "            return False\n",
    "    \n",
    "        return True\n",
    "iss_digit('345')    "
   ]
  },
  {
   "cell_type": "code",
   "execution_count": 37,
   "id": "0da0009e",
   "metadata": {},
   "outputs": [
    {
     "data": {
      "text/plain": [
       "'hiahelloahowaareayou'"
      ]
     },
     "execution_count": 37,
     "metadata": {},
     "output_type": "execute_result"
    }
   ],
   "source": [
    "#45 replace the string space with a given character\n",
    "def rep_space(str,a):\n",
    "    n=''\n",
    "    for x in str:\n",
    "        if x==' ':\n",
    "            n+=a\n",
    "        else:\n",
    "            n+=x\n",
    "    return n        \n",
    "rep_space('hi hello how are you','a')            "
   ]
  },
  {
   "cell_type": "code",
   "execution_count": 41,
   "id": "51989f0b",
   "metadata": {},
   "outputs": [
    {
     "data": {
      "text/plain": [
       "'hiahelloahowaareayou'"
      ]
     },
     "execution_count": 41,
     "metadata": {},
     "output_type": "execute_result"
    }
   ],
   "source": [
    "#46 replace the string space with a given charcter using replace() method\n",
    "def repp_space(str,a):\n",
    "    return str.replace(' ',a)\n",
    "repp_space('hi hello how are you','a')"
   ]
  },
  {
   "cell_type": "code",
   "execution_count": 42,
   "id": "62f703da",
   "metadata": {},
   "outputs": [
    {
     "data": {
      "text/plain": [
       "'HI HELLO'"
      ]
     },
     "execution_count": 42,
     "metadata": {},
     "output_type": "execute_result"
    }
   ],
   "source": [
    "#47 convert lower case character to uppercase of string\n",
    "def upperr(str):\n",
    "    return str.upper()\n",
    "upperr('hi Hello')"
   ]
  },
  {
   "cell_type": "code",
   "execution_count": 47,
   "id": "7828c981",
   "metadata": {},
   "outputs": [
    {
     "data": {
      "text/plain": [
       "'hI hEllO hOw ArE yOU'"
      ]
     },
     "execution_count": 47,
     "metadata": {},
     "output_type": "execute_result"
    }
   ],
   "source": [
    "#48 convert lower case vowel to uppercase in the string\n",
    "def vow_upper(str):\n",
    "    a=[]\n",
    "    for x in str:\n",
    "        a.append(x)\n",
    "    for i in range(len(a)):\n",
    "        if a[i] in ['a','e','i','o','u']:\n",
    "           a[i]=a[i].upper()\n",
    "    return ''.join(a)\n",
    "vow_upper('hi hello how are you')"
   ]
  },
  {
   "cell_type": "code",
   "execution_count": 49,
   "id": "a1992a1f",
   "metadata": {},
   "outputs": [
    {
     "data": {
      "text/plain": [
       "'h hll hw r y'"
      ]
     },
     "execution_count": 49,
     "metadata": {},
     "output_type": "execute_result"
    }
   ],
   "source": [
    "#49 delete vowels in a given string\n",
    "def del_vow(str):\n",
    "    a=[]\n",
    "    for x in str:\n",
    "        if x in ['a','e','i','o','u']:\n",
    "            continue\n",
    "        else:\n",
    "            a.append(x)\n",
    "    return ''.join(a)\n",
    "del_vow('hi hello how are you')"
   ]
  },
  {
   "cell_type": "code",
   "execution_count": 50,
   "id": "90c272df",
   "metadata": {},
   "outputs": [
    {
     "data": {
      "text/plain": [
       "(8, 12)"
      ]
     },
     "execution_count": 50,
     "metadata": {},
     "output_type": "execute_result"
    }
   ],
   "source": [
    "#50 count the occurence of vowels and consonants in the string\n",
    "def countvowcon(str):\n",
    "    vowels=0\n",
    "    consonants=0\n",
    "    for x in str:\n",
    "        if x in ['a','e','i','o','u']:\n",
    "            vowels+=1\n",
    "        else:\n",
    "            consonants+=1\n",
    "    return vowels,consonants\n",
    "countvowcon('hi hello how are you')"
   ]
  },
  {
   "cell_type": "code",
   "execution_count": 52,
   "id": "e33a5b70",
   "metadata": {},
   "outputs": [
    {
     "data": {
      "text/plain": [
       "' '"
      ]
     },
     "execution_count": 52,
     "metadata": {},
     "output_type": "execute_result"
    }
   ],
   "source": [
    "#51 print the highest frequency character in the string\n",
    "def freq_char(str):\n",
    "    count=0\n",
    "    c=''\n",
    "    for x in str:\n",
    "        if str.count(x)>count:\n",
    "            count=str.count(x)\n",
    "            c=x\n",
    "    return c\n",
    "freq_char('hi hello how are you')"
   ]
  },
  {
   "cell_type": "code",
   "execution_count": null,
   "id": "9294378f",
   "metadata": {},
   "outputs": [],
   "source": []
  }
 ],
 "metadata": {
  "kernelspec": {
   "display_name": "Python 3 (ipykernel)",
   "language": "python",
   "name": "python3"
  },
  "language_info": {
   "codemirror_mode": {
    "name": "ipython",
    "version": 3
   },
   "file_extension": ".py",
   "mimetype": "text/x-python",
   "name": "python",
   "nbconvert_exporter": "python",
   "pygments_lexer": "ipython3",
   "version": "3.8.8"
  }
 },
 "nbformat": 4,
 "nbformat_minor": 5
}
