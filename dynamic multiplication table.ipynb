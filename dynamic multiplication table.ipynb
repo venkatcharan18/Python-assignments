{
 "cells": [
  {
   "cell_type": "code",
   "execution_count": null,
   "id": "46873009",
   "metadata": {},
   "outputs": [],
   "source": [
    "\n",
    "while True:\n",
    "    inp=input('enter number for table. if u dont want please enter stop:')\n",
    "    if inp=='stop':\n",
    "        break\n",
    "    for x in range(1,11):\n",
    "        \n",
    "        inp=int(inp)       \n",
    "    \n",
    "        y= inp*x\n",
    "        print('{} * {} = {} '.format(inp,x,y))\n",
    "    \n",
    "        \n",
    "        \n"
   ]
  },
  {
   "cell_type": "code",
   "execution_count": 4,
   "id": "5ef52da8",
   "metadata": {},
   "outputs": [
    {
     "name": "stdout",
     "output_type": "stream",
     "text": [
      "which table u want bro:7\n",
      "how many values u want to go3\n",
      "7*1=7\n",
      "7*2=14\n",
      "7*3=21\n"
     ]
    }
   ],
   "source": [
    "table=int(input('which table u want bro:'))\n",
    "value=int(input('how many values u want to go'))\n",
    "for y in range(1,value+1):\n",
    "    print('{}*{}={}'.format(table,y,table*y))"
   ]
  },
  {
   "cell_type": "code",
   "execution_count": 7,
   "id": "cde7c431",
   "metadata": {},
   "outputs": [
    {
     "data": {
      "text/plain": [
       "True"
      ]
     },
     "execution_count": 7,
     "metadata": {},
     "output_type": "execute_result"
    }
   ],
   "source": [
    "x='2'\n",
    "x.isdigit()"
   ]
  },
  {
   "cell_type": "code",
   "execution_count": null,
   "id": "67a58407",
   "metadata": {},
   "outputs": [],
   "source": []
  }
 ],
 "metadata": {
  "kernelspec": {
   "display_name": "Python 3 (ipykernel)",
   "language": "python",
   "name": "python3"
  },
  "language_info": {
   "codemirror_mode": {
    "name": "ipython",
    "version": 3
   },
   "file_extension": ".py",
   "mimetype": "text/x-python",
   "name": "python",
   "nbconvert_exporter": "python",
   "pygments_lexer": "ipython3",
   "version": "3.8.8"
  }
 },
 "nbformat": 4,
 "nbformat_minor": 5
}
