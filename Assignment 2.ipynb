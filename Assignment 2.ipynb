{
 "cells": [
  {
   "cell_type": "code",
   "execution_count": 27,
   "id": "aff08158",
   "metadata": {},
   "outputs": [
    {
     "name": "stdout",
     "output_type": "stream",
     "text": [
      "enter 1st number:6\n",
      "enter 2nd number5\n",
      "multiplication is 30\n",
      "division is 1.2\n"
     ]
    }
   ],
   "source": [
    "#multiply and dividsion\n",
    "num1= int(input('enter 1st number:'))\n",
    "num2= int(input('enter 2nd number'))\n",
    "print('multiplication is', num1*num2)\n",
    "print('division is', num1/num2)"
   ]
  },
  {
   "cell_type": "code",
   "execution_count": 22,
   "id": "3b40886c",
   "metadata": {},
   "outputs": [
    {
     "name": "stdout",
     "output_type": "stream",
     "text": [
      "enter a string:abcdefg\n",
      "a\n",
      "c\n",
      "e\n",
      "g\n"
     ]
    }
   ],
   "source": [
    "#print chars in even index\n",
    "string =input('enter a string:')\n",
    "for x in range(0,len(string)):\n",
    "    if x%2==0:\n",
    "        print(string[x])\n",
    "        "
   ]
  },
  {
   "cell_type": "code",
   "execution_count": 24,
   "id": "e911c34a",
   "metadata": {},
   "outputs": [
    {
     "name": "stdout",
     "output_type": "stream",
     "text": [
      "enter a string:efaeve\n",
      "fee\n"
     ]
    }
   ],
   "source": [
    "#print chars in odd\n",
    "string = input('enter a string:')\n",
    "a=0\n",
    "b=''\n",
    "while a<len(string):\n",
    "    if a%2!=0:\n",
    "        b=b+string[a]\n",
    "    a+=1   \n",
    "print(b)    "
   ]
  },
  {
   "cell_type": "code",
   "execution_count": 28,
   "id": "8111da2b",
   "metadata": {},
   "outputs": [
    {
     "name": "stdout",
     "output_type": "stream",
     "text": [
      "enter 1st number:34\n",
      "enter 2nd number:22\n",
      "sum is 56\n"
     ]
    }
   ],
   "source": [
    "#if 2 no's are even\n",
    "num3= int(input('enter 1st number:'))\n",
    "num4= int(input('enter 2nd number:'))\n",
    "if num3%2==0 and num4%2==0:\n",
    "    print('sum is',num3+num4)\n",
    "else:\n",
    "    print('sub is',num3-num4)"
   ]
  },
  {
   "cell_type": "code",
   "execution_count": 29,
   "id": "16f9b82a",
   "metadata": {},
   "outputs": [
    {
     "name": "stdout",
     "output_type": "stream",
     "text": [
      "enter the string:hwbv\n"
     ]
    },
    {
     "data": {
      "text/plain": [
       "'HwBv'"
      ]
     },
     "execution_count": 29,
     "metadata": {},
     "output_type": "execute_result"
    }
   ],
   "source": [
    "#even indexed to upper and odd to lower\n",
    "st=input('enter the string:')\n",
    "s=''\n",
    "for x in range(0,len(st)):\n",
    "    if x%2==0:\n",
    "        s=s+ st[x].upper()\n",
    "    else:\n",
    "        s=s+ st[x].lower()\n",
    "s        "
   ]
  },
  {
   "cell_type": "code",
   "execution_count": 12,
   "id": "ce35bdd5",
   "metadata": {},
   "outputs": [
    {
     "name": "stdout",
     "output_type": "stream",
     "text": [
      "enter the number:90\n",
      "True\n"
     ]
    }
   ],
   "source": [
    "#no is divisible by 5\n",
    "num5=int(input('enter the number:'))\n",
    "if num5%5==0:\n",
    "    print(True)\n",
    "else:\n",
    "    print(False)"
   ]
  },
  {
   "cell_type": "code",
   "execution_count": 13,
   "id": "2618efb0",
   "metadata": {},
   "outputs": [
    {
     "name": "stdout",
     "output_type": "stream",
     "text": [
      "enter 1st number:43\n",
      "enter 2nd number:25\n",
      "1075\n"
     ]
    }
   ],
   "source": [
    "#mul of 2 no's > 1000\n",
    "num6=int(input('enter 1st number:'))\n",
    "num7= int(input('enter 2nd number:'))\n",
    "if num6*num7>1000:\n",
    "    print(num6*num7)\n",
    "else:\n",
    "    print(num6+num7)"
   ]
  },
  {
   "cell_type": "code",
   "execution_count": 17,
   "id": "4176e63a",
   "metadata": {},
   "outputs": [
    {
     "name": "stdout",
     "output_type": "stream",
     "text": [
      "enter 1st stringauheb\n",
      "enter 2nd stringfdfff\n"
     ]
    },
    {
     "data": {
      "text/plain": [
       "'afhfbf'"
      ]
     },
     "execution_count": 17,
     "metadata": {},
     "output_type": "execute_result"
    }
   ],
   "source": [
    "#1st, middle and last chars\n",
    "x=input('enter 1st string')\n",
    "y=input('enter 2nd string')\n",
    "newstr=x[0]+y[0]+x[len(y)//2]+y[len(x)//2]+x[-1]+y[-1]\n",
    "\n",
    "newstr"
   ]
  },
  {
   "cell_type": "code",
   "execution_count": 34,
   "id": "0668efb0",
   "metadata": {},
   "outputs": [
    {
     "name": "stdout",
     "output_type": "stream",
     "text": [
      "enter the string:\n",
      "  @media print {\n",
      "    .ms-editor-squiggles-container {\n",
      "      display:none !important;\n",
      "    }\n",
      "  }\n",
      "  .ms-editor-squiggles-container {\n",
      "    all: initial;\n",
      "  }abcd efgh ijkl\n",
      "Name1:- abcd \n",
      "Name2:- efgh \n",
      "Name3:- ijkl\n"
     ]
    }
   ],
   "source": [
    "#print names\n",
    "c=input('enter the string:')\n",
    "a=c.split(' ')\n",
    "print('Name1:-',a[0], '\\nName2:-',a[1], '\\nName3:-',a[2])"
   ]
  },
  {
   "cell_type": "code",
   "execution_count": 45,
   "id": "13ad6502",
   "metadata": {},
   "outputs": [
    {
     "name": "stdout",
     "output_type": "stream",
     "text": [
      "enter the word:vivek\n"
     ]
    },
    {
     "data": {
      "text/plain": [
       "'vi@ek'"
      ]
     },
     "execution_count": 45,
     "metadata": {},
     "output_type": "execute_result"
    }
   ],
   "source": [
    "#change char to @ except 1st occurence\n",
    "a=input('enter the word:')\n",
    "c=a[1:]\n",
    "b=a[0]\n",
    "for x in range(0,len(c)):\n",
    "    if c[x]==a[0]:\n",
    "        b=b+'@'\n",
    "    else:\n",
    "        b+=c[x]\n",
    "b\n",
    "   "
   ]
  },
  {
   "cell_type": "code",
   "execution_count": 52,
   "id": "b30bd11c",
   "metadata": {},
   "outputs": [
    {
     "name": "stdout",
     "output_type": "stream",
     "text": [
      "enter the string:playing\n",
      "playly\n"
     ]
    }
   ],
   "source": [
    "# add 'ing' at end of string, if already 'ing' add 'ly'\n",
    "h=input('enter the string:')\n",
    "i=''\n",
    "if len(h)<3:\n",
    "    print(h)\n",
    "else:\n",
    "    if h[-3:]=='ing':\n",
    "        i = h[0:len(h)-3] + 'ly'\n",
    "    elif h[-3:]!='ing':\n",
    "        i = h + 'ing'\n",
    "    else:\n",
    "        print(h)\n",
    "print(i)        \n",
    "       "
   ]
  },
  {
   "cell_type": "code",
   "execution_count": 46,
   "id": "5ea4f661",
   "metadata": {},
   "outputs": [
    {
     "name": "stdout",
     "output_type": "stream",
     "text": [
      "enter 1st Number: 3\n",
      "enter 2nd Number: 7\n",
      "True\n"
     ]
    }
   ],
   "source": [
    "#if any no is 10 or sum=10 print true\n",
    "num8=int(input(\"enter 1st Number: \"))\n",
    "num9=int(input(\"enter 2nd Number: \"))\n",
    "if num8==10 or num9==10 or num8+num9==10:\n",
    "    print(True)\n",
    "else:\n",
    "    print(False)"
   ]
  },
  {
   "cell_type": "code",
   "execution_count": 47,
   "id": "298546c1",
   "metadata": {},
   "outputs": [
    {
     "name": "stdout",
     "output_type": "stream",
     "text": [
      "Give 1st Number: 4\n",
      "Give 2nd Number: 5\n",
      "Give 3rd Number: 6\n",
      "True\n"
     ]
    }
   ],
   "source": [
    "#a*b>c print true\n",
    "n=int(input(\"Give 1st Number: \"))\n",
    "nu=int(input(\"Give 2nd Number: \"))\n",
    "num=int(input(\"Give 3rd Number: \"))\n",
    "if n*nu>num:\n",
    "    print(True)\n",
    "else:\n",
    "    print(False)"
   ]
  },
  {
   "cell_type": "code",
   "execution_count": 48,
   "id": "eb67ab2f",
   "metadata": {},
   "outputs": [
    {
     "name": "stdout",
     "output_type": "stream",
     "text": [
      "enter 1st string:wvdf\n",
      "enter 2nd string:vdsv\n",
      "True\n"
     ]
    }
   ],
   "source": [
    "# both strings have equal no of chars\n",
    "e=input('enter 1st string:')\n",
    "f=input('enter 2nd string:')\n",
    "if len(e)==len(f):\n",
    "    print(True)\n",
    "else:\n",
    "    print(False)"
   ]
  },
  {
   "cell_type": "code",
   "execution_count": null,
   "id": "53aa1d8d",
   "metadata": {},
   "outputs": [],
   "source": []
  }
 ],
 "metadata": {
  "kernelspec": {
   "display_name": "Python 3 (ipykernel)",
   "language": "python",
   "name": "python3"
  },
  "language_info": {
   "codemirror_mode": {
    "name": "ipython",
    "version": 3
   },
   "file_extension": ".py",
   "mimetype": "text/x-python",
   "name": "python",
   "nbconvert_exporter": "python",
   "pygments_lexer": "ipython3",
   "version": "3.8.8"
  }
 },
 "nbformat": 4,
 "nbformat_minor": 5
}
