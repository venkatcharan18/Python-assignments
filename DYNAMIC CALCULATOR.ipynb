{
 "cells": [
  {
   "cell_type": "code",
   "execution_count": null,
   "id": "8214e97a",
   "metadata": {},
   "outputs": [],
   "source": [
    "\n",
    "\n",
    "\n",
    "inp = input('enter start to start:')\n",
    "if inp!='start':\n",
    "    print('invalid input')\n",
    "else:    \n",
    "    \n",
    "    while True:\n",
    "        num1=int(input('enter 1st number:'))\n",
    "        op = input('enter operator:')\n",
    "        num2 = int(input('enter 2nd number +,-,/,//,*,**,%:'))\n",
    "        if op=='+':\n",
    "            print(num1+num2)\n",
    "        elif op=='-':\n",
    "            print(num1-num2)\n",
    "        elif op=='*':\n",
    "            print(num1*num2)\n",
    "        elif op=='**':    \n",
    "            print(num1**num2)\n",
    "        elif op=='/':\n",
    "            print(num1/num2)\n",
    "        elif op=='//':    \n",
    "            print(num1//num2)\n",
    "        elif op=='%':\n",
    "            print(num1%num2)\n",
    "        else:\n",
    "            print('invalid operation enter valid numbers and operators')\n",
    "        i = input('again start or stop:')\n",
    "        if i=='start':\n",
    "            continue\n",
    "        elif i=='stop':\n",
    "            break\n",
    "        else:\n",
    "            print('invalid input')\n",
    "    "
   ]
  },
  {
   "cell_type": "code",
   "execution_count": null,
   "id": "0ce2d414",
   "metadata": {},
   "outputs": [],
   "source": []
  },
  {
   "cell_type": "code",
   "execution_count": null,
   "id": "47d62776",
   "metadata": {},
   "outputs": [],
   "source": []
  }
 ],
 "metadata": {
  "kernelspec": {
   "display_name": "Python 3 (ipykernel)",
   "language": "python",
   "name": "python3"
  },
  "language_info": {
   "codemirror_mode": {
    "name": "ipython",
    "version": 3
   },
   "file_extension": ".py",
   "mimetype": "text/x-python",
   "name": "python",
   "nbconvert_exporter": "python",
   "pygments_lexer": "ipython3",
   "version": "3.8.8"
  }
 },
 "nbformat": 4,
 "nbformat_minor": 5
}
